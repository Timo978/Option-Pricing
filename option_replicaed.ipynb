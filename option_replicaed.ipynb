{
 "cells": [
  {
   "cell_type": "markdown",
   "source": [
    "# 基本逻辑\n",
    "\n",
    "1. 复制原理的内在逻辑：投资的**期望收益相同时，其投资成本也是相同**\n",
    "\n",
    "2. 构造一个投资组合，股价上升时，投资组合的到期收益与期权的到期收入完全相同；股价下降时，投资组合的到期收益与期权的到期收入也完全相同，那么投资组合的成本就是期权的价格。\n",
    "\n",
    "\n",
    "4. 如何构造这个投资组合，最简单的形式就是构建一个二元未知数方程，即$y=a*x-b*（1+r）$。其中x就是股价，是一个自变量，b是一个常量，很明显b更符合借款本金的形式，r是期限内无风险利率\n",
    "\n",
    "5. 假定借入本金为b，购入股票数量为a股，初始时，购入股票所支付的资金等于自有资金+借入的借款本金。期限内无风险利率为r。其中自有资金就是投资组合成本，也就是期权的价格，也是我们最终求的结果。\n",
    "\n",
    "6. 在股价上升和下降两种情形下，分别构建方程，分别求a和b，再用a*股价-b从而得到自有资金金额，即得到看涨期权的价格\n",
    "\n",
    "> 复制组合由underlying和无风险资产组成，以上面为例：如果是多头underlying，则需要借入资金购入此资产。到期收益为underlying端减去借入的本金+利息\n",
    "\n",
    "[原文链接](https://zhuanlan.zhihu.com/p/354474306)"
   ],
   "metadata": {
    "collapsed": false,
    "pycharm": {
     "name": "#%% md\n"
    }
   }
  },
  {
   "cell_type": "markdown",
   "source": [
    "# 模拟过程\n",
    "假设ABC公司的股票现在的市价为50元。有1股以该股票为标的资产的看涨期权，执行价格为52.08元，到期时间是6个月。蒙卡模拟10000次，拟建立一个投资组合，包括购进适量的股票以及借入必要的款项，使得该组合6个月后的价值与购进该看涨期权的价值相等。\n",
    "\n",
    "假定购进股票数量为a，借入本金为b\n",
    "\n",
    "## 股价上升\n",
    "$$a * S_T - b * (1 + r_f) = S_T - K$$\n",
    "\n",
    "## 股价下跌\n",
    "$$a * S_T - b * (1 + r_f) = 0$$"
   ],
   "metadata": {
    "collapsed": false,
    "pycharm": {
     "name": "#%% md\n"
    }
   }
  },
  {
   "cell_type": "code",
   "execution_count": 1,
   "outputs": [],
   "source": [
    "import numpy as np\n",
    "import sympy as sp\n",
    "from exotic_pricing_HX import ExoticPricing\n",
    "from py_vollib_vectorized import vectorized_black_scholes\n",
    "import matplotlib.pyplot as plt\n",
    "\n",
    "%matplotlib notebook"
   ],
   "metadata": {
    "collapsed": false,
    "pycharm": {
     "name": "#%%\n"
    }
   }
  },
  {
   "cell_type": "code",
   "execution_count": 4,
   "outputs": [],
   "source": [
    "S0 = 50\n",
    "K = 52.08\n",
    "T = 0.5\n",
    "r = 0.05\n",
    "sigma = 0.3\n",
    "npath = 91\n"
   ],
   "metadata": {
    "collapsed": false,
    "pycharm": {
     "name": "#%%\n"
    }
   }
  },
  {
   "cell_type": "code",
   "execution_count": 5,
   "outputs": [],
   "source": [
    "MC = ExoticPricing(S0=S0,\n",
    "                             K=K,\n",
    "                             T=T,\n",
    "                             r=r,\n",
    "                             sigma=sigma,\n",
    "                             simulation_rounds=int(10000),\n",
    "                             npath=npath,\n",
    "                             # fix_random_seed=True,\n",
    "                             fix_random_seed=500)"
   ],
   "metadata": {
    "collapsed": false,
    "pycharm": {
     "name": "#%%\n"
    }
   }
  },
  {
   "cell_type": "code",
   "execution_count": 6,
   "outputs": [
    {
     "name": "stdout",
     "output_type": "stream",
     "text": [
      "----------------------------------------------------------------\n",
      " Number of simulations 10000 \n",
      " S0 50.0 \n",
      " K 52.1 \n",
      " Maximum Stock price 86.82 \n",
      " Minimum Stock price 30.07 \n",
      " Average stock price 51.391 \n",
      " Standard Error 1.16428 \n",
      "----------------------------------------------------------------\n"
     ]
    },
    {
     "data": {
      "text/plain": "array([42.55654864, 52.49073012, 50.23265257, 45.43368546, 51.46735746,\n       50.35009231, 64.61543115, 66.92222128, 54.29097697, 47.3177351 ,\n       45.59999388, 54.88396855, 41.60317809, 60.19839901, 49.87798731,\n       45.86376702, 43.36023955, 62.63325257, 54.30805445, 54.17073864,\n       54.20538849, 73.74140062, 65.88491512, 68.48843113, 57.18323906,\n       56.02432557, 68.16513254, 50.35578057, 40.31303461, 68.11773334,\n       86.8249619 , 46.42636464, 67.31998741, 72.57022714, 48.6451115 ,\n       66.76939368, 86.17929481, 43.19477888, 51.41584763, 48.95097433,\n       38.49488492, 40.45747167, 58.66088104, 48.39023839, 42.37567447,\n       44.09598839, 47.76945813, 42.67943236, 45.00367057, 36.20963594,\n       45.83898887, 59.48069247, 68.0112462 , 47.08308275, 50.97821812,\n       51.39325733, 48.02914048, 43.96914877, 35.97651321, 46.52700714,\n       54.86645122, 41.26781486, 60.29587679, 36.18141059, 41.98073718,\n       61.90701213, 46.91741872, 51.25933888, 72.73877457, 43.0646091 ,\n       50.85151034, 30.07115528, 40.66455276, 46.72497336, 64.1533636 ,\n       43.70163359, 39.24011583, 32.46987248, 50.55006904, 40.04017323,\n       54.82130202, 53.63889922, 47.80494201, 45.7423971 , 44.82387868,\n       37.6881818 , 35.32127231, 44.15895763, 48.99669075, 50.25873293,\n       63.98478104])"
     },
     "execution_count": 6,
     "metadata": {},
     "output_type": "execute_result"
    }
   ],
   "source": [
    "MC.stock_price_simulation()\n",
    "ST = MC.terminal_prices\n",
    "ST"
   ],
   "metadata": {
    "collapsed": false,
    "pycharm": {
     "name": "#%%\n"
    }
   }
  },
  {
   "cell_type": "code",
   "execution_count": 7,
   "outputs": [],
   "source": [
    "ST1 = (ST[ST > K]).mean()\n",
    "ST2 = (ST[ST <= K]).mean()"
   ],
   "metadata": {
    "collapsed": false,
    "pycharm": {
     "name": "#%%\n"
    }
   }
  },
  {
   "cell_type": "code",
   "execution_count": 8,
   "outputs": [
    {
     "name": "stdout",
     "output_type": "stream",
     "text": [
      "需要借入25.5166491403882单位现金，并买入0.600445709889231份标的\n"
     ]
    }
   ],
   "source": [
    "a = sp.Symbol('a')\n",
    "b = sp.Symbol('b')\n",
    "result = sp.solve([a * ST1 - b * (1 + r) - (ST1 - K), a * ST2 - b * (1 + r)],[a,b])\n",
    "print(f'需要借入{result[b]}单位现金，并买入{result[a]}份标的')"
   ],
   "metadata": {
    "collapsed": false,
    "pycharm": {
     "name": "#%%\n"
    }
   }
  },
  {
   "cell_type": "code",
   "execution_count": 9,
   "outputs": [
    {
     "data": {
      "text/plain": "4.505636354073321"
     },
     "execution_count": 9,
     "metadata": {},
     "output_type": "execute_result"
    }
   ],
   "source": [
    "portfolio_cost = float(result[a] * S0 - result[b])\n",
    "portfolio_cost"
   ],
   "metadata": {
    "collapsed": false,
    "pycharm": {
     "name": "#%%\n"
    }
   }
  },
  {
   "cell_type": "code",
   "execution_count": 10,
   "outputs": [
    {
     "data": {
      "text/plain": "      Price\n0  3.871667",
      "text/html": "<div>\n<style scoped>\n    .dataframe tbody tr th:only-of-type {\n        vertical-align: middle;\n    }\n\n    .dataframe tbody tr th {\n        vertical-align: top;\n    }\n\n    .dataframe thead th {\n        text-align: right;\n    }\n</style>\n<table border=\"1\" class=\"dataframe\">\n  <thead>\n    <tr style=\"text-align: right;\">\n      <th></th>\n      <th>Price</th>\n    </tr>\n  </thead>\n  <tbody>\n    <tr>\n      <th>0</th>\n      <td>3.871667</td>\n    </tr>\n  </tbody>\n</table>\n</div>"
     },
     "execution_count": 10,
     "metadata": {},
     "output_type": "execute_result"
    }
   ],
   "source": [
    "vectorized_black_scholes('c',S0,K,T,r,sigma)"
   ],
   "metadata": {
    "collapsed": false,
    "pycharm": {
     "name": "#%%\n"
    }
   }
  },
  {
   "cell_type": "code",
   "execution_count": null,
   "outputs": [],
   "source": [],
   "metadata": {
    "collapsed": false,
    "pycharm": {
     "name": "#%%\n"
    }
   }
  }
 ],
 "metadata": {
  "kernelspec": {
   "display_name": "Python 3",
   "language": "python",
   "name": "python3"
  },
  "language_info": {
   "codemirror_mode": {
    "name": "ipython",
    "version": 2
   },
   "file_extension": ".py",
   "mimetype": "text/x-python",
   "name": "python",
   "nbconvert_exporter": "python",
   "pygments_lexer": "ipython2",
   "version": "2.7.6"
  }
 },
 "nbformat": 4,
 "nbformat_minor": 0
}