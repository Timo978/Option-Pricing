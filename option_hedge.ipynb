{
 "cells": [
  {
   "cell_type": "markdown",
   "source": [
    "一个普通欧式期权，在期末期权买方的现金流是：max（S-K，0）。这导致了一个问题：期权的未来现金流是不确定的（各位可以参照看看债券的定价，其未来的现金流就是确认的）。不确定的现金流，为定价带来了困难\n",
    "\n",
    "在期权定价中，为了解决第一个定价核心（现金流确认），我们需要引入：**概率**。即未来某个时刻标的价格S大于执行价K的概率\n",
    "\n",
    "站在某个时点看，S在下一个时点可能出现的结果是无穷多的。于是，我们可以通过引入一个<font color = red>关于S的微小（时间）变动</font>，规定其波动的\n",
    "度但不规定其走向，从而解决标的S的随机波动问题\n",
    "\n",
    "为了确认现金流，我们引入了概率。但是引入概率会为第二个定价核心带来新的问题：由于随机源（即S的变动方向）的存在，使得在期权范畴中的一价定律无法施展。\n",
    "\n",
    "随机源导致一价定律无法施展，那么反过来想，只要随机源被消除了，那么一价定律就是可以用了,通过对冲，把S的随机项消除掉，从而使得一价定律可用\n",
    "\n",
    "期权中的一价定律的运用，就是在对冲过后，剩下的收益，只能是无风险的。\n",
    "$$\\frac{1}{2} \\operatorname{\\Gamma}\\left(dS\\right)^2+$ \\Theta dt +\n",
    "\\sigma_{IV}Vega$=r \\pi dt$$\n",
    "> BSM框架下不存在Vega项，因为假设了IV恒定\n",
    "\n",
    "而Theta又近似等于：\n",
    "$$Theta \\approx \\frac{1}{2} \\Gamma \\sigma_{IV}^2 S_t^2 $$\n",
    "> 这里的$\\sigma_{IV}$是购入/卖出期权时，对应的IV\n",
    "\n",
    "所以：\n",
    "$$\\Delta PnL = \\frac{1}{2} S^2 \\Gamma ((\\frac{\\Delta S}{S})^2 - \\sigma_{IV}^2 \\Delta t) + \\Delta \\sigma_{IV} * Vega$$\n",
    "$$ = \\frac{1}{2} S^2 \\Gamma( (\\frac{\\Delta S}{S})^2 / \\Delta t - \\sigma_{IV}^2 ) + \\Delta \\sigma_{IV} * Vega$$\n",
    "$$ = \\frac{1}{2} S^2 \\Gamma (RV^2 - \\sigma_{IV}^2 ) + \\Delta \\sigma_{IV} * Vega$$\n",
    "> 需注意的是，这里的波动率和时间都是**年化值**\n",
    "\n",
    "如果再加上Vega的话，Vega和Gamma之间有：\n",
    "$$ Vega = \\Gamma \\sigma_{IV} S^2 * TTM$$\n",
    "这个公式意味着Gamma和Vega的正负号一致。在**Vega相等**的前提下，**到期日越近**Gamma越大、IV越低Gamma越大；在**相等Gamma**的前提下，到期日越远或IV越高的时候，Vega就越大\n",
    "\n",
    "将此式代入后，期权的pnl变为：\n",
    "$$\\Delta PnL = Vega (RV - IV)\\Delta t/T$$\n",
    "> 这里的T不是到期时间，而是一段时间间隔\n",
    "\n",
    "所以从期初到现在的**平均**$Cumulative PnL = \\sum{\\Delta PnL} = Vega * (RV-IV)$\n"
   ],
   "metadata": {
    "collapsed": false,
    "pycharm": {
     "name": "#%% md\n"
    }
   }
  },
  {
   "cell_type": "code",
   "execution_count": null,
   "outputs": [],
   "source": [
    "import numpy as np\n",
    "import pandas as pd\n",
    "from monte_carlo.monte_carlo_class1 import MonteCarloOptionPricing\n",
    "from py_vollib_vectorized import vectorized_black_scholes,get_all_greeks\n",
    "import matplotlib.pyplot as plt\n",
    "%matplotlib notebook"
   ],
   "metadata": {
    "collapsed": false,
    "pycharm": {
     "name": "#%%\n"
    }
   }
  },
  {
   "cell_type": "code",
   "execution_count": null,
   "outputs": [],
   "source": [
    "S0 = 50  # e.g. spot price = 35\n",
    "K = 52.08  # e.g. exercise price = 40\n",
    "T = 0.5  # e.g. one year\n",
    "r = 0.05  # e.g. risk free rate = 1%\n",
    "sigma = 0.3  # e.g. volatility = 5%\n",
    "div_yield = 0.0  # e.g. dividend yield = 1%\n",
    "no_of_slice = 91  # no. of slices PER YEAR e.g. quarterly adjusted"
   ],
   "metadata": {
    "collapsed": false,
    "pycharm": {
     "name": "#%%\n"
    }
   }
  },
  {
   "cell_type": "code",
   "execution_count": null,
   "outputs": [],
   "source": [
    "MC = MonteCarloOptionPricing(S0=S0,\n",
    "                             K=K,\n",
    "                             T=T,\n",
    "                             r=r,\n",
    "                             sigma=sigma,\n",
    "                             div_yield=div_yield,\n",
    "                             simulation_rounds=int(10000),\n",
    "                             no_of_slices=no_of_slice,\n",
    "                             # fix_random_seed=True,\n",
    "                             fix_random_seed=500)"
   ],
   "metadata": {
    "collapsed": false,
    "pycharm": {
     "name": "#%%\n"
    }
   }
  },
  {
   "cell_type": "code",
   "execution_count": null,
   "outputs": [],
   "source": [
    "MC.stock_price_simulation()\n",
    "price_array = MC.price_array\n",
    "\n",
    "plt.figure(figsize=(10, 6))\n",
    "for i in (range(len(price_array))):\n",
    "    plt.plot(price_array[i,:])\n",
    "\n",
    "plt.title('MC')\n",
    "plt.xlabel('period')\n",
    "plt.ylabel('St')\n",
    "\n",
    "plt.show()"
   ],
   "metadata": {
    "collapsed": false,
    "pycharm": {
     "name": "#%%\n"
    }
   }
  },
  {
   "cell_type": "code",
   "execution_count": null,
   "outputs": [],
   "source": [
    "nohedge_pnl = np.zeros([10000,1])\n",
    "hedge_pnl = np.zeros([10000,1])\n",
    "for i in range(len(price_array)):\n",
    "    price = price_array[i,:]\n",
    "    option_price = vectorized_black_scholes('c',price,K,T,r,sigma)\n",
    "    option_greeks = get_all_greeks('c',price,K,T,r,sigma)\n",
    "    df = pd.DataFrame((price),columns=['s'])\n",
    "    df = pd.concat([df,option_price,option_greeks],axis=1)\n",
    "\n",
    "    nohedge = (option_price - option_price.shift()).sum()['Price']\n",
    "    nohedge_pnl[i] = nohedge\n",
    "\n",
    "    hedge = []\n",
    "    for j in range(1,len(df)):\n",
    "        hedge.append(0.5 * (df.loc[j,'gamma'] + df.loc[j-1,'gamma']) * 0.5 * (df.loc[j,'s'] - df.loc[j-1,'s'])**2 + df.loc[j-1,'theta'])\n",
    "    hedge_pnl[i] = sum(hedge)"
   ],
   "metadata": {
    "collapsed": false,
    "pycharm": {
     "name": "#%%\n"
    }
   }
  },
  {
   "cell_type": "code",
   "execution_count": null,
   "outputs": [],
   "source": [
    "nohedge_pnl"
   ],
   "metadata": {
    "collapsed": false,
    "pycharm": {
     "name": "#%%\n"
    }
   }
  },
  {
   "cell_type": "code",
   "execution_count": null,
   "outputs": [],
   "source": [
    "hedge_pnl"
   ],
   "metadata": {
    "collapsed": false,
    "pycharm": {
     "name": "#%%\n"
    }
   }
  },
  {
   "cell_type": "code",
   "execution_count": null,
   "outputs": [],
   "source": [
    "fig = plt.figure(figsize=(8,5))\n",
    "fig.add_subplot(1,2,1)\n",
    "plt.hist(nohedge_pnl,label='no hedge pnl')\n",
    "fig.add_subplot(1,2,2)\n",
    "plt.hist(hedge_pnl,label='hedged pnl')"
   ],
   "metadata": {
    "collapsed": false,
    "pycharm": {
     "name": "#%%\n"
    }
   }
  },
  {
   "cell_type": "markdown",
   "source": [
    "可发现在对冲过后，pnl的分布开始向正态分布靠拢，相当于把未对冲情况下的pnl的分布**平摊**到了整个x轴上"
   ],
   "metadata": {
    "collapsed": false,
    "pycharm": {
     "name": "#%% md\n"
    }
   }
  },
  {
   "cell_type": "code",
   "execution_count": 16,
   "outputs": [],
   "source": [],
   "metadata": {
    "collapsed": false,
    "pycharm": {
     "name": "#%%\n"
    }
   }
  }
 ],
 "metadata": {
  "kernelspec": {
   "display_name": "Python 3",
   "language": "python",
   "name": "python3"
  },
  "language_info": {
   "codemirror_mode": {
    "name": "ipython",
    "version": 2
   },
   "file_extension": ".py",
   "mimetype": "text/x-python",
   "name": "python",
   "nbconvert_exporter": "python",
   "pygments_lexer": "ipython2",
   "version": "2.7.6"
  }
 },
 "nbformat": 4,
 "nbformat_minor": 0
}