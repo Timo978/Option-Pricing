{
 "cells": [
  {
   "cell_type": "markdown",
   "metadata": {
    "collapsed": false,
    "pycharm": {
     "name": "#%% md\n"
    }
   },
   "source": [
    "dynamic heding CH16 最后的例子：\n",
    "买入一个ttm为1个月虚值call并使用标的等量对冲，标的价格在存续期间缓慢上涨至平值水平"
   ]
  },
  {
   "cell_type": "code",
   "execution_count": 1,
   "metadata": {
    "collapsed": false,
    "pycharm": {
     "name": "#%%\n"
    }
   },
   "outputs": [],
   "source": [
    "import numpy as np\n",
    "import pandas as pd\n",
    "from py_vollib_vectorized import vectorized_black_scholes_merton,get_all_greeks\n",
    "import matplotlib.pyplot as plt\n",
    "\n",
    "%matplotlib inline"
   ]
  },
  {
   "cell_type": "code",
   "execution_count": 2,
   "metadata": {
    "collapsed": false,
    "pycharm": {
     "name": "#%%\n"
    }
   },
   "outputs": [],
   "source": [
    "s0 = 100\n",
    "k = 104\n",
    "t = 30/252\n",
    "sigma = 0.15\n",
    "ds = 0.013\n",
    "\n",
    "price_array = np.arange(100,104,4/30)\n",
    "ttm = np.arange(t-1/252,-1/252,-1/252)\n",
    "option_price = vectorized_black_scholes_merton('c',price_array,k,ttm,0.03,sigma,0,return_as='array')\n",
    "delta = get_all_greeks('c',price_array,k,ttm,0.03,sigma,0,return_as='array')['delta']\n",
    "option_prof = np.diff(option_price)\n",
    "\n",
    "underlying_diff = np.diff(price_array)\n",
    "hedging_num = np.diff(delta)\n",
    "hedge_pnl = -hedging_num * underlying_diff"
   ]
  },
  {
   "cell_type": "code",
   "execution_count": 3,
   "metadata": {
    "collapsed": false,
    "pycharm": {
     "name": "#%%\n"
    }
   },
   "outputs": [],
   "source": [
    "total_pnl = np.zeros([2,29])\n",
    "total_pnl[0,:] = hedge_pnl\n",
    "total_pnl[1,:] = option_prof"
   ]
  },
  {
   "cell_type": "code",
   "execution_count": 4,
   "metadata": {
    "collapsed": false,
    "pycharm": {
     "name": "#%%\n"
    }
   },
   "outputs": [
    {
     "data": {
      "text/plain": [
       "array([[-4.83190323e-04, -4.93804849e-04, -5.04916202e-04,\n",
       "        -5.16566306e-04, -5.28802206e-04, -5.41676877e-04,\n",
       "        -5.55250203e-04, -5.69590141e-04, -5.84774131e-04,\n",
       "        -6.00890790e-04, -6.18041968e-04, -6.36345234e-04,\n",
       "        -6.55936881e-04, -6.76975523e-04, -6.99646352e-04,\n",
       "        -7.24165984e-04, -7.50787624e-04, -7.79805615e-04,\n",
       "        -8.11557002e-04, -8.46414139e-04, -8.84753436e-04,\n",
       "        -9.26861557e-04, -9.72672811e-04, -1.02101877e-03,\n",
       "        -1.06730520e-03, -1.09518717e-03, -1.03818898e-03,\n",
       "        -4.88312925e-04,  5.32801344e-02],\n",
       "       [ 2.35284358e-03,  2.02722029e-03,  1.67154270e-03,\n",
       "         1.28256528e-03,  8.56565682e-04,  3.89252460e-04,\n",
       "        -1.24349675e-04, -6.90044089e-04, -1.31464512e-03,\n",
       "        -2.00621256e-03, -2.77435563e-03, -3.63063238e-03,\n",
       "        -4.58908156e-03, -5.66694232e-03, -6.88564513e-03,\n",
       "        -8.27220341e-03, -9.86121173e-03, -1.16977896e-02,\n",
       "        -1.38420477e-02, -1.63761037e-02, -1.94155609e-02,\n",
       "        -2.31292475e-02, -2.77752938e-02, -3.37723891e-02,\n",
       "        -4.18556440e-02, -5.34694446e-02, -7.19943669e-02,\n",
       "        -1.08362091e-01, -2.77442524e-01]])"
      ]
     },
     "execution_count": 4,
     "metadata": {},
     "output_type": "execute_result"
    }
   ],
   "source": [
    "total_pnl"
   ]
  },
  {
   "cell_type": "markdown",
   "metadata": {
    "collapsed": false,
    "pycharm": {
     "name": "#%% md\n"
    }
   },
   "source": [
    "期初买入call，卖出现货进行对冲。在标的上涨时，期权delta升高，需卖出更多现货，故而现货端产生了更多的亏损。与此同时，由于到期日的临近，<mark>期权多头theta亏损变大，gamma部分的收益不再能cover住</mark>（此例假设iv不变，所以没有vega损益）"
   ]
  },
  {
   "cell_type": "code",
   "execution_count": null,
   "metadata": {
    "collapsed": false,
    "pycharm": {
     "name": "#%%\n"
    }
   },
   "outputs": [],
   "source": []
  }
 ],
 "metadata": {
  "kernelspec": {
   "display_name": "Python 3.9.7 ('base')",
   "language": "python",
   "name": "python3"
  },
  "language_info": {
   "codemirror_mode": {
    "name": "ipython",
    "version": 3
   },
   "file_extension": ".py",
   "mimetype": "text/x-python",
   "name": "python",
   "nbconvert_exporter": "python",
   "pygments_lexer": "ipython3",
   "version": "3.9.7"
  },
  "vscode": {
   "interpreter": {
    "hash": "dd63ec104300d88c6bebfc3c71d8b08e6119dab609a29ff72b67f08e17f1f73c"
   }
  }
 },
 "nbformat": 4,
 "nbformat_minor": 0
}