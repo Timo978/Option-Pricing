{
 "cells": [
  {
   "cell_type": "markdown",
   "source": [
    "dynamic heding CH16 最后的例子：\n",
    "买入一个ttm为1个月虚值期权并使用标的等量对冲，标的价格在存续期间缓慢上涨至平值水平"
   ],
   "metadata": {
    "collapsed": false,
    "pycharm": {
     "name": "#%% md\n"
    }
   }
  },
  {
   "cell_type": "code",
   "execution_count": 1,
   "outputs": [],
   "source": [
    "import numpy as np\n",
    "import pandas as pd\n",
    "from py_vollib_vectorized import vectorized_black_scholes_merton,get_all_greeks\n",
    "import matplotlib.pyplot as plt\n",
    "\n",
    "%matplotlib inline"
   ],
   "metadata": {
    "collapsed": false,
    "pycharm": {
     "name": "#%%\n"
    }
   }
  },
  {
   "cell_type": "code",
   "execution_count": 15,
   "outputs": [],
   "source": [
    "s0 = 100\n",
    "k = 104\n",
    "t = 30/252\n",
    "sigma = 0.15\n",
    "ds = 0.013\n",
    "\n",
    "price_array = np.arange(100,104,4/30)\n",
    "ttm = np.arange(t-1/252,-1/252,-1/252)\n",
    "option_price = vectorized_black_scholes_merton('c',price_array,k,ttm,0.03,sigma,0,return_as='array')\n",
    "delta = get_all_greeks('c',price_array,k,ttm,0.03,sigma,0,return_as='array')['delta']\n",
    "option_prof = np.diff(option_price)\n",
    "\n",
    "underlying_diff = np.diff(price_array)\n",
    "hedging_num = np.insert(np.diff(delta),0,delta[0])\n",
    "hedge_pnl = [-hedging_num[i] * underlying_diff[i] for i in range(len(underlying_diff))]\n"
   ],
   "metadata": {
    "collapsed": false,
    "pycharm": {
     "name": "#%%\n"
    }
   }
  },
  {
   "cell_type": "code",
   "execution_count": 8,
   "outputs": [
    {
     "data": {
      "text/plain": "array([0.11904762, 0.11507937, 0.11111111, 0.10714286, 0.1031746 ,\n       0.09920635, 0.0952381 , 0.09126984, 0.08730159, 0.08333333,\n       0.07936508, 0.07539683, 0.07142857, 0.06746032, 0.06349206,\n       0.05952381, 0.05555556, 0.0515873 , 0.04761905, 0.04365079,\n       0.03968254, 0.03571429, 0.03174603, 0.02777778, 0.02380952,\n       0.01984127, 0.01587302, 0.01190476, 0.00793651, 0.00396825,\n       0.        ])"
     },
     "execution_count": 8,
     "metadata": {},
     "output_type": "execute_result"
    }
   ],
   "source": [
    "np.arange(t,-1/252,-1/252)"
   ],
   "metadata": {
    "collapsed": false,
    "pycharm": {
     "name": "#%%\n"
    }
   }
  },
  {
   "cell_type": "code",
   "execution_count": 11,
   "outputs": [
    {
     "data": {
      "text/plain": "29"
     },
     "execution_count": 11,
     "metadata": {},
     "output_type": "execute_result"
    }
   ],
   "source": [
    "len(underlying_diff)"
   ],
   "metadata": {
    "collapsed": false,
    "pycharm": {
     "name": "#%%\n"
    }
   }
  },
  {
   "cell_type": "code",
   "execution_count": null,
   "outputs": [],
   "source": [],
   "metadata": {
    "collapsed": false,
    "pycharm": {
     "name": "#%%\n"
    }
   }
  }
 ],
 "metadata": {
  "kernelspec": {
   "display_name": "Python 3",
   "language": "python",
   "name": "python3"
  },
  "language_info": {
   "codemirror_mode": {
    "name": "ipython",
    "version": 2
   },
   "file_extension": ".py",
   "mimetype": "text/x-python",
   "name": "python",
   "nbconvert_exporter": "python",
   "pygments_lexer": "ipython2",
   "version": "2.7.6"
  }
 },
 "nbformat": 4,
 "nbformat_minor": 0
}