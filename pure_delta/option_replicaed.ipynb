{
 "cells": [
  {
   "cell_type": "markdown",
   "source": [
    "# 基本逻辑\n",
    "\n",
    "1. 复制原理的内在逻辑：投资的**期望收益相同时，其投资成本也是相同**\n",
    "\n",
    "2. 构造一个投资组合，股价上升时，投资组合的到期收益与期权的到期收入完全相同；股价下降时，投资组合的到期收益与期权的到期收入也完全相同，那么投资组合的成本就是期权的价格。\n",
    "\n",
    "\n",
    "4. 如何构造这个投资组合，最简单的形式就是构建一个二元未知数方程，即$y=a*x-b*（1+r）$。其中x就是股价，是一个自变量，b是一个常量，很明显b更符合借款本金的形式，r是期限内无风险利率\n",
    "\n",
    "5. 假定借入本金为b，购入股票数量为a股，初始时，购入股票所支付的资金等于自有资金+借入的借款本金。期限内无风险利率为r。其中自有资金就是投资组合成本，也就是期权的价格，也是我们最终求的结果。\n",
    "\n",
    "6. 在股价上升和下降两种情形下，分别构建方程，分别求a和b，再用a*股价-b从而得到自有资金金额，即得到看涨期权的价格"
   ],
   "metadata": {
    "collapsed": false,
    "pycharm": {
     "name": "#%% md\n"
    }
   }
  },
  {
   "cell_type": "markdown",
   "source": [
    "# 模拟过程\n",
    "假设ABC公司的股票现在的市价为50元。有1股以该股票为标的资产的看涨期权，执行价格为52.08元，到期时间是6个月。蒙卡模拟10000次，拟建立一个投资组合，包括购进适量的股票以及借入必要的款项，使得该组合6个月后的价值与购进该看涨期权的价值相等。\n",
    "\n",
    "假定购进股票数量为a，借入本金为b\n",
    "\n",
    "## 股价上升\n",
    "$$a * S_T - b * (1 + r_f) = S_T - K$$\n",
    "\n",
    "## 股价下跌\n",
    "$$a * S_T - b * (1 + r_f) = 0$$"
   ],
   "metadata": {
    "collapsed": false,
    "pycharm": {
     "name": "#%% md\n"
    }
   }
  },
  {
   "cell_type": "code",
   "execution_count": null,
   "outputs": [],
   "source": [
    "import numpy as np\n",
    "import sympy as sp\n",
    "from monte_carlo.monte_carlo_class1 import MonteCarloOptionPricing\n",
    "from py_vollib_vectorized import vectorized_black_scholes\n",
    "import matplotlib.pyplot as plt\n",
    "%matplotlib notebook"
   ],
   "metadata": {
    "collapsed": false,
    "pycharm": {
     "name": "#%%\n"
    }
   }
  },
  {
   "cell_type": "code",
   "execution_count": null,
   "outputs": [],
   "source": [
    "S0 = 50  # e.g. spot price = 35\n",
    "K = 52.08  # e.g. exercise price = 40\n",
    "T = 0.5  # e.g. one year\n",
    "r = 0.05  # e.g. risk free rate = 1%\n",
    "sigma = 0.3  # e.g. volatility = 5%\n",
    "div_yield = 0.0  # e.g. dividend yield = 1%\n",
    "no_of_slice = 91  # no. of slices PER YEAR e.g. quarterly adjusted\n"
   ],
   "metadata": {
    "collapsed": false,
    "pycharm": {
     "name": "#%%\n"
    }
   }
  },
  {
   "cell_type": "code",
   "execution_count": null,
   "outputs": [],
   "source": [
    "MC = MonteCarloOptionPricing(S0=S0,\n",
    "                             K=K,\n",
    "                             T=T,\n",
    "                             r=r,\n",
    "                             sigma=sigma,\n",
    "                             div_yield=div_yield,\n",
    "                             simulation_rounds=int(10000),\n",
    "                             no_of_slices=no_of_slice,\n",
    "                             # fix_random_seed=True,\n",
    "                             fix_random_seed=500)"
   ],
   "metadata": {
    "collapsed": false,
    "pycharm": {
     "name": "#%%\n"
    }
   }
  },
  {
   "cell_type": "code",
   "execution_count": null,
   "outputs": [],
   "source": [
    "MC.stock_price_simulation()\n",
    "ST = MC.terminal_prices\n",
    "ST"
   ],
   "metadata": {
    "collapsed": false,
    "pycharm": {
     "name": "#%%\n"
    }
   }
  },
  {
   "cell_type": "code",
   "execution_count": null,
   "outputs": [],
   "source": [
    "ST1 = (ST[ST > K]).mean()\n",
    "ST2 = (ST[ST <= K]).mean()"
   ],
   "metadata": {
    "collapsed": false,
    "pycharm": {
     "name": "#%%\n"
    }
   }
  },
  {
   "cell_type": "code",
   "execution_count": null,
   "outputs": [],
   "source": [
    "a = sp.Symbol('a')\n",
    "b = sp.Symbol('b')\n",
    "result = sp.solve([a * ST1 - b * (1 + r) - (ST1 - K), a * ST2 - b * (1 + r)],[a,b])\n",
    "print(f'需要借入{result[b]}单位现金，并买入{result[a]}份标的')"
   ],
   "metadata": {
    "collapsed": false,
    "pycharm": {
     "name": "#%%\n"
    }
   }
  },
  {
   "cell_type": "code",
   "execution_count": null,
   "outputs": [],
   "source": [
    "portfolio_cost = float(result[a] * S0 - result[b])\n",
    "portfolio_cost"
   ],
   "metadata": {
    "collapsed": false,
    "pycharm": {
     "name": "#%%\n"
    }
   }
  },
  {
   "cell_type": "code",
   "execution_count": 10,
   "outputs": [
    {
     "data": {
      "text/plain": "      Price\n0  3.871667",
      "text/html": "<div>\n<style scoped>\n    .dataframe tbody tr th:only-of-type {\n        vertical-align: middle;\n    }\n\n    .dataframe tbody tr th {\n        vertical-align: top;\n    }\n\n    .dataframe thead th {\n        text-align: right;\n    }\n</style>\n<table border=\"1\" class=\"dataframe\">\n  <thead>\n    <tr style=\"text-align: right;\">\n      <th></th>\n      <th>Price</th>\n    </tr>\n  </thead>\n  <tbody>\n    <tr>\n      <th>0</th>\n      <td>3.871667</td>\n    </tr>\n  </tbody>\n</table>\n</div>"
     },
     "execution_count": 10,
     "metadata": {},
     "output_type": "execute_result"
    }
   ],
   "source": [
    "vectorized_black_scholes('c',S0,K,T,r,sigma)"
   ],
   "metadata": {
    "collapsed": false,
    "pycharm": {
     "name": "#%%\n"
    }
   }
  }
 ],
 "metadata": {
  "kernelspec": {
   "display_name": "Python 3",
   "language": "python",
   "name": "python3"
  },
  "language_info": {
   "codemirror_mode": {
    "name": "ipython",
    "version": 2
   },
   "file_extension": ".py",
   "mimetype": "text/x-python",
   "name": "python",
   "nbconvert_exporter": "python",
   "pygments_lexer": "ipython2",
   "version": "2.7.6"
  }
 },
 "nbformat": 4,
 "nbformat_minor": 0
}