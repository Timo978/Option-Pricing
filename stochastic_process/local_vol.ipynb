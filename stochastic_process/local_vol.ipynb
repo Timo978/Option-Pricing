{
 "cells": [
  {
   "cell_type": "code",
   "execution_count": 1,
   "outputs": [
    {
     "data": {
      "text/html": "        <script type=\"text/javascript\">\n        window.PlotlyConfig = {MathJaxConfig: 'local'};\n        if (window.MathJax) {MathJax.Hub.Config({SVG: {font: \"STIX-Web\"}});}\n        if (typeof require !== 'undefined') {\n        require.undef(\"plotly\");\n        requirejs.config({\n            paths: {\n                'plotly': ['https://cdn.plot.ly/plotly-2.11.1.min']\n            }\n        });\n        require(['plotly'], function(Plotly) {\n            window._Plotly = Plotly;\n        });\n        }\n        </script>\n        "
     },
     "metadata": {},
     "output_type": "display_data"
    },
    {
     "data": {
      "text/html": "        <script type=\"text/javascript\">\n        window.PlotlyConfig = {MathJaxConfig: 'local'};\n        if (window.MathJax) {MathJax.Hub.Config({SVG: {font: \"STIX-Web\"}});}\n        if (typeof require !== 'undefined') {\n        require.undef(\"plotly\");\n        requirejs.config({\n            paths: {\n                'plotly': ['https://cdn.plot.ly/plotly-2.11.1.min']\n            }\n        });\n        require(['plotly'], function(Plotly) {\n            window._Plotly = Plotly;\n        });\n        }\n        </script>\n        "
     },
     "metadata": {},
     "output_type": "display_data"
    }
   ],
   "source": [
    "from py_vollib_vectorized import vectorized_black_scholes_merton\n",
    "import plotly as py\n",
    "from plotly.offline import init_notebook_mode\n",
    "import plotly.graph_objs as go\n",
    "from crypto_spider.tushare_ivSurface import main, im_surface\n",
    "import numpy as np\n",
    "\n",
    "init_notebook_mode(connected = True)"
   ],
   "metadata": {
    "collapsed": false,
    "pycharm": {
     "name": "#%%\n"
    }
   }
  },
  {
   "cell_type": "code",
   "execution_count": 2,
   "outputs": [],
   "source": [
    "'''\n",
    "df structure:\n",
    "\n",
    "##     TTM Strike market  imp_vol\n",
    "## 1  0.07    850   0.45 0.194722\n",
    "## 2  0.07    875   0.60 0.252699\n",
    "## 3  0.07    900   0.15 0.245498\n",
    "## 9  0.07    400 370.25 0.755884\n",
    "## 10 0.07    425 345.35 0.812275\n",
    "## 12 0.07    450 320.55 0.826739\n",
    "'''\n",
    "df = main('20220715')\n",
    "df = df.reset_index()"
   ],
   "metadata": {
    "collapsed": false,
    "pycharm": {
     "name": "#%%\n"
    }
   }
  },
  {
   "cell_type": "code",
   "execution_count": 3,
   "outputs": [],
   "source": [
    "dt = 1/252\n",
    "dk = 1.5\n",
    "local_vol = np.zeros([1,len(df)])"
   ],
   "metadata": {
    "collapsed": false,
    "pycharm": {
     "name": "#%%\n"
    }
   }
  },
  {
   "cell_type": "code",
   "execution_count": 18,
   "outputs": [],
   "source": [
    "dc_by_dt = (vectorized_black_scholes_merton('c',df.s,df.k,df.t + dt,0,df.iv,0,return_as='array') - vectorized_black_scholes_merton('c',df.s,df.k,df.t,0,df.iv,0,return_as='array'))/dt\n",
    "\n",
    "dc_by_dk = (vectorized_black_scholes_merton('c',df.s,df.k + dk,df.t,0,df.iv,0,return_as='array') - vectorized_black_scholes_merton('c',df.s,df.k,df.t,0,df.iv,0,return_as='array'))/dk\n",
    "\n",
    "d2c_by_dk2 = (vectorized_black_scholes_merton('c',df.s,df.k + dk,df.t,0,df.iv,0,return_as='array')  - 2 * vectorized_black_scholes_merton('c',df.s,df.k,df.t,0,df.iv,0,return_as='array') + vectorized_black_scholes_merton('c',df.s,df.k - dk,df.t,0,df.iv,0,return_as='array'))/(dk **2)"
   ],
   "metadata": {
    "collapsed": false,
    "pycharm": {
     "name": "#%%\n"
    }
   }
  },
  {
   "cell_type": "code",
   "execution_count": 19,
   "outputs": [],
   "source": [
    "for i in range(len(df)):\n",
    "    local_vol[0,i] = np.sqrt((dc_by_dt[i] + df.loc[i,'r'] * df.loc[i,'c'] - (df.loc[i,'r'] - df.loc[i,'q']) * (df.loc[i,'c'] - df.loc[i,'k'] * dc_by_dk[i]))/(0.5 * df.loc[i,'k'] **2 * d2c_by_dk2[i]))"
   ],
   "metadata": {
    "collapsed": false,
    "pycharm": {
     "name": "#%%\n"
    }
   }
  },
  {
   "cell_type": "code",
   "execution_count": 20,
   "outputs": [
    {
     "data": {
      "text/plain": "array([0.34018618, 0.29766681, 0.33469361, 0.48267592, 0.19844859,\n       0.14731676, 0.33062908, 0.19447704, 0.344581  , 0.27850224,\n       0.32286164, 0.27606413, 0.33706464, 0.2223859 , 0.28327745,\n       0.27697718, 0.32250743, 0.28868356, 0.39191111, 0.21304113,\n       0.37501085, 0.47346034, 0.2659892 , 0.27197137, 0.22623119,\n       0.17938656, 0.17293005, 0.17755341, 0.2132413 , 0.22087888,\n       0.24580163, 0.30956156, 0.41459804, 0.25001553, 0.24014431,\n       0.27719998, 0.18717376, 0.32146993, 0.16386664, 0.44465177,\n       0.19481442, 0.2279597 , 0.25825333, 0.28475144, 0.36754051,\n       0.28114164, 0.16650501, 0.3765537 , 0.32872165, 0.25963762,\n       0.31285457, 0.26800145, 0.28961456, 0.35503263, 0.27461469,\n       0.36355468, 0.28787498, 0.28685155, 0.2566785 , 0.34861259,\n       0.33866195, 0.29655152, 0.33466646, 0.48241245, 0.20035829,\n       0.16123987, 0.33024296, 0.19608498, 0.34338339, 0.27860363,\n       0.32314977, 0.27634891, 0.33681181, 0.21503504, 0.28299753,\n       0.27727152, 0.32208086, 0.28864115, 0.39101673, 0.21355433,\n       0.37457002, 0.47379628, 0.26381445, 0.26697445, 0.22716136,\n       0.18620927, 0.18226929, 0.18375446, 0.21395383, 0.22344467,\n       0.2465822 , 0.30993143, 0.41539545, 0.25258818, 0.24003018,\n       0.27813283, 0.19069846, 0.32295218, 0.16609499, 0.44491791,\n       0.1989306 , 0.22907984, 0.26086965, 0.28478481, 0.36777257,\n       0.28125792, 0.17634449, 0.37641895, 0.32878529, 0.25966038,\n       0.31182501, 0.26915485, 0.28911146, 0.35608558, 0.27279528,\n       0.36239475, 0.28783937, 0.28659497, 0.25580459, 0.34973442])"
     },
     "execution_count": 20,
     "metadata": {},
     "output_type": "execute_result"
    }
   ],
   "source": [
    "local_vol[0]"
   ],
   "metadata": {
    "collapsed": false,
    "pycharm": {
     "name": "#%%\n"
    }
   }
  },
  {
   "cell_type": "code",
   "execution_count": 5,
   "outputs": [
    {
     "ename": "IndexingError",
     "evalue": "Too many indexers",
     "output_type": "error",
     "traceback": [
      "\u001B[0;31m---------------------------------------------------------------------------\u001B[0m",
      "\u001B[0;31mIndexingError\u001B[0m                             Traceback (most recent call last)",
      "\u001B[0;32m/var/folders/kb/1kf8hw_j5z585qrzxggc650r0000gq/T/ipykernel_80829/3083118504.py\u001B[0m in \u001B[0;36m<cell line: 1>\u001B[0;34m()\u001B[0m\n\u001B[0;32m----> 1\u001B[0;31m \u001B[0mdc_by_dt\u001B[0m\u001B[0;34m.\u001B[0m\u001B[0mloc\u001B[0m\u001B[0;34m[\u001B[0m\u001B[0;36m0\u001B[0m\u001B[0;34m,\u001B[0m\u001B[0;36m0\u001B[0m\u001B[0;34m]\u001B[0m\u001B[0;34m\u001B[0m\u001B[0;34m\u001B[0m\u001B[0m\n\u001B[0m",
      "\u001B[0;32m~/opt/anaconda3/lib/python3.9/site-packages/pandas/core/indexing.py\u001B[0m in \u001B[0;36m__getitem__\u001B[0;34m(self, key)\u001B[0m\n\u001B[1;32m    959\u001B[0m             \u001B[0;32mif\u001B[0m \u001B[0mself\u001B[0m\u001B[0;34m.\u001B[0m\u001B[0m_is_scalar_access\u001B[0m\u001B[0;34m(\u001B[0m\u001B[0mkey\u001B[0m\u001B[0;34m)\u001B[0m\u001B[0;34m:\u001B[0m\u001B[0;34m\u001B[0m\u001B[0;34m\u001B[0m\u001B[0m\n\u001B[1;32m    960\u001B[0m                 \u001B[0;32mreturn\u001B[0m \u001B[0mself\u001B[0m\u001B[0;34m.\u001B[0m\u001B[0mobj\u001B[0m\u001B[0;34m.\u001B[0m\u001B[0m_get_value\u001B[0m\u001B[0;34m(\u001B[0m\u001B[0;34m*\u001B[0m\u001B[0mkey\u001B[0m\u001B[0;34m,\u001B[0m \u001B[0mtakeable\u001B[0m\u001B[0;34m=\u001B[0m\u001B[0mself\u001B[0m\u001B[0;34m.\u001B[0m\u001B[0m_takeable\u001B[0m\u001B[0;34m)\u001B[0m\u001B[0;34m\u001B[0m\u001B[0;34m\u001B[0m\u001B[0m\n\u001B[0;32m--> 961\u001B[0;31m             \u001B[0;32mreturn\u001B[0m \u001B[0mself\u001B[0m\u001B[0;34m.\u001B[0m\u001B[0m_getitem_tuple\u001B[0m\u001B[0;34m(\u001B[0m\u001B[0mkey\u001B[0m\u001B[0;34m)\u001B[0m\u001B[0;34m\u001B[0m\u001B[0;34m\u001B[0m\u001B[0m\n\u001B[0m\u001B[1;32m    962\u001B[0m         \u001B[0;32melse\u001B[0m\u001B[0;34m:\u001B[0m\u001B[0;34m\u001B[0m\u001B[0;34m\u001B[0m\u001B[0m\n\u001B[1;32m    963\u001B[0m             \u001B[0;31m# we by definition only have the 0th axis\u001B[0m\u001B[0;34m\u001B[0m\u001B[0;34m\u001B[0m\u001B[0m\n",
      "\u001B[0;32m~/opt/anaconda3/lib/python3.9/site-packages/pandas/core/indexing.py\u001B[0m in \u001B[0;36m_getitem_tuple\u001B[0;34m(self, tup)\u001B[0m\n\u001B[1;32m   1141\u001B[0m \u001B[0;34m\u001B[0m\u001B[0m\n\u001B[1;32m   1142\u001B[0m         \u001B[0;31m# no multi-index, so validate all of the indexers\u001B[0m\u001B[0;34m\u001B[0m\u001B[0;34m\u001B[0m\u001B[0m\n\u001B[0;32m-> 1143\u001B[0;31m         \u001B[0mtup\u001B[0m \u001B[0;34m=\u001B[0m \u001B[0mself\u001B[0m\u001B[0;34m.\u001B[0m\u001B[0m_validate_tuple_indexer\u001B[0m\u001B[0;34m(\u001B[0m\u001B[0mtup\u001B[0m\u001B[0;34m)\u001B[0m\u001B[0;34m\u001B[0m\u001B[0;34m\u001B[0m\u001B[0m\n\u001B[0m\u001B[1;32m   1144\u001B[0m \u001B[0;34m\u001B[0m\u001B[0m\n\u001B[1;32m   1145\u001B[0m         \u001B[0;31m# ugly hack for GH #836\u001B[0m\u001B[0;34m\u001B[0m\u001B[0;34m\u001B[0m\u001B[0m\n",
      "\u001B[0;32m~/opt/anaconda3/lib/python3.9/site-packages/pandas/core/indexing.py\u001B[0m in \u001B[0;36m_validate_tuple_indexer\u001B[0;34m(self, key)\u001B[0m\n\u001B[1;32m    763\u001B[0m         \u001B[0mCheck\u001B[0m \u001B[0mthe\u001B[0m \u001B[0mkey\u001B[0m \u001B[0;32mfor\u001B[0m \u001B[0mvalid\u001B[0m \u001B[0mkeys\u001B[0m \u001B[0macross\u001B[0m \u001B[0mmy\u001B[0m \u001B[0mindexer\u001B[0m\u001B[0;34m.\u001B[0m\u001B[0;34m\u001B[0m\u001B[0;34m\u001B[0m\u001B[0m\n\u001B[1;32m    764\u001B[0m         \"\"\"\n\u001B[0;32m--> 765\u001B[0;31m         \u001B[0mkey\u001B[0m \u001B[0;34m=\u001B[0m \u001B[0mself\u001B[0m\u001B[0;34m.\u001B[0m\u001B[0m_validate_key_length\u001B[0m\u001B[0;34m(\u001B[0m\u001B[0mkey\u001B[0m\u001B[0;34m)\u001B[0m\u001B[0;34m\u001B[0m\u001B[0;34m\u001B[0m\u001B[0m\n\u001B[0m\u001B[1;32m    766\u001B[0m         \u001B[0mkey\u001B[0m \u001B[0;34m=\u001B[0m \u001B[0mself\u001B[0m\u001B[0;34m.\u001B[0m\u001B[0m_expand_ellipsis\u001B[0m\u001B[0;34m(\u001B[0m\u001B[0mkey\u001B[0m\u001B[0;34m)\u001B[0m\u001B[0;34m\u001B[0m\u001B[0;34m\u001B[0m\u001B[0m\n\u001B[1;32m    767\u001B[0m         \u001B[0;32mfor\u001B[0m \u001B[0mi\u001B[0m\u001B[0;34m,\u001B[0m \u001B[0mk\u001B[0m \u001B[0;32min\u001B[0m \u001B[0menumerate\u001B[0m\u001B[0;34m(\u001B[0m\u001B[0mkey\u001B[0m\u001B[0;34m)\u001B[0m\u001B[0;34m:\u001B[0m\u001B[0;34m\u001B[0m\u001B[0;34m\u001B[0m\u001B[0m\n",
      "\u001B[0;32m~/opt/anaconda3/lib/python3.9/site-packages/pandas/core/indexing.py\u001B[0m in \u001B[0;36m_validate_key_length\u001B[0;34m(self, key)\u001B[0m\n\u001B[1;32m    810\u001B[0m                     \u001B[0;32mraise\u001B[0m \u001B[0mIndexingError\u001B[0m\u001B[0;34m(\u001B[0m\u001B[0m_one_ellipsis_message\u001B[0m\u001B[0;34m)\u001B[0m\u001B[0;34m\u001B[0m\u001B[0;34m\u001B[0m\u001B[0m\n\u001B[1;32m    811\u001B[0m                 \u001B[0;32mreturn\u001B[0m \u001B[0mself\u001B[0m\u001B[0;34m.\u001B[0m\u001B[0m_validate_key_length\u001B[0m\u001B[0;34m(\u001B[0m\u001B[0mkey\u001B[0m\u001B[0;34m)\u001B[0m\u001B[0;34m\u001B[0m\u001B[0;34m\u001B[0m\u001B[0m\n\u001B[0;32m--> 812\u001B[0;31m             \u001B[0;32mraise\u001B[0m \u001B[0mIndexingError\u001B[0m\u001B[0;34m(\u001B[0m\u001B[0;34m\"Too many indexers\"\u001B[0m\u001B[0;34m)\u001B[0m\u001B[0;34m\u001B[0m\u001B[0;34m\u001B[0m\u001B[0m\n\u001B[0m\u001B[1;32m    813\u001B[0m         \u001B[0;32mreturn\u001B[0m \u001B[0mkey\u001B[0m\u001B[0;34m\u001B[0m\u001B[0;34m\u001B[0m\u001B[0m\n\u001B[1;32m    814\u001B[0m \u001B[0;34m\u001B[0m\u001B[0m\n",
      "\u001B[0;31mIndexingError\u001B[0m: Too many indexers"
     ]
    }
   ],
   "source": [
    "dc_by_dt.loc[0,0]"
   ],
   "metadata": {
    "collapsed": false,
    "pycharm": {
     "name": "#%%\n"
    }
   }
  },
  {
   "cell_type": "code",
   "execution_count": 6,
   "outputs": [
    {
     "data": {
      "text/plain": "array([0.00000000e+000, 7.53766313e-104, 3.29271123e-235, 0.00000000e+000,\n       0.00000000e+000, 0.00000000e+000, 1.13204000e-174, 7.58083008e-253,\n       4.45899641e-291, 2.08163015e-085, 2.85038057e-316, 5.55922141e-112,\n       5.88729713e-200, 0.00000000e+000, 3.05804821e-052, 0.00000000e+000,\n       4.24161883e-147, 9.71796122e-074, 0.00000000e+000, 0.00000000e+000,\n       0.00000000e+000, 0.00000000e+000, 3.87916495e-036, 0.00000000e+000,\n       0.00000000e+000, 0.00000000e+000, 0.00000000e+000, 0.00000000e+000,\n       1.96161065e-214, 0.00000000e+000, 2.27667426e-162, 0.00000000e+000,\n       0.00000000e+000, 0.00000000e+000, 2.37852705e-059, 2.47034541e-044,\n       0.00000000e+000, 0.00000000e+000, 0.00000000e+000, 0.00000000e+000,\n       0.00000000e+000, 2.14471775e-192, 0.00000000e+000, 3.63886037e-093,\n       0.00000000e+000, 2.39308175e-101, 0.00000000e+000, 0.00000000e+000,\n       2.21341822e-282, 2.20176130e-138, 8.95769577e-124, 0.00000000e+000,\n       2.33458744e-067, 0.00000000e+000, 3.78415354e-041, 0.00000000e+000,\n       6.28225801e-082, 4.62265784e-059, 1.66638013e-073, 0.00000000e+000,\n       0.00000000e+000, 0.00000000e+000, 1.88417559e-278, 0.00000000e+000,\n       3.27988227e-141, 4.30587627e-107, 0.00000000e+000, 2.08044882e-032,\n       0.00000000e+000, 0.00000000e+000, 4.88023733e-214, 1.83039721e-072,\n       8.55081618e-309, 0.00000000e+000, 1.39161523e-144, 7.57992820e-153,\n       0.00000000e+000, 1.27582893e-107, 0.00000000e+000, 2.41984470e-092,\n       0.00000000e+000, 0.00000000e+000, 5.08705256e-191, 0.00000000e+000,\n       1.47964760e-208, 1.23403809e-053, 1.21110877e-146, 4.05849331e-100,\n       6.49744456e-037, 0.00000000e+000, 2.39880262e-051, 4.66804567e-192,\n       0.00000000e+000, 2.14004961e-112, 0.00000000e+000, 3.09185129e-154,\n       3.02596276e-072, 0.00000000e+000, 0.00000000e+000, 0.00000000e+000,\n       1.33920988e-220, 7.30430359e-044, 0.00000000e+000, 7.54083120e-089,\n       0.00000000e+000, 8.16088168e-080, 1.18338007e-072, 0.00000000e+000,\n       5.13958696e-251, 1.57863632e-062, 0.00000000e+000, 1.08042848e-311,\n       2.54578933e-119, 0.00000000e+000, 7.95321659e-174, 0.00000000e+000,\n       6.23226949e-097, 2.08986774e-131, 0.00000000e+000, 0.00000000e+000])"
     },
     "execution_count": 6,
     "metadata": {},
     "output_type": "execute_result"
    }
   ],
   "source": [
    "vectorized_black_scholes_merton('c',df.c,df.k,df.t + dt,0,df.iv,0,return_as='array')"
   ],
   "metadata": {
    "collapsed": false,
    "pycharm": {
     "name": "#%%\n"
    }
   }
  },
  {
   "cell_type": "code",
   "execution_count": 17,
   "outputs": [
    {
     "data": {
      "text/plain": "array([1.75800531e-01, 3.00000515e-01, 1.24492488e-01, 5.20028682e-02,\n       4.29934674e-03, 2.99196561e-04, 1.83593927e-01, 2.22021527e-02,\n       1.94398319e-01, 3.46302664e-01, 7.79004597e-02, 1.18999423e-01,\n       1.52296945e-01, 2.71999657e-01, 3.06301571e-01, 3.54997532e-02,\n       2.19998526e-01, 2.11999420e-01, 1.29226082e-01, 1.25006080e-02,\n       1.19600617e-01, 2.83977225e-02, 4.17998708e-01, 2.22600985e-01,\n       6.99904685e-03, 5.90170260e-03, 5.01190776e-04, 2.80071351e-03,\n       3.25997791e-02, 1.20034473e-03, 6.24990715e-02, 6.05137580e-02,\n       1.32005805e-02, 2.13962163e-02, 4.38000484e-01, 3.48616428e-01,\n       7.60034532e-03, 2.76004869e-02, 3.24099315e-01, 8.85995607e-02,\n       7.66134851e-04, 4.42031511e-02, 2.09866856e-03, 1.58477037e-01,\n       6.25995871e-02, 1.38600346e-01, 2.10061514e-03, 8.90051607e-02,\n       9.77012109e-02, 8.67978815e-02, 2.58001676e-01, 1.30992938e-02,\n       2.37298252e-01, 4.35947722e-02, 3.77399434e-01, 1.53401557e-01,\n       1.85300484e-01, 2.71801859e-01, 3.89900913e-01, 6.30022510e-03,\n       1.75800531e-01, 3.00000515e-01, 1.24492488e-01, 5.20028682e-02,\n       4.29934674e-03, 2.99196561e-04, 1.83593927e-01, 2.22021527e-02,\n       1.94398319e-01, 3.46302664e-01, 7.79004597e-02, 1.18999423e-01,\n       1.52296945e-01, 2.71999657e-01, 3.06301571e-01, 3.54997532e-02,\n       2.19998526e-01, 2.11999420e-01, 1.29226082e-01, 1.25006080e-02,\n       1.19600617e-01, 2.83977225e-02, 4.17998708e-01, 2.22600985e-01,\n       6.99904685e-03, 5.90170260e-03, 5.01190776e-04, 2.80071351e-03,\n       3.25997791e-02, 1.20034473e-03, 6.24990715e-02, 6.05137580e-02,\n       1.32005805e-02, 2.13962163e-02, 4.38000484e-01, 3.48616428e-01,\n       7.60034532e-03, 2.76004869e-02, 3.24099315e-01, 8.85995607e-02,\n       7.66134851e-04, 4.42031511e-02, 2.09866856e-03, 1.58477037e-01,\n       6.25995871e-02, 1.38600346e-01, 2.10061514e-03, 8.90051607e-02,\n       9.77012109e-02, 8.67978815e-02, 2.58001676e-01, 1.30992938e-02,\n       2.37298252e-01, 4.35947722e-02, 3.77399434e-01, 1.53401557e-01,\n       1.85300484e-01, 2.71801859e-01, 3.89900913e-01, 6.30022510e-03])"
     },
     "execution_count": 17,
     "metadata": {},
     "output_type": "execute_result"
    }
   ],
   "source": [
    "vectorized_black_scholes_merton('c',df.s,df.k,df.t,df.r,df.iv,df.q,return_as='array')"
   ],
   "metadata": {
    "collapsed": false,
    "pycharm": {
     "name": "#%%\n"
    }
   }
  },
  {
   "cell_type": "code",
   "execution_count": null,
   "outputs": [],
   "source": [],
   "metadata": {
    "collapsed": false,
    "pycharm": {
     "name": "#%%\n"
    }
   }
  }
 ],
 "metadata": {
  "kernelspec": {
   "display_name": "Python 3",
   "language": "python",
   "name": "python3"
  },
  "language_info": {
   "codemirror_mode": {
    "name": "ipython",
    "version": 2
   },
   "file_extension": ".py",
   "mimetype": "text/x-python",
   "name": "python",
   "nbconvert_exporter": "python",
   "pygments_lexer": "ipython2",
   "version": "2.7.6"
  }
 },
 "nbformat": 4,
 "nbformat_minor": 0
}