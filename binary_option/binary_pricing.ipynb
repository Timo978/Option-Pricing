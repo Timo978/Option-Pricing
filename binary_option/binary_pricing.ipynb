{
 "cells": [
  {
   "cell_type": "markdown",
   "metadata": {},
   "source": [
    "# TIX\n",
    "对未来***某个时间点***，进行价格预测。在到期日时，如果价格到达行权价，合约价格变为$1，否则变为$0。交易杠杆主要有交易所提供的“赔率”***odds***决定  \n",
    "  \n",
    "# WIX\n",
    "属于***美式TIX***。即在到期日之前任意时刻，如果到达行权价都可以立马以$1的价格“行权”  \n",
    "\n",
    "# 定价\n",
    "以TIX（“欧式”）为例，vanilla欧式期权的BSM价格为：$c(S, t)=S N\\left(d_{1}\\right)-K e^{-r(T-t)} N\\left(d_{2}\\right)$  \n",
    "\n",
    "$d_{1}=\\frac{\\ln \\left(\\frac{S}{K}\\right)+(T-t)\\left(r+\\frac{1}{2} \\sigma^{2}\\right)}{\\sigma \\sqrt{T-t}}$  \n",
    "$d_{2}=\\frac{\\ln \\left(\\frac{S}{K}\\right)+(T-t)\\left(r-\\frac{1}{2} \\sigma^{2}\\right)}{\\sigma \\sqrt{T-t}}$\n",
    "\n",
    "由于此二元期权到期收益为：$c(\\mathrm{~S}, \\mathrm{~T})= \\begin{cases}1 & \\left(S_{T}>\\mathrm{K}\\right) \\\\ 0 & \\left(S_{T} \\leq \\mathrm{K}\\right)\\end{cases}$  \n",
    "\n",
    "结合两式，可得WIX价格为：$c(S, t)=e^{-r(T-t)} \\cdot N\\left(d_{2}\\right)$  \n",
    "\n",
    "# 对冲\n",
    "1. ***同时发行反方向二元期权***，这也是HXRO trade交易所采取的方式，相当于在产品发行初期便完成了所有对冲工作。是可行性最高的方式。  \n",
    "   \n",
    "2. 使用***传统delta对冲***，可通过购入现货或期货构建delta中性，但对于二元期权来说，从$c(S, t)=e^{-r(T-t)} \\cdot N\\left(d_{2}\\right)$ 中得到的delta，在其接近到期且标的价格接近行权价附近时，delta波动会非常剧烈，所以无法准确的对冲。  \n",
    "\n",
    "# 结论\n",
    "本质上都属于是二元期权，即达到行权价后获得固定收入/损失。此类期权定价，对冲都足够简单。对于交易所来说，相当于开赌场，只要提供的行权价够多，交易得够分散，总能获得正期望收益  "
   ]
  },
  {
   "cell_type": "code",
   "execution_count": 1,
   "metadata": {},
   "outputs": [],
   "source": [
    "import sympy as sp\n",
    "from sympy.stats import Normal, cdf\n",
    "from py_vollib_vectorized import vectorized_black_scholes\n",
    "import numpy as np\n",
    "import matplotlib.pyplot as plt"
   ]
  },
  {
   "cell_type": "code",
   "execution_count": 2,
   "metadata": {},
   "outputs": [
    {
     "data": {
      "text/plain": [
       "0.042198247708939485"
      ]
     },
     "execution_count": 2,
     "metadata": {},
     "output_type": "execute_result"
    }
   ],
   "source": [
    "S, K, sigma, ttm, r, d1, d2 = sp.symbols('S,K,sigma,ttm,r,d_1,d_2')\n",
    "\n",
    "    # define a symbol to represent the normal CDF\n",
    "N = sp.Function('N')\n",
    "    # Black76 price in deri\n",
    "C = sp.exp(-r * ttm) * N(d2)\n",
    "# P = N(-d2) * K - F * N(-d1)\n",
    "\n",
    "    # expanded d1 and d2 for substitution:\n",
    "d1_sub = (sp.ln(S / K) + ((sp.Rational(1, 2) * sigma ** 2) + r) * ttm) / (sigma * sp.sqrt(ttm))\n",
    "d2_sub = (sp.ln(S / K) + (r - (sp.Rational(1, 2) * sigma ** 2)) * ttm) / (sigma * sp.sqrt(ttm))\n",
    "\n",
    "# instance a standard normal distribution:\n",
    "Norm = Normal('N', 0.0, 1.0)\n",
    "\n",
    "# define the long form b-s equation with all substitutions:\n",
    "bs_c = C.subs(N, cdf(Norm)).subs(d2, d2_sub).subs(d1, d1_sub)\n",
    "\n",
    "# Callable function for black and scholes price:\n",
    "# example usage: bs_c_calc(100, 98, 0.15, 0.38)\n",
    "bs_c_calc = sp.lambdify((S, K, sigma, ttm, r), bs_c)\n",
    "\n",
    "delta_c = sp.simplify(sp.diff(bs_c, S))\n",
    "delta_c_calc = sp.lambdify((S, K, sigma, ttm, r), delta_c)\n",
    "\n",
    "bs_c_calc(100, 50, 0.15, 0.38,0.04)\n",
    "delta_c_calc(100, 100, 0.15, 0.38,0.04)"
   ]
  },
  {
   "cell_type": "code",
   "execution_count": 4,
   "metadata": {},
   "outputs": [
    {
     "data": {
      "image/png": "[encoded data removed]",
      "text/plain": [
       "<Figure size 720x360 with 1 Axes>"
      ]
     },
     "metadata": {
      "needs_background": "light"
     },
     "output_type": "display_data"
    }
   ],
   "source": [
    "dt = []\n",
    "for i in np.arange(98,102,0.02):\n",
    "    dt.append(delta_c_calc(100, i, 0.3, 0.1, 0.05))\n",
    "\n",
    "plt.figure(figsize=(10,5))\n",
    "plt.plot(np.arange(98,102,0.02),dt)\n",
    "plt.show()"
   ]
  }
 ],
 "metadata": {
  "kernelspec": {
   "display_name": "Python 3.9.7 ('base')",
   "language": "python",
   "name": "python3"
  },
  "language_info": {
   "codemirror_mode": {
    "name": "ipython",
    "version": 3
   },
   "file_extension": ".py",
   "mimetype": "text/x-python",
   "name": "python",
   "nbconvert_exporter": "python",
   "pygments_lexer": "ipython3",
   "version": "3.9.7"
  },
  "orig_nbformat": 4,
  "vscode": {
   "interpreter": {
    "hash": "24db87d63e78349e1e2f2a4a4d4723ec95d8925ebbeb303f1946cda11e955625"
   }
  }
 },
 "nbformat": 4,
 "nbformat_minor": 2
}
