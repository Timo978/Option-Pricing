{
 "cells": [
  {
   "cell_type": "markdown",
   "source": [
    "## 修正Vega\n",
    "### 为什么要进行修正\n",
    "对于**不同到期日，或是不同行权价**的期权，由于IV变化对他们的影响是不一致的，所以不能简单相加/减\n",
    "> 举个简单的例子，对于一当前Vega中性，由近，远月期权各一份组成的组合，当IV变化后，远月期权受到的影响将会远大于近月端，所以会立马出现Vega敞口。故而简单把Vega相加/减作为风险管理手段是没有什么意义的"
   ],
   "metadata": {
    "collapsed": false,
    "pycharm": {
     "name": "#%% md\n"
    }
   }
  },
  {
   "cell_type": "markdown",
   "source": [
    "### 修正Vega（简易加权）\n",
    "$$ Modified Vega = \\sum_{i=1}^n V_i F_i$$\n",
    "其中V_{i}是以不同到期日分段的Vega，F为权重\n",
    "一般是先选择一参考到期日（通常选择**最活跃的到期日**，以下皆以3个月到日的为例），然后对其他月份的头寸，按照一时间因子来调整：$\\sqrt{90/TTM}$\n",
    "例：一个月期权Vega的权重为三个月期权的$\\sqrt{90/30}=1.73$倍。一年期权的Vega是三个月的$\\sqrt{90/365}=0.5$倍"
   ],
   "metadata": {
    "collapsed": false,
    "pycharm": {
     "name": "#%% md\n"
    }
   }
  },
  {
   "cell_type": "code",
   "execution_count": 58,
   "outputs": [],
   "source": [
    "from pandas_datareader import data\n",
    "import pandas as pd\n",
    "import numpy as np\n",
    "import datetime\n",
    "from py_vollib_vectorized import get_all_greeks,implied_volatility,vectorized_black_scholes"
   ],
   "metadata": {
    "collapsed": false,
    "pycharm": {
     "name": "#%%\n"
    }
   }
  },
  {
   "cell_type": "code",
   "execution_count": 46,
   "outputs": [
    {
     "name": "stdout",
     "output_type": "stream",
     "text": [
      "original vega = 1.9665793573297528\n",
      "weighted vega = 1.9872530104089123\n",
      "ratio = weighted vega/og vega = 1.010512493687125\n"
     ]
    }
   ],
   "source": [
    "# 构建一期权组合，都由平值期权组成，到期日分别为一个月，三个月，六个月\n",
    "# 以三月到期为参考到期日\n",
    "s = 1000\n",
    "k = 1000\n",
    "t1,t2,t3 = 1/12,0.25,0.5\n",
    "sigma = 0.3\n",
    "\n",
    "vega1 = get_all_greeks('c',s,k,t1,0,sigma)['vega'][0]\n",
    "vega2 = -get_all_greeks('c',s,k,t2,0,sigma)['vega'][0]\n",
    "vega3 = get_all_greeks('c',s,k,t3,0,sigma)['vega'][0]\n",
    "\n",
    "weighted_vega = np.sqrt(t2/t1) * vega1 + vega2 + np.sqrt(t2/t3) * vega3\n",
    "print(f'original vega = {vega1 + vega2 + vega3}\\nweighted vega = {weighted_vega}\\nratio = weighted vega/og vega = {weighted_vega/(vega1 + vega2 + vega3)}')"
   ],
   "metadata": {
    "collapsed": false,
    "pycharm": {
     "name": "#%%\n"
    }
   }
  },
  {
   "cell_type": "markdown",
   "source": [
    "### 协方差分段Vega\n",
    "#### 远期隐含波动率\n",
    "两个时刻之间的远期的隐含波动率，表示这两个时刻之间的预期波动率\n",
    "\n",
    "如果把时间拆分为不重叠的均匀切片，每个日期对应交易的期限\n",
    "![forwardIV](../note_pic/forwardIV.png)\n",
    "\n",
    "$$\\sigma_{t_{0}, t_{n}}^{2}=\\sigma_{t_{0}, t_{1}}^{2}+\\sigma_{t_{1}, t_{2}}^{2}+\\cdots+\\sigma_{t_{n-1}, t_{n}}^{2}$$\n",
    "\n",
    "其中$\\sigma_{0, t_{n}}$即传统意义上，市场对这段时间波动率的报价。如$\\sigma_{0, 90}$就是一个90天到期的期权的波动率\n",
    "\n",
    "但一般来说，会使用不均匀的时间切片：$\\sigma_{t_{0}, t_{n}}^{2}=\\frac{1}{t_{n}-t_{0}}\\left[\\left(t_{1}-t_{0}\\right) \\sigma_{t_{0}, t_{1}}^{2}+\\left(t_{2}-t_{1}\\right) \\sigma_{t_{1}, t_{2}}^{2}+\\cdots+\\left(t_{n}-t_{n-1}\\right) \\sigma_{t_{n-1}, t_{n}}^{2}\\right]$\n",
    "\n",
    "其中$\\sigma_{t_{n-1}, t_{n}}^{2}$是$t_{n-1}$到$t_n$之间的年华方差，两个时间点之间的差可以是几分钟到几个月不等，比如可以认为$t_3-t_2$是一小时，而$t_4-t_3$是一个月\n",
    "\n",
    "此时，已知0和$t_1$之间的波动率以及0和$t_2$之间的波动率，就可以推导$t_1$和$t_2$之间的局部波动率：\n",
    "$$\\sigma_{t_{0}, t_{2}}^{2}=\\frac{1}{t_{2}-t_{0}}\\left[\\left(t_{1}-t_{0}\\right) \\sigma_{t_{0}, t_{1}}^{2}+\\left(t_{2}-t_{1}\\right) \\sigma_{t_{1}, t_{2}}^{2}\\right]$$\n",
    "\n",
    "总结一下，可得到：\n",
    "$$\\sigma_{t_{n}-\\alpha, t_{n}}=\\sqrt{\\frac{\\sigma_{t_{0}, t_{n}}^{2}\\left(t_{n}-t_{0}\\right)-\\sigma_{t_{0}, t_{n-\\alpha}}^{2}\\left(t_{n-\\alpha}-t_{0}\\right)}{\\left(t_{n}-t_{n-\\alpha}\\right)}}$$\n",
    "\n",
    "#### 计算方法\n",
    "1. 建立分段远期波动率矩阵\n",
    "![forwardIV](../note_pic/截屏2022-08-04%2011.42.07.png)\n",
    "\n",
    "2. 计算波动率变动10%的Vega的敞口（即波动率从15%变动至16.5%带来的PnL）来建立敞口向量E，然后每个乘以10倍的对应日波动率\n",
    "![forwardIV](../note_pic/截屏2022-08-04%2011.42.17.png)\n",
    "\n",
    "3. 建立远期波动率的相关性矩阵M\n",
    "![forwardIV](../note_pic/截屏2022-08-04%2011.42.27.png)\n",
    "\n",
    "用E的转置乘以M，再乘以E，得到的数字就是整体波动率变动一个标准差的PnL"
   ],
   "metadata": {
    "collapsed": false,
    "pycharm": {
     "name": "#%% md\n"
    }
   }
  },
  {
   "cell_type": "code",
   "execution_count": 52,
   "outputs": [
    {
     "name": "stdout",
     "output_type": "stream",
     "text": [
      "20天到期的期权隐波：0.22166832935068564\n",
      "55天到期的期权隐波：0.2070908456208002\n",
      "20-55的远期波动率为:0.19828025216518413\n"
     ]
    }
   ],
   "source": [
    "IV_30 = implied_volatility.vectorized_implied_volatility(0.0685,2.75,2.75,20/252,0,'c')['IV'][0]\n",
    "IV_90 = implied_volatility.vectorized_implied_volatility(0.1061,2.75,2.75,55/252,0,'c')['IV'][0]\n",
    "local_vol_30_90 = np.sqrt((55 * IV_90 * IV_90 - 20 * IV_30 * IV_30)/(55 - 20))\n",
    "print(f'20天到期的期权隐波：{IV_30}\\n55天到期的期权隐波：{IV_90}\\n20-55的远期波动率为:{local_vol_30_90}')"
   ],
   "metadata": {
    "collapsed": false,
    "pycharm": {
     "name": "#%%\n"
    }
   }
  },
  {
   "cell_type": "markdown",
   "source": [],
   "metadata": {
    "collapsed": false,
    "pycharm": {
     "name": "#%% md\n"
    }
   }
  },
  {
   "cell_type": "code",
   "execution_count": 56,
   "outputs": [
    {
     "data": {
      "text/plain": "48.734739149809755"
     },
     "execution_count": 56,
     "metadata": {},
     "output_type": "execute_result"
    }
   ],
   "source": [
    "3.07*np.sqrt(252)"
   ],
   "metadata": {
    "collapsed": false,
    "pycharm": {
     "name": "#%%\n"
    }
   }
  },
  {
   "cell_type": "code",
   "execution_count": 57,
   "outputs": [
    {
     "data": {
      "text/plain": "-0.012245537309972576"
     },
     "execution_count": 57,
     "metadata": {},
     "output_type": "execute_result"
    }
   ],
   "source": [
    "get_all_greeks('c',s,k,t3,0,sigma+0.1)['vega'][0] - get_all_greeks('c',s,k,t3,0,sigma)['vega'][0]"
   ],
   "metadata": {
    "collapsed": false,
    "pycharm": {
     "name": "#%%\n"
    }
   }
  },
  {
   "cell_type": "code",
   "execution_count": 59,
   "outputs": [
    {
     "data": {
      "text/plain": "       Price\n0  27.992889",
      "text/html": "<div>\n<style scoped>\n    .dataframe tbody tr th:only-of-type {\n        vertical-align: middle;\n    }\n\n    .dataframe tbody tr th {\n        vertical-align: top;\n    }\n\n    .dataframe thead th {\n        text-align: right;\n    }\n</style>\n<table border=\"1\" class=\"dataframe\">\n  <thead>\n    <tr style=\"text-align: right;\">\n      <th></th>\n      <th>Price</th>\n    </tr>\n  </thead>\n  <tbody>\n    <tr>\n      <th>0</th>\n      <td>27.992889</td>\n    </tr>\n  </tbody>\n</table>\n</div>"
     },
     "execution_count": 59,
     "metadata": {},
     "output_type": "execute_result"
    }
   ],
   "source": [
    "vectorized_black_scholes('c',s,k,t3,0,sigma+0.1) - vectorized_black_scholes('c',s,k,t3,0,sigma)"
   ],
   "metadata": {
    "collapsed": false,
    "pycharm": {
     "name": "#%%\n"
    }
   }
  },
  {
   "cell_type": "code",
   "execution_count": 60,
   "outputs": [
    {
     "data": {
      "text/plain": "       Price\n0  19.870386",
      "text/html": "<div>\n<style scoped>\n    .dataframe tbody tr th:only-of-type {\n        vertical-align: middle;\n    }\n\n    .dataframe tbody tr th {\n        vertical-align: top;\n    }\n\n    .dataframe thead th {\n        text-align: right;\n    }\n</style>\n<table border=\"1\" class=\"dataframe\">\n  <thead>\n    <tr style=\"text-align: right;\">\n      <th></th>\n      <th>Price</th>\n    </tr>\n  </thead>\n  <tbody>\n    <tr>\n      <th>0</th>\n      <td>19.870386</td>\n    </tr>\n  </tbody>\n</table>\n</div>"
     },
     "execution_count": 60,
     "metadata": {},
     "output_type": "execute_result"
    }
   ],
   "source": [
    "vectorized_black_scholes('c',s,k,t2,0,sigma+0.1) - vectorized_black_scholes('c',s,k,t2,0,sigma)"
   ],
   "metadata": {
    "collapsed": false,
    "pycharm": {
     "name": "#%%\n"
    }
   }
  },
  {
   "cell_type": "code",
   "execution_count": 62,
   "outputs": [
    {
     "data": {
      "text/plain": "1.9891070977056344"
     },
     "execution_count": 62,
     "metadata": {},
     "output_type": "execute_result"
    }
   ],
   "source": [
    "get_all_greeks('c',s,k,t2,0,sigma)['vega'][0]"
   ],
   "metadata": {
    "collapsed": false,
    "pycharm": {
     "name": "#%%\n"
    }
   }
  },
  {
   "cell_type": "code",
   "execution_count": null,
   "outputs": [],
   "source": [],
   "metadata": {
    "collapsed": false,
    "pycharm": {
     "name": "#%%\n"
    }
   }
  }
 ],
 "metadata": {
  "kernelspec": {
   "display_name": "Python 3",
   "language": "python",
   "name": "python3"
  },
  "language_info": {
   "codemirror_mode": {
    "name": "ipython",
    "version": 2
   },
   "file_extension": ".py",
   "mimetype": "text/x-python",
   "name": "python",
   "nbconvert_exporter": "python",
   "pygments_lexer": "ipython2",
   "version": "2.7.6"
  }
 },
 "nbformat": 4,
 "nbformat_minor": 0
}