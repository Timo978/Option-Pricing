{
 "cells": [
  {
   "cell_type": "code",
   "execution_count": 1,
   "metadata": {
    "collapsed": true,
    "pycharm": {
     "name": "#%%\n"
    }
   },
   "outputs": [],
   "source": [
    "from exotic_pricing_HX import ExoticPricing\n",
    "import matplotlib.pyplot as plt\n",
    "from datetime import datetime\n",
    "import numpy as np\n",
    "\n",
    "%matplotlib inline"
   ]
  },
  {
   "cell_type": "code",
   "execution_count": 2,
   "outputs": [
    {
     "name": "stdout",
     "output_type": "stream",
     "text": [
      "----------------------------------------------------------------\n",
      " Number of simulations  100 \n",
      " S0 35.0 \n",
      " K 40.0 \n",
      " Maximum Stock price 267.39 \n",
      " Minimum Stock price 4.24 \n",
      " Average stock price 35.684 \n",
      " Standard Error 0.19213 \n",
      "----------------------------------------------------------------\n"
     ]
    },
    {
     "data": {
      "text/plain": "(35.68417639235075, 0.1921251981957408)"
     },
     "execution_count": 2,
     "metadata": {},
     "output_type": "execute_result"
    }
   ],
   "source": [
    "t = datetime.timestamp(datetime.strptime('20210603-00:00:00', \"%Y%m%d-%H:%M:%S\"))\n",
    "T = datetime.timestamp(datetime.strptime('20220603-00:00:00', \"%Y%m%d-%H:%M:%S\"))\n",
    "T = (T - t) / 60 / 60 / 24 / 365\n",
    "\n",
    "# initialize parameters\n",
    "S0 = 35  # e.g. spot price = 35\n",
    "K = 40  # e.g. exercise price = 40\n",
    "T = T  # e.g. one year\n",
    "r = 0.01  # e.g. risk free rate = 1%\n",
    "sigma = 0.5  # e.g. volatility = 5%\n",
    "npath = 10000  # no. of slices PER YEAR e.g. quarterly adjusted or 252 trading days adjusted\n",
    "\n",
    "# optional parameter\n",
    "simulation_rounds = int(100)  # For monte carlo simulation, a large number of simulations required\n",
    "\n",
    "MC = ExoticPricing(S0=S0,\n",
    "                       K=K,\n",
    "                       T=T,\n",
    "                       r=r,\n",
    "                       sigma=sigma,\n",
    "                       simulation_rounds=simulation_rounds,\n",
    "                       npath=npath,\n",
    "                       fix_random_seed=2)\n",
    "\n",
    "MC.stock_price_simulation()"
   ],
   "metadata": {
    "collapsed": false,
    "pycharm": {
     "name": "#%%\n"
    }
   }
  },
  {
   "cell_type": "code",
   "execution_count": 3,
   "outputs": [],
   "source": [
    "def local_vol(dt,dk,S0,K,T,r,sigma,simulation_rounds,npath):\n",
    "\n",
    "    # 计算每个时点的期权的价格\n",
    "    barrier_price = S0 * 1.3\n",
    "    parisian_barrier_days = 21\n",
    "\n",
    "    MC1 = ExoticPricing(S0=S0,\n",
    "                           K=K,\n",
    "                           T=T,\n",
    "                           r=r,\n",
    "                           sigma=sigma,\n",
    "                           simulation_rounds=simulation_rounds,\n",
    "                           npath=npath,\n",
    "                           fix_random_seed=2)\n",
    "    # MC1.CIR_model(a=0.5, b=0.05, sigma_r=0.1)\n",
    "    # MC1.heston(kappa=2, theta=0.3, sigma_v=0.3, rho=0.5)\n",
    "    MC1.stock_price_simulation()\n",
    "\n",
    "    C0 = MC1.barrier_option(option_type=\"call\",\n",
    "                               barrier_price=barrier_price,\n",
    "                               barrier_type=\"knock-in\",\n",
    "                               barrier_direction=\"down\",\n",
    "                               parisian_barrier_days=parisian_barrier_days)[0]\n",
    "\n",
    "    # 计算此时点上dc by dt\n",
    "    dt = dt\n",
    "    dk = dk\n",
    "\n",
    "    MC1 = ExoticPricing(S0=S0,\n",
    "                           K=K,\n",
    "                           T=T + dt,\n",
    "                           r=r,\n",
    "                           sigma=sigma,\n",
    "                           simulation_rounds=simulation_rounds,\n",
    "                           npath=npath,\n",
    "                           fix_random_seed=2)\n",
    "    # MC1.CIR_model(a=0.5, b=0.05, sigma_r=0.1)\n",
    "    # MC1.heston(kappa=2, theta=0.3, sigma_v=0.3, rho=0.5)\n",
    "    MC1.stock_price_simulation()\n",
    "    c_t = MC1.barrier_option(option_type=\"call\",\n",
    "                                barrier_price=barrier_price,\n",
    "                                barrier_type=\"knock-in\",\n",
    "                                barrier_direction=\"down\",\n",
    "                                parisian_barrier_days=parisian_barrier_days)[0]\n",
    "\n",
    "    dc_dt = (c_t - C0)/dt\n",
    "\n",
    "    # dc by dk\n",
    "    K1 = K + dk  # e.g. exercise price = 40\n",
    "\n",
    "    MC1 = ExoticPricing(S0=S0,\n",
    "                           K=K1,\n",
    "                           T=T,\n",
    "                           r=r,\n",
    "                           sigma=sigma,\n",
    "                           simulation_rounds=simulation_rounds,\n",
    "                           npath=npath,\n",
    "                           fix_random_seed=2)\n",
    "    # MC1.CIR_model(a=0.5, b=0.05, sigma_r=0.1)\n",
    "    # MC1.heston(kappa=2, theta=0.3, sigma_v=0.3, rho=0.5)\n",
    "    MC1.stock_price_simulation()\n",
    "    c_k1 = MC1.barrier_option(option_type=\"call\",\n",
    "                                 barrier_price=barrier_price,\n",
    "                                 barrier_type=\"knock-in\",\n",
    "                                 barrier_direction=\"down\",\n",
    "                                 parisian_barrier_days=parisian_barrier_days)[0]\n",
    "    dc_dk1 = (c_k1 - C0) / dk\n",
    "\n",
    "    K2 = K - dk  # e.g. exercise price = 40\n",
    "    T = T  # e.g. one year\n",
    "\n",
    "    MC1 = ExoticPricing(S0=S0,\n",
    "                           K=K2,\n",
    "                           T=T,\n",
    "                           r=r,\n",
    "                           sigma=sigma,\n",
    "                           simulation_rounds=simulation_rounds,\n",
    "                           npath=npath,\n",
    "                           fix_random_seed=501)\n",
    "    # MC1.CIR_model(a=0.5, b=0.05, sigma_r=0.1)\n",
    "    # MC1.heston(kappa=2, theta=0.3, sigma_v=0.3, rho=0.5)\n",
    "    MC1.stock_price_simulation()\n",
    "    c_k2 = MC1.barrier_option(option_type=\"call\",\n",
    "                                 barrier_price=barrier_price,\n",
    "                                 barrier_type=\"knock-in\",\n",
    "                                 barrier_direction=\"down\",\n",
    "                                 parisian_barrier_days=parisian_barrier_days)[0]\n",
    "    d2c_dk2 = (c_k1 - 2 * C0 + c_k2) / dk ** 2\n",
    "\n",
    "    local_vol = np.sqrt((dc_dt + r * C0 - (r - 0) * (\n",
    "                C0 - K * dc_dk1)) / (0.5 * K * K * d2c_dk2))\n",
    "    return np.array([C0,local_vol])\n"
   ],
   "metadata": {
    "collapsed": false,
    "pycharm": {
     "name": "#%%\n"
    }
   }
  },
  {
   "cell_type": "code",
   "execution_count": 4,
   "outputs": [
    {
     "name": "stdout",
     "output_type": "stream",
     "text": [
      "----------------------------------------------------------------\n",
      " Number of simulations  100 \n",
      " S0 35.0 \n",
      " K 40.0 \n",
      " Maximum Stock price 216.21 \n",
      " Minimum Stock price 5.50 \n",
      " Average stock price 35.409 \n",
      " Standard Error 0.18553 \n",
      "----------------------------------------------------------------\n"
     ]
    },
    {
     "ename": "NameError",
     "evalue": "name 'MC' is not defined",
     "output_type": "error",
     "traceback": [
      "\u001B[0;31m---------------------------------------------------------------------------\u001B[0m",
      "\u001B[0;31mNameError\u001B[0m                                 Traceback (most recent call last)",
      "\u001B[0;32m/var/folders/kb/1kf8hw_j5z585qrzxggc650r0000gq/T/ipykernel_45556/3452388997.py\u001B[0m in \u001B[0;36m<cell line: 6>\u001B[0;34m()\u001B[0m\n\u001B[1;32m      7\u001B[0m     \u001B[0mS\u001B[0m \u001B[0;34m=\u001B[0m \u001B[0mtrue_path\u001B[0m\u001B[0;34m[\u001B[0m\u001B[0mi\u001B[0m\u001B[0;34m]\u001B[0m\u001B[0;34m\u001B[0m\u001B[0;34m\u001B[0m\u001B[0m\n\u001B[1;32m      8\u001B[0m     \u001B[0mT\u001B[0m \u001B[0;34m=\u001B[0m \u001B[0mT\u001B[0m \u001B[0;34m-\u001B[0m \u001B[0mn\u001B[0m \u001B[0;34m*\u001B[0m \u001B[0;34m(\u001B[0m\u001B[0mT\u001B[0m\u001B[0;34m/\u001B[0m\u001B[0mnpath\u001B[0m\u001B[0;34m)\u001B[0m\u001B[0;34m\u001B[0m\u001B[0;34m\u001B[0m\u001B[0m\n\u001B[0;32m----> 9\u001B[0;31m     \u001B[0mlocal_V\u001B[0m\u001B[0;34m[\u001B[0m\u001B[0;34m:\u001B[0m\u001B[0;34m,\u001B[0m\u001B[0mi\u001B[0m\u001B[0;34m]\u001B[0m\u001B[0;34m=\u001B[0m\u001B[0mlocal_vol\u001B[0m\u001B[0;34m(\u001B[0m\u001B[0mdt\u001B[0m\u001B[0;34m,\u001B[0m \u001B[0mdk\u001B[0m\u001B[0;34m,\u001B[0m \u001B[0mS\u001B[0m\u001B[0;34m,\u001B[0m \u001B[0mK\u001B[0m\u001B[0;34m,\u001B[0m \u001B[0mT\u001B[0m\u001B[0;34m,\u001B[0m \u001B[0mr\u001B[0m\u001B[0;34m,\u001B[0m \u001B[0msigma\u001B[0m\u001B[0;34m,\u001B[0m \u001B[0msimulation_rounds\u001B[0m\u001B[0;34m,\u001B[0m \u001B[0mnpath\u001B[0m\u001B[0;34m)\u001B[0m\u001B[0;34m\u001B[0m\u001B[0;34m\u001B[0m\u001B[0m\n\u001B[0m\u001B[1;32m     10\u001B[0m     \u001B[0mn\u001B[0m \u001B[0;34m+=\u001B[0m \u001B[0;36m1\u001B[0m\u001B[0;34m\u001B[0m\u001B[0;34m\u001B[0m\u001B[0m\n\u001B[1;32m     11\u001B[0m \u001B[0;34m\u001B[0m\u001B[0m\n",
      "\u001B[0;32m/var/folders/kb/1kf8hw_j5z585qrzxggc650r0000gq/T/ipykernel_45556/1517469978.py\u001B[0m in \u001B[0;36mlocal_vol\u001B[0;34m(dt, dk, S0, K, T, r, sigma, simulation_rounds, npath)\u001B[0m\n\u001B[1;32m     17\u001B[0m     \u001B[0mMC1\u001B[0m\u001B[0;34m.\u001B[0m\u001B[0mstock_price_simulation\u001B[0m\u001B[0;34m(\u001B[0m\u001B[0;34m)\u001B[0m\u001B[0;34m\u001B[0m\u001B[0;34m\u001B[0m\u001B[0m\n\u001B[1;32m     18\u001B[0m \u001B[0;34m\u001B[0m\u001B[0m\n\u001B[0;32m---> 19\u001B[0;31m     C0 = MC1.barrier_option(option_type=\"call\",\n\u001B[0m\u001B[1;32m     20\u001B[0m                                \u001B[0mbarrier_price\u001B[0m\u001B[0;34m=\u001B[0m\u001B[0mbarrier_price\u001B[0m\u001B[0;34m,\u001B[0m\u001B[0;34m\u001B[0m\u001B[0;34m\u001B[0m\u001B[0m\n\u001B[1;32m     21\u001B[0m                                \u001B[0mbarrier_type\u001B[0m\u001B[0;34m=\u001B[0m\u001B[0;34m\"knock-in\"\u001B[0m\u001B[0;34m,\u001B[0m\u001B[0;34m\u001B[0m\u001B[0;34m\u001B[0m\u001B[0m\n",
      "\u001B[0;32m~/Desktop/Option-Pricing/exotic_pricing_HX.py\u001B[0m in \u001B[0;36mbarrier_option\u001B[0;34m(self, option_type, barrier_price, barrier_type, barrier_direction, parisian_barrier_days)\u001B[0m\n\u001B[1;32m    300\u001B[0m                 \u001B[0mdays_to_slices\u001B[0m \u001B[0;34m=\u001B[0m \u001B[0mint\u001B[0m\u001B[0;34m(\u001B[0m\u001B[0mparisian_barrier_days\u001B[0m \u001B[0;34m*\u001B[0m \u001B[0mself\u001B[0m\u001B[0;34m.\u001B[0m\u001B[0msimulation_rounds\u001B[0m \u001B[0;34m/\u001B[0m \u001B[0;34m(\u001B[0m\u001B[0mself\u001B[0m\u001B[0;34m.\u001B[0m\u001B[0mT\u001B[0m \u001B[0;34m*\u001B[0m \u001B[0;36m365\u001B[0m\u001B[0;34m)\u001B[0m\u001B[0;34m)\u001B[0m\u001B[0;34m\u001B[0m\u001B[0;34m\u001B[0m\u001B[0m\n\u001B[1;32m    301\u001B[0m                 \u001B[0mparisian_barrier_check\u001B[0m \u001B[0;34m=\u001B[0m \u001B[0mnp\u001B[0m\u001B[0;34m.\u001B[0m\u001B[0mzeros\u001B[0m\u001B[0;34m(\u001B[0m\u001B[0;34m(\u001B[0m\u001B[0mself\u001B[0m\u001B[0;34m.\u001B[0m\u001B[0msimulation_rounds\u001B[0m \u001B[0;34m-\u001B[0m \u001B[0mdays_to_slices\u001B[0m\u001B[0;34m,\u001B[0m \u001B[0mself\u001B[0m\u001B[0;34m.\u001B[0m\u001B[0mnpath\u001B[0m\u001B[0;34m)\u001B[0m\u001B[0;34m)\u001B[0m\u001B[0;34m\u001B[0m\u001B[0;34m\u001B[0m\u001B[0m\n\u001B[0;32m--> 302\u001B[0;31m                 \u001B[0;32mfor\u001B[0m \u001B[0mi\u001B[0m \u001B[0;32min\u001B[0m \u001B[0mrange\u001B[0m\u001B[0;34m(\u001B[0m\u001B[0;36m0\u001B[0m\u001B[0;34m,\u001B[0m \u001B[0mMC\u001B[0m\u001B[0;34m.\u001B[0m\u001B[0msimulation_rounds\u001B[0m \u001B[0;34m-\u001B[0m \u001B[0mdays_to_slices\u001B[0m\u001B[0;34m)\u001B[0m\u001B[0;34m:\u001B[0m\u001B[0;34m\u001B[0m\u001B[0;34m\u001B[0m\u001B[0m\n\u001B[0m\u001B[1;32m    303\u001B[0m                     \u001B[0mparisian_barrier_check\u001B[0m\u001B[0;34m[\u001B[0m\u001B[0mi\u001B[0m\u001B[0;34m,\u001B[0m \u001B[0;34m:\u001B[0m\u001B[0;34m]\u001B[0m \u001B[0;34m=\u001B[0m \u001B[0mnp\u001B[0m\u001B[0;34m.\u001B[0m\u001B[0mwhere\u001B[0m\u001B[0;34m(\u001B[0m\u001B[0mnp\u001B[0m\u001B[0;34m.\u001B[0m\u001B[0msum\u001B[0m\u001B[0;34m(\u001B[0m\u001B[0mbarrier_check\u001B[0m\u001B[0;34m[\u001B[0m\u001B[0mi\u001B[0m\u001B[0;34m:\u001B[0m\u001B[0mi\u001B[0m \u001B[0;34m+\u001B[0m \u001B[0mdays_to_slices\u001B[0m\u001B[0;34m,\u001B[0m \u001B[0;34m:\u001B[0m\u001B[0;34m]\u001B[0m\u001B[0;34m,\u001B[0m \u001B[0maxis\u001B[0m\u001B[0;34m=\u001B[0m\u001B[0;36m0\u001B[0m\u001B[0;34m)\u001B[0m \u001B[0;34m>=\u001B[0m \u001B[0mdays_to_slices\u001B[0m\u001B[0;34m,\u001B[0m \u001B[0;36m1\u001B[0m\u001B[0;34m,\u001B[0m \u001B[0;36m0\u001B[0m\u001B[0;34m)\u001B[0m\u001B[0;34m\u001B[0m\u001B[0;34m\u001B[0m\u001B[0m\n\u001B[1;32m    304\u001B[0m \u001B[0;34m\u001B[0m\u001B[0m\n",
      "\u001B[0;31mNameError\u001B[0m: name 'MC' is not defined"
     ]
    }
   ],
   "source": [
    "true_path  = MC.price_array[:,np.random.randint(npath)]\n",
    "n = 0\n",
    "dt = 1/252\n",
    "dk = 0.5\n",
    "local_V = np.zeros([2,simulation_rounds])\n",
    "for i in range(len(true_path)):\n",
    "    S = true_path[i]\n",
    "    T = T - n * (T/npath)\n",
    "    local_V[:,i]=local_vol(dt, dk, S, K, T, r, sigma, simulation_rounds, npath)\n",
    "    n += 1\n",
    "\n",
    "# local_V[1, np.where(np.isnan(local_V))[1]] = np.interp(local_V[0, np.where(np.isnan(local_V))[1]],local_V[0],local_V[1])"
   ],
   "metadata": {
    "collapsed": false,
    "pycharm": {
     "name": "#%%\n"
    }
   }
  },
  {
   "cell_type": "code",
   "execution_count": 5,
   "outputs": [
    {
     "name": "stdout",
     "output_type": "stream",
     "text": [
      "----------------------------------------------------------------\n",
      " Number of simulations  100 \n",
      " S0 35.0 \n",
      " K 40.0 \n",
      " Maximum Stock price 207.52 \n",
      " Minimum Stock price 4.98 \n",
      " Average stock price 35.204 \n",
      " Standard Error 0.18600 \n",
      "----------------------------------------------------------------\n"
     ]
    },
    {
     "ename": "NameError",
     "evalue": "name 'MC' is not defined",
     "output_type": "error",
     "traceback": [
      "\u001B[0;31m---------------------------------------------------------------------------\u001B[0m",
      "\u001B[0;31mNameError\u001B[0m                                 Traceback (most recent call last)",
      "\u001B[0;32m/var/folders/kb/1kf8hw_j5z585qrzxggc650r0000gq/T/ipykernel_45523/4166376899.py\u001B[0m in \u001B[0;36m<cell line: 1>\u001B[0;34m()\u001B[0m\n\u001B[0;32m----> 1\u001B[0;31m \u001B[0mlocal_vol\u001B[0m\u001B[0;34m(\u001B[0m\u001B[0mdt\u001B[0m\u001B[0;34m,\u001B[0m \u001B[0mdk\u001B[0m\u001B[0;34m,\u001B[0m \u001B[0mS\u001B[0m\u001B[0;34m,\u001B[0m \u001B[0mK\u001B[0m\u001B[0;34m,\u001B[0m \u001B[0mT\u001B[0m\u001B[0;34m,\u001B[0m \u001B[0mr\u001B[0m\u001B[0;34m,\u001B[0m \u001B[0msigma\u001B[0m\u001B[0;34m,\u001B[0m \u001B[0msimulation_rounds\u001B[0m\u001B[0;34m,\u001B[0m \u001B[0mnpath\u001B[0m\u001B[0;34m)\u001B[0m\u001B[0;34m\u001B[0m\u001B[0;34m\u001B[0m\u001B[0m\n\u001B[0m",
      "\u001B[0;32m/var/folders/kb/1kf8hw_j5z585qrzxggc650r0000gq/T/ipykernel_45523/1517469978.py\u001B[0m in \u001B[0;36mlocal_vol\u001B[0;34m(dt, dk, S0, K, T, r, sigma, simulation_rounds, npath)\u001B[0m\n\u001B[1;32m     17\u001B[0m     \u001B[0mMC1\u001B[0m\u001B[0;34m.\u001B[0m\u001B[0mstock_price_simulation\u001B[0m\u001B[0;34m(\u001B[0m\u001B[0;34m)\u001B[0m\u001B[0;34m\u001B[0m\u001B[0;34m\u001B[0m\u001B[0m\n\u001B[1;32m     18\u001B[0m \u001B[0;34m\u001B[0m\u001B[0m\n\u001B[0;32m---> 19\u001B[0;31m     C0 = MC1.barrier_option(option_type=\"call\",\n\u001B[0m\u001B[1;32m     20\u001B[0m                                \u001B[0mbarrier_price\u001B[0m\u001B[0;34m=\u001B[0m\u001B[0mbarrier_price\u001B[0m\u001B[0;34m,\u001B[0m\u001B[0;34m\u001B[0m\u001B[0;34m\u001B[0m\u001B[0m\n\u001B[1;32m     21\u001B[0m                                \u001B[0mbarrier_type\u001B[0m\u001B[0;34m=\u001B[0m\u001B[0;34m\"knock-in\"\u001B[0m\u001B[0;34m,\u001B[0m\u001B[0;34m\u001B[0m\u001B[0;34m\u001B[0m\u001B[0m\n",
      "\u001B[0;32m~/Desktop/Option-Pricing/exotic_pricing_HX.py\u001B[0m in \u001B[0;36mbarrier_option\u001B[0;34m(self, option_type, barrier_price, barrier_type, barrier_direction, parisian_barrier_days)\u001B[0m\n\u001B[1;32m    300\u001B[0m                 \u001B[0mdays_to_slices\u001B[0m \u001B[0;34m=\u001B[0m \u001B[0mint\u001B[0m\u001B[0;34m(\u001B[0m\u001B[0mparisian_barrier_days\u001B[0m \u001B[0;34m*\u001B[0m \u001B[0mself\u001B[0m\u001B[0;34m.\u001B[0m\u001B[0msimulation_rounds\u001B[0m \u001B[0;34m/\u001B[0m \u001B[0;34m(\u001B[0m\u001B[0mself\u001B[0m\u001B[0;34m.\u001B[0m\u001B[0mT\u001B[0m \u001B[0;34m*\u001B[0m \u001B[0;36m365\u001B[0m\u001B[0;34m)\u001B[0m\u001B[0;34m)\u001B[0m\u001B[0;34m\u001B[0m\u001B[0;34m\u001B[0m\u001B[0m\n\u001B[1;32m    301\u001B[0m                 \u001B[0mparisian_barrier_check\u001B[0m \u001B[0;34m=\u001B[0m \u001B[0mnp\u001B[0m\u001B[0;34m.\u001B[0m\u001B[0mzeros\u001B[0m\u001B[0;34m(\u001B[0m\u001B[0;34m(\u001B[0m\u001B[0mself\u001B[0m\u001B[0;34m.\u001B[0m\u001B[0msimulation_rounds\u001B[0m \u001B[0;34m-\u001B[0m \u001B[0mdays_to_slices\u001B[0m\u001B[0;34m,\u001B[0m \u001B[0mself\u001B[0m\u001B[0;34m.\u001B[0m\u001B[0mnpath\u001B[0m\u001B[0;34m)\u001B[0m\u001B[0;34m)\u001B[0m\u001B[0;34m\u001B[0m\u001B[0;34m\u001B[0m\u001B[0m\n\u001B[0;32m--> 302\u001B[0;31m                 \u001B[0;32mfor\u001B[0m \u001B[0mi\u001B[0m \u001B[0;32min\u001B[0m \u001B[0mrange\u001B[0m\u001B[0;34m(\u001B[0m\u001B[0;36m0\u001B[0m\u001B[0;34m,\u001B[0m \u001B[0mMC\u001B[0m\u001B[0;34m.\u001B[0m\u001B[0msimulation_rounds\u001B[0m \u001B[0;34m-\u001B[0m \u001B[0mdays_to_slices\u001B[0m\u001B[0;34m)\u001B[0m\u001B[0;34m:\u001B[0m\u001B[0;34m\u001B[0m\u001B[0;34m\u001B[0m\u001B[0m\n\u001B[0m\u001B[1;32m    303\u001B[0m                     \u001B[0mparisian_barrier_check\u001B[0m\u001B[0;34m[\u001B[0m\u001B[0mi\u001B[0m\u001B[0;34m,\u001B[0m \u001B[0;34m:\u001B[0m\u001B[0;34m]\u001B[0m \u001B[0;34m=\u001B[0m \u001B[0mnp\u001B[0m\u001B[0;34m.\u001B[0m\u001B[0mwhere\u001B[0m\u001B[0;34m(\u001B[0m\u001B[0mnp\u001B[0m\u001B[0;34m.\u001B[0m\u001B[0msum\u001B[0m\u001B[0;34m(\u001B[0m\u001B[0mbarrier_check\u001B[0m\u001B[0;34m[\u001B[0m\u001B[0mi\u001B[0m\u001B[0;34m:\u001B[0m\u001B[0mi\u001B[0m \u001B[0;34m+\u001B[0m \u001B[0mdays_to_slices\u001B[0m\u001B[0;34m,\u001B[0m \u001B[0;34m:\u001B[0m\u001B[0;34m]\u001B[0m\u001B[0;34m,\u001B[0m \u001B[0maxis\u001B[0m\u001B[0;34m=\u001B[0m\u001B[0;36m0\u001B[0m\u001B[0;34m)\u001B[0m \u001B[0;34m>=\u001B[0m \u001B[0mdays_to_slices\u001B[0m\u001B[0;34m,\u001B[0m \u001B[0;36m1\u001B[0m\u001B[0;34m,\u001B[0m \u001B[0;36m0\u001B[0m\u001B[0;34m)\u001B[0m\u001B[0;34m\u001B[0m\u001B[0;34m\u001B[0m\u001B[0m\n\u001B[1;32m    304\u001B[0m \u001B[0;34m\u001B[0m\u001B[0m\n",
      "\u001B[0;31mNameError\u001B[0m: name 'MC' is not defined"
     ]
    }
   ],
   "source": [
    "local_vol(dt, dk, S, K, T, r, sigma, simulation_rounds, npath)"
   ],
   "metadata": {
    "collapsed": false,
    "pycharm": {
     "name": "#%%\n"
    }
   }
  },
  {
   "cell_type": "code",
   "execution_count": null,
   "outputs": [],
   "source": [
    "fig = plt.figure(figsize=(10,8))\n",
    "plt.subplot(211)\n",
    "plt.plot(true_path,label='stock price')\n",
    "\n",
    "plt.subplot(212)\n",
    "plt.plot(local_V[0],color = 'r',label = 'barrier opt price')\n",
    "plt.plot(local_V[1],color = 'orange',label = 'option local vol')\n",
    "\n",
    "lines = []\n",
    "labels = []\n",
    "for ax in fig.axes:\n",
    "    axLine, axLabel = ax.get_legend_handles_labels()\n",
    "    lines.extend(axLine)\n",
    "    labels.extend(axLabel)\n",
    "\n",
    "fig.legend(lines, labels,\n",
    "           loc = 'upper right')\n",
    "\n",
    "plt.show()"
   ],
   "metadata": {
    "collapsed": false,
    "pycharm": {
     "name": "#%%\n"
    }
   }
  },
  {
   "cell_type": "code",
   "execution_count": 7,
   "outputs": [
    {
     "name": "stdout",
     "output_type": "stream",
     "text": [
      "----------------------------------------------------------------\n",
      " Number of simulations  100 \n",
      " S0 35.0 \n",
      " K 40.0 \n",
      " Maximum Stock price 207.52 \n",
      " Minimum Stock price 4.98 \n",
      " Average stock price 35.204 \n",
      " Standard Error 0.18600 \n",
      "----------------------------------------------------------------\n"
     ]
    },
    {
     "ename": "NameError",
     "evalue": "name 'MC' is not defined",
     "output_type": "error",
     "traceback": [
      "\u001B[0;31m---------------------------------------------------------------------------\u001B[0m",
      "\u001B[0;31mNameError\u001B[0m                                 Traceback (most recent call last)",
      "\u001B[0;32m/var/folders/kb/1kf8hw_j5z585qrzxggc650r0000gq/T/ipykernel_44619/2575798859.py\u001B[0m in \u001B[0;36m<cell line: 17>\u001B[0;34m()\u001B[0m\n\u001B[1;32m     15\u001B[0m \u001B[0mMC\u001B[0m\u001B[0;34m.\u001B[0m\u001B[0mstock_price_simulation\u001B[0m\u001B[0;34m(\u001B[0m\u001B[0;34m)\u001B[0m\u001B[0;34m\u001B[0m\u001B[0;34m\u001B[0m\u001B[0m\n\u001B[1;32m     16\u001B[0m \u001B[0;34m\u001B[0m\u001B[0m\n\u001B[0;32m---> 17\u001B[0;31m C0 = MC.barrier_option(option_type=\"call\",\n\u001B[0m\u001B[1;32m     18\u001B[0m                                \u001B[0mbarrier_price\u001B[0m\u001B[0;34m=\u001B[0m\u001B[0mbarrier_price\u001B[0m\u001B[0;34m,\u001B[0m\u001B[0;34m\u001B[0m\u001B[0;34m\u001B[0m\u001B[0m\n\u001B[1;32m     19\u001B[0m                                \u001B[0mbarrier_type\u001B[0m\u001B[0;34m=\u001B[0m\u001B[0;34m\"knock-in\"\u001B[0m\u001B[0;34m,\u001B[0m\u001B[0;34m\u001B[0m\u001B[0;34m\u001B[0m\u001B[0m\n",
      "\u001B[0;32m~/Desktop/Option-Pricing/exotic_pricing_HX.py\u001B[0m in \u001B[0;36mbarrier_option\u001B[0;34m(self, option_type, barrier_price, barrier_type, barrier_direction, parisian_barrier_days)\u001B[0m\n\u001B[1;32m    300\u001B[0m                 \u001B[0mdays_to_slices\u001B[0m \u001B[0;34m=\u001B[0m \u001B[0mint\u001B[0m\u001B[0;34m(\u001B[0m\u001B[0mparisian_barrier_days\u001B[0m \u001B[0;34m*\u001B[0m \u001B[0mself\u001B[0m\u001B[0;34m.\u001B[0m\u001B[0msimulation_rounds\u001B[0m \u001B[0;34m/\u001B[0m \u001B[0;34m(\u001B[0m\u001B[0mself\u001B[0m\u001B[0;34m.\u001B[0m\u001B[0mT\u001B[0m \u001B[0;34m*\u001B[0m \u001B[0;36m365\u001B[0m\u001B[0;34m)\u001B[0m\u001B[0;34m)\u001B[0m\u001B[0;34m\u001B[0m\u001B[0;34m\u001B[0m\u001B[0m\n\u001B[1;32m    301\u001B[0m                 \u001B[0mparisian_barrier_check\u001B[0m \u001B[0;34m=\u001B[0m \u001B[0mnp\u001B[0m\u001B[0;34m.\u001B[0m\u001B[0mzeros\u001B[0m\u001B[0;34m(\u001B[0m\u001B[0;34m(\u001B[0m\u001B[0mself\u001B[0m\u001B[0;34m.\u001B[0m\u001B[0msimulation_rounds\u001B[0m \u001B[0;34m-\u001B[0m \u001B[0mdays_to_slices\u001B[0m\u001B[0;34m,\u001B[0m \u001B[0mself\u001B[0m\u001B[0;34m.\u001B[0m\u001B[0mnpath\u001B[0m\u001B[0;34m)\u001B[0m\u001B[0;34m)\u001B[0m\u001B[0;34m\u001B[0m\u001B[0;34m\u001B[0m\u001B[0m\n\u001B[0;32m--> 302\u001B[0;31m                 \u001B[0;32mfor\u001B[0m \u001B[0mi\u001B[0m \u001B[0;32min\u001B[0m \u001B[0mrange\u001B[0m\u001B[0;34m(\u001B[0m\u001B[0;36m0\u001B[0m\u001B[0;34m,\u001B[0m \u001B[0mMC\u001B[0m\u001B[0;34m.\u001B[0m\u001B[0msimulation_rounds\u001B[0m \u001B[0;34m-\u001B[0m \u001B[0mdays_to_slices\u001B[0m\u001B[0;34m)\u001B[0m\u001B[0;34m:\u001B[0m\u001B[0;34m\u001B[0m\u001B[0;34m\u001B[0m\u001B[0m\n\u001B[0m\u001B[1;32m    303\u001B[0m                     \u001B[0mparisian_barrier_check\u001B[0m\u001B[0;34m[\u001B[0m\u001B[0mi\u001B[0m\u001B[0;34m,\u001B[0m \u001B[0;34m:\u001B[0m\u001B[0;34m]\u001B[0m \u001B[0;34m=\u001B[0m \u001B[0mnp\u001B[0m\u001B[0;34m.\u001B[0m\u001B[0mwhere\u001B[0m\u001B[0;34m(\u001B[0m\u001B[0mnp\u001B[0m\u001B[0;34m.\u001B[0m\u001B[0msum\u001B[0m\u001B[0;34m(\u001B[0m\u001B[0mbarrier_check\u001B[0m\u001B[0;34m[\u001B[0m\u001B[0mi\u001B[0m\u001B[0;34m:\u001B[0m\u001B[0mi\u001B[0m \u001B[0;34m+\u001B[0m \u001B[0mdays_to_slices\u001B[0m\u001B[0;34m,\u001B[0m \u001B[0;34m:\u001B[0m\u001B[0;34m]\u001B[0m\u001B[0;34m,\u001B[0m \u001B[0maxis\u001B[0m\u001B[0;34m=\u001B[0m\u001B[0;36m0\u001B[0m\u001B[0;34m)\u001B[0m \u001B[0;34m>=\u001B[0m \u001B[0mdays_to_slices\u001B[0m\u001B[0;34m,\u001B[0m \u001B[0;36m1\u001B[0m\u001B[0;34m,\u001B[0m \u001B[0;36m0\u001B[0m\u001B[0;34m)\u001B[0m\u001B[0;34m\u001B[0m\u001B[0;34m\u001B[0m\u001B[0m\n\u001B[1;32m    304\u001B[0m \u001B[0;34m\u001B[0m\u001B[0m\n",
      "\u001B[0;31mNameError\u001B[0m: name 'MC' is not defined"
     ]
    }
   ],
   "source": [
    "# 计算每个时点的期权的价格\n",
    "barrier_price = S0 * 1.3\n",
    "parisian_barrier_days = 21\n",
    "\n",
    "MC = ExoticPricing(S0=S0,\n",
    "                           K=K,\n",
    "                           T=T,\n",
    "                           r=r,\n",
    "                           sigma=sigma,\n",
    "                           simulation_rounds=simulation_rounds,\n",
    "                           npath=npath,\n",
    "                           fix_random_seed=2)\n",
    "    # MC.CIR_model(a=0.5, b=0.05, sigma_r=0.1)\n",
    "    # MC.heston(kappa=2, theta=0.3, sigma_v=0.3, rho=0.5)\n",
    "MC.stock_price_simulation()\n",
    "\n",
    "C0 = MC.barrier_option('call',)"
   ],
   "metadata": {
    "collapsed": false,
    "pycharm": {
     "name": "#%%\n"
    }
   }
  },
  {
   "cell_type": "code",
   "execution_count": null,
   "outputs": [],
   "source": [],
   "metadata": {
    "collapsed": false,
    "pycharm": {
     "name": "#%%\n"
    }
   }
  }
 ],
 "metadata": {
  "kernelspec": {
   "display_name": "Python 3",
   "language": "python",
   "name": "python3"
  },
  "language_info": {
   "codemirror_mode": {
    "name": "ipython",
    "version": 2
   },
   "file_extension": ".py",
   "mimetype": "text/x-python",
   "name": "python",
   "nbconvert_exporter": "python",
   "pygments_lexer": "ipython2",
   "version": "2.7.6"
  }
 },
 "nbformat": 4,
 "nbformat_minor": 0
}