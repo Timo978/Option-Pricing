{
 "cells": [
  {
   "cell_type": "code",
   "execution_count": 1,
   "metadata": {
    "collapsed": true,
    "pycharm": {
     "name": "#%%\n"
    }
   },
   "outputs": [],
   "source": [
    "from pandas_datareader import data\n",
    "import pandas as pd\n",
    "import numpy as np\n",
    "import datetime\n",
    "import matplotlib.pyplot as plt\n",
    "from scipy.stats.mstats import mquantiles\n",
    "\n",
    "%matplotlib inline"
   ]
  },
  {
   "cell_type": "code",
   "execution_count": null,
   "outputs": [],
   "source": [
    "def calc_sigma(N, X):\n",
    "    return np.sqrt(sum((X)**2) / float(N - 1)) * np.sqrt(365)\n",
    "\n",
    "def calc_daily_sigma(lookback, df):\n",
    "    results = np.zeros(len(df))\n",
    "    start = 0\n",
    "    end = lookback\n",
    "    results[start:end] = np.nan\n",
    "    while end < len(df):\n",
    "        results[end] = calc_sigma(lookback, df['log_ret'][start:end]) # lookback相当于样本数量，算出来的是滚动日波动率\n",
    "        start += 1\n",
    "        end += 1\n",
    "    return results\n",
    "\n",
    "def calc_sigmas(N, X, period=20):\n",
    "    '''\n",
    "    Parameters\n",
    "    ----------\n",
    "    N:\n",
    "    X\n",
    "    period\n",
    "\n",
    "    Returns：RV_period\n",
    "    -------\n",
    "\n",
    "    '''\n",
    "    start = 0\n",
    "    end = N\n",
    "\n",
    "    results = []\n",
    "\n",
    "    while end <= len(X):\n",
    "        sigma = calc_sigma(N, X[start:end])\n",
    "        results.append(sigma)\n",
    "        start += period\n",
    "        end += period\n",
    "\n",
    "    sigmas = np.array(results)\n",
    "    mean = sigmas.mean()\n",
    "    \n",
    "    return sigmas.min(), mean, sigmas.max()"
   ],
   "metadata": {
    "collapsed": false,
    "pycharm": {
     "name": "#%%\n"
    }
   }
  },
  {
   "cell_type": "code",
   "execution_count": null,
   "outputs": [],
   "source": [
    "start = datetime.datetime(2017,1,1)#获取数据的时间段-起始时间\n",
    "end = datetime.date.today()#获取数据的时间段-结束时间\n",
    "df = data.get_data_yahoo('BTC-USD', start=start, end=end)\n",
    "\n",
    "df.head()"
   ],
   "metadata": {
    "collapsed": false,
    "pycharm": {
     "name": "#%%\n"
    }
   }
  },
  {
   "cell_type": "code",
   "execution_count": null,
   "outputs": [],
   "source": [
    "df['log_ret'] = np.log(df['Close']/df['Close'].shift())"
   ],
   "metadata": {
    "collapsed": false,
    "pycharm": {
     "name": "#%%\n"
    }
   }
  },
  {
   "cell_type": "markdown",
   "source": [
    "$$\\sigma_{daily}^{2}=\\frac{1}{N-1} \\sum_{i=1}^{N}\\left(x_{i}\\right)^{2}$$\n",
    "其中$x_i$为对数收益率，$\\bar{x}$为样本的平均收益率，N为样本数量\n",
    "\n",
    "滚动X日的**日波动率**等于:\n",
    "$\\sigma_{daily_X}$ = log return.rolling(X).std() * $\\sqrt{365}$\n",
    "\n",
    "周波动率等于:\n",
    "$$\\sigma_{week} = \\sqrt{7}\\sigma_{daily}$$\n",
    "\n",
    "月波动率等于:\n",
    "$$\\sigma_{month} = \\sqrt{30}\\sigma_{daily}$$"
   ],
   "metadata": {
    "collapsed": false,
    "pycharm": {
     "name": "#%% md\n"
    }
   }
  },
  {
   "cell_type": "code",
   "execution_count": null,
   "outputs": [],
   "source": [
    "df['log_ret'] = np.log(df['Close']/df['Close'].shift())\n",
    "close_data = df['log_ret'][-300:].values\n",
    "\n",
    "days_to_expiry = [20, 60, 120, 180, 240]\n",
    "\n",
    "lower = []\n",
    "means = []\n",
    "upper = []\n",
    "\n",
    "for expiry in days_to_expiry:\n",
    "    np_lower, np_mean, np_upper = calc_sigmas(expiry, close_data)\n",
    "    lower.append(np_lower)\n",
    "    means.append(np_mean)\n",
    "    upper.append(np_upper)\n",
    "\n",
    "close_data = df.iloc[-300:,:]\n",
    "historical_sigma_20d = calc_daily_sigma(20, close_data)\n",
    "historical_sigma_240d = calc_daily_sigma(240, close_data)"
   ],
   "metadata": {
    "collapsed": false,
    "pycharm": {
     "name": "#%%\n"
    }
   }
  },
  {
   "cell_type": "code",
   "execution_count": null,
   "outputs": [],
   "source": [
    "limit = max(days_to_expiry)\n",
    "x = range(0, limit)\n",
    "\n",
    "fig = plt.figure(figsize=(20,10))\n",
    "ax1 = fig.add_subplot(3, 1, 1)\n",
    "plt.plot(days_to_expiry, lower, color='red', label='Lower')\n",
    "plt.plot(days_to_expiry, means, color='grey', label='Average')\n",
    "plt.plot(days_to_expiry, upper, color='blue', label='Upper')\n",
    "plt.axhline(lower[0], linestyle='dashed', color='red')\n",
    "plt.axhline(lower[-1], linestyle='dashed', color='red')\n",
    "plt.axhline(upper[0], linestyle='dashed', color='blue')\n",
    "plt.axhline(upper[-1], linestyle='dashed', color='blue')\n",
    "ax1.set_title('Volatility Cones')\n",
    "plt.legend(bbox_to_anchor=(1., 1.), loc=2)\n",
    "\n",
    "ax2 = fig.add_subplot(3, 1, 2)\n",
    "plt.plot(x, historical_sigma_20d[-limit:], label='Historical')\n",
    "plt.axhline(lower[0], linestyle='dashed', color='red')\n",
    "plt.axhline(upper[0], linestyle='dashed', color='blue')\n",
    "ax2.set_title('20 Day Volatilities')\n",
    "ax2.set_xlim(ax1.get_xlim())\n",
    "ax2.set_ylim(ax1.get_ylim())\n",
    "plt.legend(bbox_to_anchor=(1., 1.), loc=2)\n",
    "\n",
    "ax3 = fig.add_subplot(3, 1, 3)\n",
    "plt.plot(x, historical_sigma_240d[-limit:], label='Historical')\n",
    "plt.axhline(lower[-1], linestyle='dashed', color='red')\n",
    "plt.axhline(upper[-1], linestyle='dashed', color='blue')\n",
    "ax3.set_title('240 Day Volatilities')\n",
    "ax3.set_xlim(ax1.get_xlim())\n",
    "ax3.set_ylim(ax1.get_ylim())\n",
    "plt.legend(bbox_to_anchor=(1., 1.), loc=2)\n",
    "plt.show()"
   ],
   "metadata": {
    "collapsed": false,
    "pycharm": {
     "name": "#%%\n"
    }
   }
  },
  {
   "cell_type": "code",
   "execution_count": null,
   "outputs": [],
   "source": [
    "start = datetime.datetime(2017,1,1)#获取数据的时间段-起始时间\n",
    "end = datetime.date.today()#获取数据的时间段-结束时间\n",
    "df = data.get_data_yahoo('BTC-USD', start=start, end=end)\n",
    "\n",
    "df.head()"
   ],
   "metadata": {
    "collapsed": false,
    "pycharm": {
     "name": "#%%\n"
    }
   }
  },
  {
   "cell_type": "code",
   "execution_count": null,
   "outputs": [],
   "source": [
    "df['log_ret'] = np.log(df['Close']/df['Close'].shift())\n",
    "max = []\n",
    "m75 = []\n",
    "m50 = []\n",
    "m25 = []\n",
    "\n",
    "for i in np.arange(20,160,20):\n",
    "    df[f'rv_{i}'] = df['log_ret'].rolling(i).std()*np.sqrt(365)\n",
    "    max.append(df[f'rv_{i}'].quantile(1))\n",
    "    m75.append(df[f'rv_{i}'].quantile(.75))\n",
    "    m50.append(df[f'rv_{i}'].quantile(.5))\n",
    "    m25.append(df[f'rv_{i}'].quantile(.25))\n"
   ],
   "metadata": {
    "collapsed": false,
    "pycharm": {
     "name": "#%%\n"
    }
   }
  },
  {
   "cell_type": "code",
   "execution_count": null,
   "outputs": [],
   "source": [
    "fig,ax = plt.subplots(figsize = (20,10))\n",
    "x = np.arange(20,160,20)\n",
    "ax.plot(x,m25,label='25%')\n",
    "ax.plot(x,m50,label='50%')\n",
    "ax.plot(x,m75,label='75%')\n",
    "ax.plot(x,max,label='100%')\n",
    "ax.legend()\n",
    "\n",
    "plt.show()"
   ],
   "metadata": {
    "collapsed": false,
    "pycharm": {
     "name": "#%%\n"
    }
   }
  },
  {
   "cell_type": "code",
   "execution_count": null,
   "outputs": [],
   "source": [],
   "metadata": {
    "collapsed": false,
    "pycharm": {
     "name": "#%%\n"
    }
   }
  }
 ],
 "metadata": {
  "kernelspec": {
   "display_name": "Python 3",
   "language": "python",
   "name": "python3"
  },
  "language_info": {
   "codemirror_mode": {
    "name": "ipython",
    "version": 2
   },
   "file_extension": ".py",
   "mimetype": "text/x-python",
   "name": "python",
   "nbconvert_exporter": "python",
   "pygments_lexer": "ipython2",
   "version": "2.7.6"
  }
 },
 "nbformat": 4,
 "nbformat_minor": 0
}