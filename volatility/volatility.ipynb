{
 "cells": [
  {
   "cell_type": "markdown",
   "source": [
    "# 波动率\n",
    "## 定义\n",
    "**对数收益率方差**的平方根\n",
    "\n",
    "方差的定义为:\n",
    "$$s^{2}=\\frac{1}{N} \\sum_{i=1}^{N}\\left(x_{i}-\\bar{x}\\right)^{2}$$\n",
    "其中$x_i$为对数收益率，$\\bar{x}$为样本的平均收益率，N为样本数量\n",
    "\n",
    "为了将方差以年化的形式表示，我们需要将原方差乘以年化因子N，也就是一年的交易周期。例如，当我们使用日频数据时，N就是252，因为这是一年中的交易日数量\n",
    "\n",
    "在金融计算中，常把收益率均值设为0，以减少一个噪声源来增加精度，则方差公式变为：\n",
    "$$s^{2}=\\frac{1}{N} \\sum_{i=1}^{N}\\left(x_{i}\\right)^{2}$$\n",
    "\n",
    "得到的此方差实际上是一样本方差，还需要用其估计出总体方差，即：\n",
    "$$ \\sigma ^ {2} $ = $ \\frac {N}{N-1} $$\n",
    "$$\\sigma^{2}=\\frac{1}{N-1} \\sum_{i=1}^{N}\\left(x_{i}\\right)^{2}$$\n",
    "\n",
    "### close-to-close\n",
    "$$\\sigma = \\sqrt{\\frac{1}{N-1} \\sum_{i=1}^{N}\\left(x_{i}\\right)^{2}}$$\n",
    "\n",
    "### Parkinson\n",
    "$$ \\sigma = \\sqrt{\\frac {1}{4N\\ln 2} \\sum _ {i=1}^ {N} (ln \\frac {h_i}{l_i} )^2}$$\n",
    "\n",
    "### Garman-Klass\n",
    "$$\\sigma_{G K}=\\sqrt{\\frac{1}{N} \\sum_{i=1}^{N} \\frac{1}{2}\\left(\\ln \\frac{h_{i}}{l_{i}}\\right)^{2}-\\frac{1}{N} \\sum_{i=1}^{N}(2 \\ln 2-1)\\left(\\ln \\frac{c_{i}}{o_{i}}\\right)^{2}}$$\n",
    "\n",
    "### Garman-Klass-Yang-Zhang\n",
    "$$\\sigma_{GKYZ} = \\sqrt{\\frac{1}{N} \\sum_{i=1}^{N}\\left(\\ln \\frac{o_{i}}{c_{i-1}}\\right)^{2}+\\frac{1}{N} \\sum_{i=1}^{N} \\frac{1}{2}\\left(\\ln \\frac{h_{i}}{l_{i}}\\right)^{2}-\\frac{1}{N} \\sum_{i=1}^{N}(2 \\ln 2-1)\\left(\\ln \\frac{c_{i}}{o_{i}}\\right)^{2}}$$"
   ],
   "metadata": {
    "collapsed": false,
    "pycharm": {
     "name": "#%% md\n"
    }
   }
  },
  {
   "cell_type": "code",
   "execution_count": 8,
   "outputs": [],
   "source": [
    "from pandas_datareader import data\n",
    "import pandas as pd\n",
    "import numpy as np\n",
    "import datetime\n",
    "import matplotlib.pyplot as plt"
   ],
   "metadata": {
    "collapsed": false,
    "pycharm": {
     "name": "#%%\n"
    }
   }
  },
  {
   "cell_type": "code",
   "execution_count": 9,
   "outputs": [
    {
     "ename": "RemoteDataError",
     "evalue": "Unable to read URL: https://finance.yahoo.com/quote/BTC-USD/history?period1=1483214400&period2=1658692799&interval=1d&frequency=1d&filter=history\nResponse Text:\nb'<!DOCTYPE html>\\n<html lang=\"zh\">\\n<head>\\n    <meta charset=\"utf-8\">\\n    <title>Yahoo</title>\\n    <meta name=\"viewport\" content=\"width=device-width,initial-scale=1,minimal-ui\">\\n    <meta http-equiv=\"X-UA-Compatible\" content=\"IE=edge,chrome=1\">\\n    <style>\\nhtml {\\n  height: 100%;\\n}\\nbody {\\n  background: #fafafc url(https://s.yimg.com/nn/img/sad-panda-201402200631.png) 50% 50%;\\n  background-size: cover;\\n  height: 100%;\\n  text-align: center;\\n  font: 300 16px \"helvetica neue\", helvetica, verdana, tahoma, arial, sans-serif;\\n}\\n#message {\\n  text-align: left;\\n  font-weight: 400;\\n  color: #1A1A1A;\\n}\\n#message a {\\n  padding: 0 3px;\\n}\\n#container {\\n  position: absolute;\\n  top: 50%;\\n  left: 50%;\\n  padding: 0 30px;\\n  margin-right: -50%;\\n  transform: translate(-50%, -50%);\\n  max-width: 40em;\\n  _width: 40em;\\n}\\n#container img {\\n  width: 174px;\\n  height: auto;\\n}\\n#switcher a {\\n  font-weight: 400;\\n}\\n#switcher a.active {\\n  color: #000;\\n  text-decoration: none;\\n  cursor: default;\\n}\\n    </style>\\n</head>\\n<body>\\n  <div id=\"container\">\\n    <img src=\"https://s.yimg.com/rz/p/yahoo_homepage_en-US_s_f_p_bestfit_homepage_2x.png\" alt=\"Yahoo Logo\">\\n    <div id=\"switcher\">\\n      <a data-lang=\"en\" class=\"active\" href=\\'#\\'>English</a> |\\n      <a data-lang=\"zh-Hant\" href=\\'#\\'>\\xe7\\xb9\\x81\\xe9\\xab\\x94\\xe4\\xb8\\xad\\xe6\\x96\\x87</a> |\\n      <a data-lang=\"zh-Hans\" href=\\'#\\'>\\xe7\\xae\\x80\\xe4\\xbd\\x93\\xe4\\xb8\\xad\\xe6\\x96\\x87</a>\\n    </div>\\n    <div id=\"message\">\\n      <p>As of November 1st, 2021 Yahoo\\xe2\\x80\\x99s suite of services will no longer be accessible from mainland China. Yahoo products and services remain unaffected in all other global locations. We thank you for your support and readership.</p>\\n    </div>\\n  </div>\\n<script>\\nconst Msg = {\\n  \\'en\\': \\'<p>As of November 1st, 2021 Yahoo\\xe2\\x80\\x99s suite of services will no longer be accessible from mainland China. Yahoo products and services remain unaffected in all other global locations. We thank you for your support and readership.</p>\\',\\n  \\'zh-Hant\\': \\'<p>2021 \\xe5\\xb9\\xb4 11 \\xe6\\x9c\\x88 1 \\xe6\\x97\\xa5\\xe8\\xb5\\xb7\\xef\\xbc\\x8c\\xe7\\x94\\xa8\\xe6\\x88\\xb6\\xe5\\xb0\\x87\\xe7\\x84\\xa1\\xe6\\xb3\\x95\\xe5\\xbe\\x9e\\xe4\\xb8\\xad\\xe5\\x9c\\x8b\\xe5\\xa4\\xa7\\xe9\\x99\\xb8\\xe4\\xbd\\xbf\\xe7\\x94\\xa8 Yahoo \\xe7\\x9a\\x84\\xe7\\x94\\xa2\\xe5\\x93\\x81\\xe8\\x88\\x87\\xe6\\x9c\\x8d\\xe5\\x8b\\x99\\xe3\\x80\\x82\\xe9\\x80\\x99\\xe4\\xb8\\xa6\\xe4\\xb8\\x8d\\xe5\\xbd\\xb1\\xe9\\x9f\\xbf Yahoo \\xe5\\x9c\\xa8\\xe5\\x85\\xa8\\xe7\\x90\\x83\\xe5\\x85\\xb6\\xe4\\xbb\\x96\\xe5\\x9c\\xb0\\xe6\\x96\\xb9\\xe7\\x9a\\x84\\xe7\\x94\\xa2\\xe5\\x93\\x81\\xe5\\x8f\\x8a\\xe6\\x9c\\x8d\\xe5\\x8b\\x99\\xe3\\x80\\x82\\xe6\\x88\\x91\\xe5\\x80\\x91\\xe6\\x84\\x9f\\xe8\\xac\\x9d\\xe6\\x82\\xa8\\xe4\\xb8\\x80\\xe7\\x9b\\xb4\\xe4\\xbb\\xa5\\xe4\\xbe\\x86\\xe7\\x9a\\x84\\xe6\\x94\\xaf\\xe6\\x8c\\x81\\xe3\\x80\\x82</p>\\',\\n  \\'zh-Hans\\': \\'<p>2021 \\xe5\\xb9\\xb4 11 \\xe6\\x9c\\x88 1 \\xe6\\x97\\xa5\\xe8\\xb5\\xb7\\xef\\xbc\\x8c\\xe7\\x94\\xa8\\xe6\\x88\\xb7\\xe5\\xb0\\x86\\xe6\\x97\\xa0\\xe6\\xb3\\x95\\xe4\\xbb\\x8e\\xe4\\xb8\\xad\\xe5\\x9b\\xbd\\xe5\\xa4\\xa7\\xe9\\x99\\x86\\xe4\\xbd\\xbf\\xe7\\x94\\xa8 Yahoo \\xe7\\x9a\\x84\\xe4\\xba\\xa7\\xe5\\x93\\x81\\xe4\\xb8\\x8e\\xe6\\x9c\\x8d\\xe5\\x8a\\xa1\\xe3\\x80\\x82\\xe8\\xbf\\x99\\xe5\\xb9\\xb6\\xe4\\xb8\\x8d\\xe5\\xbd\\xb1\\xe5\\x93\\x8d Yahoo \\xe5\\x9c\\xa8\\xe5\\x85\\xa8\\xe7\\x90\\x83\\xe5\\x85\\xb6\\xe4\\xbb\\x96\\xe5\\x9c\\xb0\\xe6\\x96\\xb9\\xe7\\x9a\\x84\\xe4\\xba\\xa7\\xe5\\x93\\x81\\xe5\\x8f\\x8a\\xe6\\x9c\\x8d\\xe5\\x8a\\xa1\\xe3\\x80\\x82\\xe6\\x88\\x91\\xe4\\xbb\\xac\\xe6\\x84\\x9f\\xe8\\xb0\\xa2\\xe4\\xbd\\xa0\\xe4\\xb8\\x80\\xe7\\x9b\\xb4\\xe4\\xbb\\xa5\\xe4\\xbe\\x86\\xe7\\x9a\\x84\\xe6\\x94\\xaf\\xe6\\x8c\\x81\\xe3\\x80\\x82</p>\\'\\n};\\n\\nconst message = document.querySelector(\\'#message\\');\\n\\nconst switchLang = function (lang) {\\n  message.innerHTML = Msg[lang] ? Msg[lang] : Msg.en;\\n  const oldE = document.querySelector(\\'#switcher .active\\');\\n  const newE = document.querySelector(`#switcher a[data-lang=${lang}]`);\\n  oldE.className = \\'\\';\\n  newE.className = \\'active\\';\\n}\\n\\nconst detectLang = function() {\\n  const langs = window.navigator.languages ? window.navigator.languages : [window.navigator.language];\\n  const availableLangs = langs.map(l => l.toLowerCase()).filter(l => /^en/.test(l) || /^zh/.test(l));\\n  const selectedLang = availableLangs.length ? availableLangs[0] : \\'en\\';\\n  const prefLang =  /^en/.test(selectedLang) ? \\'en\\' :\\n      (selectedLang === \\'zh-tw\\' || selectedLang === \\'zh-hk\\') ? \\'zh-Hant\\' : \\'zh-Hans\\';\\n  switchLang(prefLang);\\n}\\n\\nconst switcher = document.querySelector(\\'#switcher\\');\\nswitcher.addEventListener(\\'click\\', (e) => {\\n  const lang = e.target.getAttribute(\\'data-lang\\');\\n  if (lang) {\\n    switchLang(lang);\\n  }\\n});\\n\\ndetectLang();\\n\\n</script>\\n</body></html>\\n'",
     "output_type": "error",
     "traceback": [
      "\u001B[1;31m---------------------------------------------------------------------------\u001B[0m",
      "\u001B[1;31mRemoteDataError\u001B[0m                           Traceback (most recent call last)",
      "\u001B[1;32m~\\AppData\\Local\\Temp/ipykernel_11796/3403127890.py\u001B[0m in \u001B[0;36m<module>\u001B[1;34m\u001B[0m\n\u001B[0;32m      1\u001B[0m \u001B[0mstart\u001B[0m \u001B[1;33m=\u001B[0m \u001B[0mdatetime\u001B[0m\u001B[1;33m.\u001B[0m\u001B[0mdatetime\u001B[0m\u001B[1;33m(\u001B[0m\u001B[1;36m2017\u001B[0m\u001B[1;33m,\u001B[0m\u001B[1;36m1\u001B[0m\u001B[1;33m,\u001B[0m\u001B[1;36m1\u001B[0m\u001B[1;33m)\u001B[0m\u001B[1;31m#获取数据的时间段-起始时间\u001B[0m\u001B[1;33m\u001B[0m\u001B[1;33m\u001B[0m\u001B[0m\n\u001B[0;32m      2\u001B[0m \u001B[0mend\u001B[0m \u001B[1;33m=\u001B[0m \u001B[0mdatetime\u001B[0m\u001B[1;33m.\u001B[0m\u001B[0mdate\u001B[0m\u001B[1;33m.\u001B[0m\u001B[0mtoday\u001B[0m\u001B[1;33m(\u001B[0m\u001B[1;33m)\u001B[0m\u001B[1;31m#获取数据的时间段-结束时间\u001B[0m\u001B[1;33m\u001B[0m\u001B[1;33m\u001B[0m\u001B[0m\n\u001B[1;32m----> 3\u001B[1;33m \u001B[0mdf\u001B[0m \u001B[1;33m=\u001B[0m \u001B[0mdata\u001B[0m\u001B[1;33m.\u001B[0m\u001B[0mget_data_yahoo\u001B[0m\u001B[1;33m(\u001B[0m\u001B[1;34m'BTC-USD'\u001B[0m\u001B[1;33m,\u001B[0m \u001B[0mstart\u001B[0m\u001B[1;33m=\u001B[0m\u001B[0mstart\u001B[0m\u001B[1;33m,\u001B[0m \u001B[0mend\u001B[0m\u001B[1;33m=\u001B[0m\u001B[0mend\u001B[0m\u001B[1;33m)\u001B[0m\u001B[1;33m\u001B[0m\u001B[1;33m\u001B[0m\u001B[0m\n\u001B[0m\u001B[0;32m      4\u001B[0m \u001B[1;33m\u001B[0m\u001B[0m\n\u001B[0;32m      5\u001B[0m \u001B[0mdf\u001B[0m\u001B[1;33m.\u001B[0m\u001B[0mhead\u001B[0m\u001B[1;33m(\u001B[0m\u001B[1;33m)\u001B[0m\u001B[1;33m\u001B[0m\u001B[1;33m\u001B[0m\u001B[0m\n",
      "\u001B[1;32m~\\anaconda3\\lib\\site-packages\\pandas_datareader\\data.py\u001B[0m in \u001B[0;36mget_data_yahoo\u001B[1;34m(*args, **kwargs)\u001B[0m\n\u001B[0;32m     78\u001B[0m \u001B[1;33m\u001B[0m\u001B[0m\n\u001B[0;32m     79\u001B[0m \u001B[1;32mdef\u001B[0m \u001B[0mget_data_yahoo\u001B[0m\u001B[1;33m(\u001B[0m\u001B[1;33m*\u001B[0m\u001B[0margs\u001B[0m\u001B[1;33m,\u001B[0m \u001B[1;33m**\u001B[0m\u001B[0mkwargs\u001B[0m\u001B[1;33m)\u001B[0m\u001B[1;33m:\u001B[0m\u001B[1;33m\u001B[0m\u001B[1;33m\u001B[0m\u001B[0m\n\u001B[1;32m---> 80\u001B[1;33m     \u001B[1;32mreturn\u001B[0m \u001B[0mYahooDailyReader\u001B[0m\u001B[1;33m(\u001B[0m\u001B[1;33m*\u001B[0m\u001B[0margs\u001B[0m\u001B[1;33m,\u001B[0m \u001B[1;33m**\u001B[0m\u001B[0mkwargs\u001B[0m\u001B[1;33m)\u001B[0m\u001B[1;33m.\u001B[0m\u001B[0mread\u001B[0m\u001B[1;33m(\u001B[0m\u001B[1;33m)\u001B[0m\u001B[1;33m\u001B[0m\u001B[1;33m\u001B[0m\u001B[0m\n\u001B[0m\u001B[0;32m     81\u001B[0m \u001B[1;33m\u001B[0m\u001B[0m\n\u001B[0;32m     82\u001B[0m \u001B[1;33m\u001B[0m\u001B[0m\n",
      "\u001B[1;32m~\\anaconda3\\lib\\site-packages\\pandas_datareader\\base.py\u001B[0m in \u001B[0;36mread\u001B[1;34m(self)\u001B[0m\n\u001B[0;32m    251\u001B[0m         \u001B[1;31m# If a single symbol, (e.g., 'GOOG')\u001B[0m\u001B[1;33m\u001B[0m\u001B[1;33m\u001B[0m\u001B[0m\n\u001B[0;32m    252\u001B[0m         \u001B[1;32mif\u001B[0m \u001B[0misinstance\u001B[0m\u001B[1;33m(\u001B[0m\u001B[0mself\u001B[0m\u001B[1;33m.\u001B[0m\u001B[0msymbols\u001B[0m\u001B[1;33m,\u001B[0m \u001B[1;33m(\u001B[0m\u001B[0mstring_types\u001B[0m\u001B[1;33m,\u001B[0m \u001B[0mint\u001B[0m\u001B[1;33m)\u001B[0m\u001B[1;33m)\u001B[0m\u001B[1;33m:\u001B[0m\u001B[1;33m\u001B[0m\u001B[1;33m\u001B[0m\u001B[0m\n\u001B[1;32m--> 253\u001B[1;33m             \u001B[0mdf\u001B[0m \u001B[1;33m=\u001B[0m \u001B[0mself\u001B[0m\u001B[1;33m.\u001B[0m\u001B[0m_read_one_data\u001B[0m\u001B[1;33m(\u001B[0m\u001B[0mself\u001B[0m\u001B[1;33m.\u001B[0m\u001B[0murl\u001B[0m\u001B[1;33m,\u001B[0m \u001B[0mparams\u001B[0m\u001B[1;33m=\u001B[0m\u001B[0mself\u001B[0m\u001B[1;33m.\u001B[0m\u001B[0m_get_params\u001B[0m\u001B[1;33m(\u001B[0m\u001B[0mself\u001B[0m\u001B[1;33m.\u001B[0m\u001B[0msymbols\u001B[0m\u001B[1;33m)\u001B[0m\u001B[1;33m)\u001B[0m\u001B[1;33m\u001B[0m\u001B[1;33m\u001B[0m\u001B[0m\n\u001B[0m\u001B[0;32m    254\u001B[0m         \u001B[1;31m# Or multiple symbols, (e.g., ['GOOG', 'AAPL', 'MSFT'])\u001B[0m\u001B[1;33m\u001B[0m\u001B[1;33m\u001B[0m\u001B[0m\n\u001B[0;32m    255\u001B[0m         \u001B[1;32melif\u001B[0m \u001B[0misinstance\u001B[0m\u001B[1;33m(\u001B[0m\u001B[0mself\u001B[0m\u001B[1;33m.\u001B[0m\u001B[0msymbols\u001B[0m\u001B[1;33m,\u001B[0m \u001B[0mDataFrame\u001B[0m\u001B[1;33m)\u001B[0m\u001B[1;33m:\u001B[0m\u001B[1;33m\u001B[0m\u001B[1;33m\u001B[0m\u001B[0m\n",
      "\u001B[1;32m~\\anaconda3\\lib\\site-packages\\pandas_datareader\\yahoo\\daily.py\u001B[0m in \u001B[0;36m_read_one_data\u001B[1;34m(self, url, params)\u001B[0m\n\u001B[0;32m    147\u001B[0m         \u001B[0murl\u001B[0m \u001B[1;33m=\u001B[0m \u001B[0murl\u001B[0m\u001B[1;33m.\u001B[0m\u001B[0mformat\u001B[0m\u001B[1;33m(\u001B[0m\u001B[0msymbol\u001B[0m\u001B[1;33m)\u001B[0m\u001B[1;33m\u001B[0m\u001B[1;33m\u001B[0m\u001B[0m\n\u001B[0;32m    148\u001B[0m \u001B[1;33m\u001B[0m\u001B[0m\n\u001B[1;32m--> 149\u001B[1;33m         \u001B[0mresp\u001B[0m \u001B[1;33m=\u001B[0m \u001B[0mself\u001B[0m\u001B[1;33m.\u001B[0m\u001B[0m_get_response\u001B[0m\u001B[1;33m(\u001B[0m\u001B[0murl\u001B[0m\u001B[1;33m,\u001B[0m \u001B[0mparams\u001B[0m\u001B[1;33m=\u001B[0m\u001B[0mparams\u001B[0m\u001B[1;33m,\u001B[0m \u001B[0mheaders\u001B[0m\u001B[1;33m=\u001B[0m\u001B[0mself\u001B[0m\u001B[1;33m.\u001B[0m\u001B[0mheaders\u001B[0m\u001B[1;33m)\u001B[0m\u001B[1;33m\u001B[0m\u001B[1;33m\u001B[0m\u001B[0m\n\u001B[0m\u001B[0;32m    150\u001B[0m         \u001B[0mptrn\u001B[0m \u001B[1;33m=\u001B[0m \u001B[1;34mr\"root\\.App\\.main = (.*?);\\n}\\(this\\)\\);\"\u001B[0m\u001B[1;33m\u001B[0m\u001B[1;33m\u001B[0m\u001B[0m\n\u001B[0;32m    151\u001B[0m         \u001B[1;32mtry\u001B[0m\u001B[1;33m:\u001B[0m\u001B[1;33m\u001B[0m\u001B[1;33m\u001B[0m\u001B[0m\n",
      "\u001B[1;32m~\\anaconda3\\lib\\site-packages\\pandas_datareader\\base.py\u001B[0m in \u001B[0;36m_get_response\u001B[1;34m(self, url, params, headers)\u001B[0m\n\u001B[0;32m    179\u001B[0m             \u001B[0mmsg\u001B[0m \u001B[1;33m+=\u001B[0m \u001B[1;34m\"\\nResponse Text:\\n{0}\"\u001B[0m\u001B[1;33m.\u001B[0m\u001B[0mformat\u001B[0m\u001B[1;33m(\u001B[0m\u001B[0mlast_response_text\u001B[0m\u001B[1;33m)\u001B[0m\u001B[1;33m\u001B[0m\u001B[1;33m\u001B[0m\u001B[0m\n\u001B[0;32m    180\u001B[0m \u001B[1;33m\u001B[0m\u001B[0m\n\u001B[1;32m--> 181\u001B[1;33m         \u001B[1;32mraise\u001B[0m \u001B[0mRemoteDataError\u001B[0m\u001B[1;33m(\u001B[0m\u001B[0mmsg\u001B[0m\u001B[1;33m)\u001B[0m\u001B[1;33m\u001B[0m\u001B[1;33m\u001B[0m\u001B[0m\n\u001B[0m\u001B[0;32m    182\u001B[0m \u001B[1;33m\u001B[0m\u001B[0m\n\u001B[0;32m    183\u001B[0m     \u001B[1;32mdef\u001B[0m \u001B[0m_get_crumb\u001B[0m\u001B[1;33m(\u001B[0m\u001B[0mself\u001B[0m\u001B[1;33m,\u001B[0m \u001B[1;33m*\u001B[0m\u001B[0margs\u001B[0m\u001B[1;33m)\u001B[0m\u001B[1;33m:\u001B[0m\u001B[1;33m\u001B[0m\u001B[1;33m\u001B[0m\u001B[0m\n",
      "\u001B[1;31mRemoteDataError\u001B[0m: Unable to read URL: https://finance.yahoo.com/quote/BTC-USD/history?period1=1483214400&period2=1658692799&interval=1d&frequency=1d&filter=history\nResponse Text:\nb'<!DOCTYPE html>\\n<html lang=\"zh\">\\n<head>\\n    <meta charset=\"utf-8\">\\n    <title>Yahoo</title>\\n    <meta name=\"viewport\" content=\"width=device-width,initial-scale=1,minimal-ui\">\\n    <meta http-equiv=\"X-UA-Compatible\" content=\"IE=edge,chrome=1\">\\n    <style>\\nhtml {\\n  height: 100%;\\n}\\nbody {\\n  background: #fafafc url(https://s.yimg.com/nn/img/sad-panda-201402200631.png) 50% 50%;\\n  background-size: cover;\\n  height: 100%;\\n  text-align: center;\\n  font: 300 16px \"helvetica neue\", helvetica, verdana, tahoma, arial, sans-serif;\\n}\\n#message {\\n  text-align: left;\\n  font-weight: 400;\\n  color: #1A1A1A;\\n}\\n#message a {\\n  padding: 0 3px;\\n}\\n#container {\\n  position: absolute;\\n  top: 50%;\\n  left: 50%;\\n  padding: 0 30px;\\n  margin-right: -50%;\\n  transform: translate(-50%, -50%);\\n  max-width: 40em;\\n  _width: 40em;\\n}\\n#container img {\\n  width: 174px;\\n  height: auto;\\n}\\n#switcher a {\\n  font-weight: 400;\\n}\\n#switcher a.active {\\n  color: #000;\\n  text-decoration: none;\\n  cursor: default;\\n}\\n    </style>\\n</head>\\n<body>\\n  <div id=\"container\">\\n    <img src=\"https://s.yimg.com/rz/p/yahoo_homepage_en-US_s_f_p_bestfit_homepage_2x.png\" alt=\"Yahoo Logo\">\\n    <div id=\"switcher\">\\n      <a data-lang=\"en\" class=\"active\" href=\\'#\\'>English</a> |\\n      <a data-lang=\"zh-Hant\" href=\\'#\\'>\\xe7\\xb9\\x81\\xe9\\xab\\x94\\xe4\\xb8\\xad\\xe6\\x96\\x87</a> |\\n      <a data-lang=\"zh-Hans\" href=\\'#\\'>\\xe7\\xae\\x80\\xe4\\xbd\\x93\\xe4\\xb8\\xad\\xe6\\x96\\x87</a>\\n    </div>\\n    <div id=\"message\">\\n      <p>As of November 1st, 2021 Yahoo\\xe2\\x80\\x99s suite of services will no longer be accessible from mainland China. Yahoo products and services remain unaffected in all other global locations. We thank you for your support and readership.</p>\\n    </div>\\n  </div>\\n<script>\\nconst Msg = {\\n  \\'en\\': \\'<p>As of November 1st, 2021 Yahoo\\xe2\\x80\\x99s suite of services will no longer be accessible from mainland China. Yahoo products and services remain unaffected in all other global locations. We thank you for your support and readership.</p>\\',\\n  \\'zh-Hant\\': \\'<p>2021 \\xe5\\xb9\\xb4 11 \\xe6\\x9c\\x88 1 \\xe6\\x97\\xa5\\xe8\\xb5\\xb7\\xef\\xbc\\x8c\\xe7\\x94\\xa8\\xe6\\x88\\xb6\\xe5\\xb0\\x87\\xe7\\x84\\xa1\\xe6\\xb3\\x95\\xe5\\xbe\\x9e\\xe4\\xb8\\xad\\xe5\\x9c\\x8b\\xe5\\xa4\\xa7\\xe9\\x99\\xb8\\xe4\\xbd\\xbf\\xe7\\x94\\xa8 Yahoo \\xe7\\x9a\\x84\\xe7\\x94\\xa2\\xe5\\x93\\x81\\xe8\\x88\\x87\\xe6\\x9c\\x8d\\xe5\\x8b\\x99\\xe3\\x80\\x82\\xe9\\x80\\x99\\xe4\\xb8\\xa6\\xe4\\xb8\\x8d\\xe5\\xbd\\xb1\\xe9\\x9f\\xbf Yahoo \\xe5\\x9c\\xa8\\xe5\\x85\\xa8\\xe7\\x90\\x83\\xe5\\x85\\xb6\\xe4\\xbb\\x96\\xe5\\x9c\\xb0\\xe6\\x96\\xb9\\xe7\\x9a\\x84\\xe7\\x94\\xa2\\xe5\\x93\\x81\\xe5\\x8f\\x8a\\xe6\\x9c\\x8d\\xe5\\x8b\\x99\\xe3\\x80\\x82\\xe6\\x88\\x91\\xe5\\x80\\x91\\xe6\\x84\\x9f\\xe8\\xac\\x9d\\xe6\\x82\\xa8\\xe4\\xb8\\x80\\xe7\\x9b\\xb4\\xe4\\xbb\\xa5\\xe4\\xbe\\x86\\xe7\\x9a\\x84\\xe6\\x94\\xaf\\xe6\\x8c\\x81\\xe3\\x80\\x82</p>\\',\\n  \\'zh-Hans\\': \\'<p>2021 \\xe5\\xb9\\xb4 11 \\xe6\\x9c\\x88 1 \\xe6\\x97\\xa5\\xe8\\xb5\\xb7\\xef\\xbc\\x8c\\xe7\\x94\\xa8\\xe6\\x88\\xb7\\xe5\\xb0\\x86\\xe6\\x97\\xa0\\xe6\\xb3\\x95\\xe4\\xbb\\x8e\\xe4\\xb8\\xad\\xe5\\x9b\\xbd\\xe5\\xa4\\xa7\\xe9\\x99\\x86\\xe4\\xbd\\xbf\\xe7\\x94\\xa8 Yahoo \\xe7\\x9a\\x84\\xe4\\xba\\xa7\\xe5\\x93\\x81\\xe4\\xb8\\x8e\\xe6\\x9c\\x8d\\xe5\\x8a\\xa1\\xe3\\x80\\x82\\xe8\\xbf\\x99\\xe5\\xb9\\xb6\\xe4\\xb8\\x8d\\xe5\\xbd\\xb1\\xe5\\x93\\x8d Yahoo \\xe5\\x9c\\xa8\\xe5\\x85\\xa8\\xe7\\x90\\x83\\xe5\\x85\\xb6\\xe4\\xbb\\x96\\xe5\\x9c\\xb0\\xe6\\x96\\xb9\\xe7\\x9a\\x84\\xe4\\xba\\xa7\\xe5\\x93\\x81\\xe5\\x8f\\x8a\\xe6\\x9c\\x8d\\xe5\\x8a\\xa1\\xe3\\x80\\x82\\xe6\\x88\\x91\\xe4\\xbb\\xac\\xe6\\x84\\x9f\\xe8\\xb0\\xa2\\xe4\\xbd\\xa0\\xe4\\xb8\\x80\\xe7\\x9b\\xb4\\xe4\\xbb\\xa5\\xe4\\xbe\\x86\\xe7\\x9a\\x84\\xe6\\x94\\xaf\\xe6\\x8c\\x81\\xe3\\x80\\x82</p>\\'\\n};\\n\\nconst message = document.querySelector(\\'#message\\');\\n\\nconst switchLang = function (lang) {\\n  message.innerHTML = Msg[lang] ? Msg[lang] : Msg.en;\\n  const oldE = document.querySelector(\\'#switcher .active\\');\\n  const newE = document.querySelector(`#switcher a[data-lang=${lang}]`);\\n  oldE.className = \\'\\';\\n  newE.className = \\'active\\';\\n}\\n\\nconst detectLang = function() {\\n  const langs = window.navigator.languages ? window.navigator.languages : [window.navigator.language];\\n  const availableLangs = langs.map(l => l.toLowerCase()).filter(l => /^en/.test(l) || /^zh/.test(l));\\n  const selectedLang = availableLangs.length ? availableLangs[0] : \\'en\\';\\n  const prefLang =  /^en/.test(selectedLang) ? \\'en\\' :\\n      (selectedLang === \\'zh-tw\\' || selectedLang === \\'zh-hk\\') ? \\'zh-Hant\\' : \\'zh-Hans\\';\\n  switchLang(prefLang);\\n}\\n\\nconst switcher = document.querySelector(\\'#switcher\\');\\nswitcher.addEventListener(\\'click\\', (e) => {\\n  const lang = e.target.getAttribute(\\'data-lang\\');\\n  if (lang) {\\n    switchLang(lang);\\n  }\\n});\\n\\ndetectLang();\\n\\n</script>\\n</body></html>\\n'"
     ]
    }
   ],
   "source": [
    "start = datetime.datetime(2017,1,1)#获取数据的时间段-起始时间\n",
    "end = datetime.date.today()#获取数据的时间段-结束时间\n",
    "df = data.get_data_yahoo('BTC-USD', start=start, end=end)\n",
    "\n",
    "df.head()"
   ],
   "metadata": {
    "collapsed": false,
    "pycharm": {
     "name": "#%%\n"
    }
   }
  },
  {
   "cell_type": "code",
   "execution_count": null,
   "outputs": [],
   "source": [
    "def cal_vol(df):\n",
    "   df['log_ret'] = np.log(df['Close']/df['Close'].shift())\n",
    "   df = df.dropna()\n",
    "   N = len(df)\n",
    "   ret_mean = df['log_ret'].mean()\n",
    "   c2c_vol = np.sqrt(sum((df['log_ret'] - ret_mean)**2) / N )\n",
    "   parkinson_vol =np.sqrt(sum((np.log(df['High'] / df['Low']))**2) / (4 * N * np.log(2)))\n",
    "   gk_volatility = np.sqrt(sum((np.log(df['High'] / df['Low'])**2)) / (2 * N) - sum((2 * np.log(2) - 1) * (np.log(df['Close'] / df['Open']))**2) / N)\n",
    "   gkyz_volatility = np.sqrt(sum(((np.log(df['Open']/df['Close'].shift()).dropna())**2)) / N + sum((np.log(df['High'] / df['Low'])**2)) / (2 * N) - sum((2 * np.log(2) - 1) * (np.log(df['Close'] / df['Open']))**2) / N)\n",
    "\n",
    "   print(f'daily_vol\\nc2c_vol:{c2c_vol}\\nparkinson_vol:{parkinson_vol}\\nGK_volatility:{gk_volatility}\\nGKYZ_volatility:{gkyz_volatility}')\n",
    "   print('--------------------------------------------------')\n",
    "   print(f'anualized_vol\\nc2c_vol:{c2c_vol * np.sqrt(N)}\\nparkinson_vol:{parkinson_vol * np.sqrt(N)}\\nGK_volatility:{gk_volatility * np.sqrt(N)}\\nGKYZ_volatility:{gkyz_volatility * np.sqrt(N)}')\n",
    "cal_vol(df)"
   ],
   "metadata": {
    "collapsed": false,
    "pycharm": {
     "name": "#%%\n"
    }
   }
  },
  {
   "cell_type": "markdown",
   "source": [
    "# 收盘价–收盘价估计量\n",
    "## 优点：\n",
    "+ 抽样特性很容易被理解\n",
    "+ 偏差容易纠正\n",
    "+ 可以简单地转换为“典型的每日波幅”的公式形式\n",
    "## 缺点：\n",
    "+ 没有充分利用已有数据信息\n",
    "+ 收敛速度很慢。\n",
    "\n",
    "# Parkinson估计量\n",
    "## 优点：\n",
    "+ 使用日内极差来估计波动率很合理，并且相对于基于时间的抽样方法（如收盘价），其提供了更全面的独立信息。\n",
    "## 缺点：\n",
    "+ 只适用于几何布朗运动过程的波动率估计，不能处理趋势和跳空。\n",
    "+ 会系统性地低估波动率。\n",
    "\n",
    "# Garman-Klass估计量\n",
    "## 优点：\n",
    "+ 效率要比收盘价–收盘价估计量高8倍。\n",
    "+ 充分利用常见的可获取的价格信息。\n",
    "## 缺点：\n",
    "+ 偏差甚至比Parkinson估计量还大。\n",
    "\n",
    "# Yang-Zhang估计量\n",
    "## 优点：\n",
    "+ 具有最小估计误差。\n",
    "+ 能够处理漂移项和价格跳空。\n",
    "+ 在可用数据的使用上最为有效。\n",
    "## 缺点：\n",
    "+ 如果价格过程由跳空主导，其性能会降低到和收盘价–收盘价估计量差不多。"
   ],
   "metadata": {
    "collapsed": false,
    "pycharm": {
     "name": "#%% md\n"
    }
   }
  },
  {
   "cell_type": "code",
   "execution_count": null,
   "outputs": [],
   "source": [],
   "metadata": {
    "collapsed": false,
    "pycharm": {
     "name": "#%%\n"
    }
   }
  }
 ],
 "metadata": {
  "kernelspec": {
   "display_name": "Python 3",
   "language": "python",
   "name": "python3"
  },
  "language_info": {
   "codemirror_mode": {
    "name": "ipython",
    "version": 2
   },
   "file_extension": ".py",
   "mimetype": "text/x-python",
   "name": "python",
   "nbconvert_exporter": "python",
   "pygments_lexer": "ipython2",
   "version": "2.7.6"
  }
 },
 "nbformat": 4,
 "nbformat_minor": 0
}