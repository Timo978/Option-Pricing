{
 "cells": [
  {
   "cell_type": "code",
   "execution_count": 13,
   "outputs": [],
   "source": [
    "import matplotlib.pyplot as plt\n",
    "import math\n",
    "import numpy as np\n",
    "import pandas as pd\n",
    "\n",
    "%matplotlib inline"
   ],
   "metadata": {
    "collapsed": false,
    "pycharm": {
     "name": "#%%\n"
    }
   }
  },
  {
   "cell_type": "code",
   "execution_count": 2,
   "outputs": [],
   "source": [
    "# 计算期望和方差\n",
    "\n",
    "def calc(data):\n",
    "    '''\n",
    "    Returns\n",
    "    -------\n",
    "    [期望，标准差，E(X^3)]\n",
    "    '''\n",
    "    n=len(data) # 10000个数\n",
    "    niu=0.0 # niu表示平均值,即期望.\n",
    "    niu2=0.0 # niu2表示平方的平均值\n",
    "    niu3=0.0 # niu3表示三次方的平均值\n",
    "    for a in data:\n",
    "        niu += a\n",
    "        niu2 += a**2\n",
    "        niu3 += a**3\n",
    "    niu /= n\n",
    "    niu2 /= n\n",
    "    niu3 /= n\n",
    "    sigma = math.sqrt(niu2 - niu*niu)\n",
    "    return [niu,sigma,niu3]"
   ],
   "metadata": {
    "collapsed": false,
    "pycharm": {
     "name": "#%%\n"
    }
   }
  },
  {
   "cell_type": "markdown",
   "source": [
    "# 矩\n",
    "+ 对于随机变量X,其K阶原点矩为\n",
    "$$E(X^k)$$\n",
    "+ X的K阶中心矩为\n",
    "$$E(|X-E(X)|^k)$$\n",
    "+ 期望实际上是随机变量X的1阶原点矩,方差实际上是随机变量X的2阶中心矩\n",
    "+ 变异系数(Coefficient of Variation):标准差与均值(期望)的比值称为变异系数,记为C.V\n",
    "+ 偏度Skewness(三阶)\n",
    "+ 峰度Kurtosis(四阶)"
   ],
   "metadata": {
    "collapsed": false,
    "pycharm": {
     "name": "#%% md\n"
    }
   }
  },
  {
   "cell_type": "markdown",
   "source": [
    "# 偏度\n",
    "偏度衡量随机变量概率分布的不对称性，是相对于均值不对称程度的衡量\n",
    "+ 偏度可以为正/负，表示概率密度函数左侧/右侧的尾部比另一边长\n",
    "+ 偏度为0表示数值相对均匀的分布在均值的两侧，但**不一定意味着一定是对称分布**\n",
    "\n",
    "## 公式\n",
    "三阶累积量与二阶累积量的1.5次方的比率\n",
    "$$\n",
    "\\gamma_{1}=E\\left[\\left(\\frac{X-\\mu}{\\sigma}\\right)^{3}\\right]=\\frac{E\\left[(X-\\mu)^{3}\\right]}{\\left(E\\left[(X-\\mu)^{2}\\right]\\right)^{3 / 2}}=\\frac{\\kappa_{3}}{\\kappa_{2}^{3 / 2}}\n",
    "$$\n",
    "\n",
    "$$\n",
    "\\gamma_{1}=E\\left[\\left(\\frac{X-\\mu}{\\sigma}\\right)^{3}\\right]=\\frac{E\\left[X^{3}\\right]-3 \\mu E\\left[X^{2}\\right]+2 \\mu^{2}}{\\sigma^{3}}=\\frac{E\\left[X^{3}\\right]-3 \\mu \\sigma^{2}-\\mu^{3}}{\\sigma^{3}}\n",
    "$$\n",
    "\n",
    "一般用此公式进行计算：$\\frac{E\\left[X^{3}\\right]-3 \\mu \\sigma^{2}-\\mu^{3}}{\\sigma^{3}}$"
   ],
   "metadata": {
    "collapsed": false,
    "pycharm": {
     "name": "#%% md\n"
    }
   }
  },
  {
   "cell_type": "markdown",
   "source": [
    "# 峰度\n",
    "峰度是概率密度函数在均值处峰值高低的特征，通常定义为四阶中心矩除以方差的平方减3\n",
    "$$\n",
    "\\gamma_{2}=\\frac{\\kappa_{4}}{\\kappa_{2}^{2}}=\\frac{\\mu_{4}}{\\sigma^{4}}-3=\\frac{\\frac{1}{n} \\sum_{i=1}^{n}\\left(x_{i}-\\bar{x}\\right)^{4}}{\\left(\\frac{1}{n} \\sum_{i=1}^{n}\\left(x_{i}-\\bar{x}\\right)^{2}\\right)^{2}}-3\n",
    "$$\n",
    "\n",
    "## 为什么要减3\n",
    "$\\frac{\\mu_{4}}{\\sigma^{4}}$也被称为超值峰度（excess kurtosis)\n",
    "+ 减3是为了让正态分布的峰度为0\n",
    "+ 超值峰度为正，称为尖峰态（leptokurtic）\n",
    "+ 超值峰度为负，称为低峰态（platykurtic）\n",
    "\n",
    "pandas计算的峰度，就是减3过后的"
   ],
   "metadata": {
    "collapsed": false,
    "pycharm": {
     "name": "#%% md\n"
    }
   }
  },
  {
   "cell_type": "code",
   "execution_count": 3,
   "outputs": [],
   "source": [
    "def calc_stat(data):\n",
    "    [niu, sigma, niu3]=calc(data)\n",
    "    n=len(data)\n",
    "    niu4=0.0 # niu4计算峰度计算公式的分子\n",
    "    for a in data:\n",
    "        a -= niu\n",
    "        niu4 += a**4\n",
    "    niu4 /= n\n",
    "\n",
    "    skew =(niu3 -3*niu*sigma**2-niu**3)/(sigma**3) # 偏度计算公式\n",
    "    kurt=niu4/(sigma**4) # 峰度计算公式:下方为方差的平方即为标准差的四次方\n",
    "    return [niu, sigma,skew,kurt]"
   ],
   "metadata": {
    "collapsed": false,
    "pycharm": {
     "name": "#%%\n"
    }
   }
  },
  {
   "cell_type": "code",
   "execution_count": 19,
   "outputs": [
    {
     "name": "stdout",
     "output_type": "stream",
     "text": [
      "0.0028669464583605648 0.998986693737416 -0.029289025428574856 3.0026106297188684\n",
      "0.012350897153949459 2.0042069125254605 -0.06215735302360891 3.039422170977881\n"
     ]
    },
    {
     "data": {
      "text/plain": "<Figure size 1296x720 with 1 Axes>",
      "image/png": "[encoded data removed]"
     },
     "metadata": {
      "needs_background": "light"
     },
     "output_type": "display_data"
    }
   ],
   "source": [
    "data =  list(np.random.randn(10000)) # 满足高斯分布的10000个数\n",
    "data2 = list(2*np.random.randn(10000))  # 将满足好高斯分布的10000个数乘以两倍,方差变成四倍\n",
    "[niu, sigma, skew, kurt] = calc_stat(data)\n",
    "[niu_2, sigma2, skew2, kurt2] = calc_stat(data2)\n",
    "print (niu, sigma, skew, kurt)\n",
    "print (niu_2, sigma2, skew2, kurt2)\n",
    "info = r'$\\mu=%.2f,\\ \\sigma=%.2f,\\ skew=%.2f,\\ kurt=%.2f$' %(niu,sigma, skew, kurt) # 标注\n",
    "info2 = r'$\\mu=%.2f,\\ \\sigma=%.2f,\\ skew=%.2f,\\ kurt=%.2f$' %(niu_2,sigma2, skew2, kurt2)\n",
    "plt.figure(figsize=(18,10))\n",
    "plt.text(1,0.38,info,bbox=dict(facecolor='red',alpha=0.25))\n",
    "plt.text(1,0.35,info2,bbox=dict(facecolor='green',alpha=0.25))\n",
    "plt.hist(data,100,density=True,facecolor='r',alpha=0.9)\n",
    "plt.hist(data2,100,density=True,facecolor='g',alpha=0.8)\n",
    "plt.grid(True)\n",
    "plt.show()"
   ],
   "metadata": {
    "collapsed": false,
    "pycharm": {
     "name": "#%%\n"
    }
   }
  },
  {
   "cell_type": "code",
   "execution_count": 14,
   "outputs": [
    {
     "name": "stdout",
     "output_type": "stream",
     "text": [
      "0.007154385681148903\n",
      "0.00824640561728085\n"
     ]
    }
   ],
   "source": [
    "# pandas有封装好的函数\n",
    "print(pd.Series(data).skew())\n",
    "print(pd.Series(data).kurt())"
   ],
   "metadata": {
    "collapsed": false,
    "pycharm": {
     "name": "#%%\n"
    }
   }
  }
 ],
 "metadata": {
  "kernelspec": {
   "display_name": "Python 3",
   "language": "python",
   "name": "python3"
  },
  "language_info": {
   "codemirror_mode": {
    "name": "ipython",
    "version": 2
   },
   "file_extension": ".py",
   "mimetype": "text/x-python",
   "name": "python",
   "nbconvert_exporter": "python",
   "pygments_lexer": "ipython2",
   "version": "2.7.6"
  }
 },
 "nbformat": 4,
 "nbformat_minor": 0
}