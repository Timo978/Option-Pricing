{
 "cells": [
  {
   "cell_type": "markdown",
   "source": [
    "三叉树基本框架：\n",
    "![tritree](../note_pic/v2-b35fa06627a584aae8944665be060810_r.jpeg)\n",
    "需要考虑到几个因素：\n",
    "1. 资产价格(图例股票价格)的上升, 下降或保持不变是遵循 BS 过程。就是几何布朗运动(geometric Brownian motion) :\n",
    "$d S=(r-d i v) S d t+\\sigma S d z$. 由于我们这回要考虑一个带有dividend yield的情况, 所以公式有些变化\n",
    "2. 同时, 为了得到在 $0 \\sim T$ 时间段每一个 $d t$, 我们假设共有 $N$ 个区间, 那么 $d t=T / N$\n",
    "3. 当然也通常要取这个积分的自然对数形式来得到更简单的形式; 如果想得到每一个小区间的价格变化 $d x$, 可以用通过 $d x=\\sigma \\sqrt{3 \\cdot d t}$ 来得到。最终, 股票价格的向上移动为 $e^{d x}$ , 向下移动为 $e^{-d x}$, 而当中的(三叉树的中间)则为 $S_{0}$, 也就是初始价格。\n",
    "做这些的目的, 都是为了得出最后需要的股价运动的概率:\n",
    "$$\n",
    "\\begin{aligned}\n",
    "&p_{u}=\\frac{1}{2} d t \\cdot\\left((\\sigma / d x)^{2}+\\nu / d x\\right) \\\\\n",
    "&p_{m}=1-d t \\cdot(\\sigma / d x)^{2}-r \\cdot d t\n",
    "\\end{aligned}\n",
    "$$\n",
    "$$p_{d}=\\frac{1}{2} d t \\cdot\\left((\\sigma / d x)^{2}-\\nu / d x\\right)$$,\n",
    "其中, $p_{u}$ 为向上运动的概率, $p_{m}$ 为不变的概率, $p_{d}$ 为向 下运动的概率, $\\nu=r-d i v-\\frac{1}{2} \\sigma^{2}$ 。当然这个也很容易实现:"
   ],
   "metadata": {
    "collapsed": false,
    "pycharm": {
     "name": "#%% md\n"
    }
   }
  },
  {
   "cell_type": "code",
   "execution_count": 13,
   "outputs": [],
   "source": [
    "import numpy as np\n",
    "from py_vollib_vectorized import vectorized_black_scholes_merton\n",
    "import matplotlib.pyplot as plt\n",
    "%matplotlib inline"
   ],
   "metadata": {
    "collapsed": false,
    "pycharm": {
     "name": "#%%\n"
    }
   }
  },
  {
   "cell_type": "code",
   "execution_count": 9,
   "outputs": [
    {
     "data": {
      "text/plain": "9.135195269350582"
     },
     "execution_count": 9,
     "metadata": {},
     "output_type": "execute_result"
    }
   ],
   "source": [
    "S0=100\n",
    "T=1\n",
    "r=0.06\n",
    "K=100\n",
    "sigma=0.2\n",
    "div = 0.03\n",
    "vectorized_black_scholes_merton('c',S0,K,T,r,sigma,div,return_as='array')[0]"
   ],
   "metadata": {
    "collapsed": false,
    "pycharm": {
     "name": "#%%\n"
    }
   }
  },
  {
   "cell_type": "code",
   "execution_count": 5,
   "outputs": [
    {
     "name": "stdout",
     "output_type": "stream",
     "text": [
      "9.13503774551553\n"
     ]
    }
   ],
   "source": [
    "def call_payoff(strike, S_array):\n",
    "    # 首先建立一个看涨期权payoff的function\n",
    "    length_of_S_array= len(S_array)\n",
    "    strike_array=strike*np.ones(length_of_S_array)\n",
    "    # 目的是要返回一个max(S-K,0)的值\n",
    "    values=np.maximum(S_array-strike_array,0)\n",
    "    return values\n",
    "\n",
    "def step_back_tree(pu,pm,pd, values,n):\n",
    "    # 在建立一个三叉树的模型\n",
    "    # n 为我们想要多少步三叉树\n",
    "    # n=1 则为我们从最终点向前推的第一步\n",
    "    # n=N 的时候，也就到达了我们树模型的最初点，也就是期权的价格\n",
    "\n",
    "    # 看看我们的最终点有多少个值\n",
    "    length = len(values)\n",
    "\n",
    "    # 准备好一个空的向量来存放我们计算过后的期权价值\n",
    "    option_values = np.zeros(length)\n",
    "\n",
    "    # 向前推导，只留下中间的值，前后n个值保存为0\n",
    "    option_values[n:length-n] = pu*values[n+1:length-n+1] + pm*values[n:length-n] + pd*values[n-1:length-n-1]\n",
    "\n",
    "    return option_values\n",
    "\n",
    "def set_parameters(S_0, T, r, sigma, div, N):\n",
    "\n",
    "    # 这就是我们刚刚计算上下概率的函数\n",
    "    dt = T/N\n",
    "    dx = sigma*np.sqrt( 3*dt )\n",
    "    nu = r- div- 0.5 * sigma**2\n",
    "\n",
    "    pu = (1/2)*dt* ( (sigma/dx)**2 + nu/dx )\n",
    "    pm = 1 - dt*(sigma/dx)**2 - r*dt\n",
    "    pd = (1/2) * dt * ( (sigma/dx)**2 - nu/dx )\n",
    "\n",
    "    S_array = S_0 * np.exp(dx * np.linspace(-N,N, 2*N+1))\n",
    "\n",
    "    return pu, pm, pd, S_array\n",
    "\n",
    "def European_call_option(S_0, T, r, sigma, div, N, strike):\n",
    "    # 计算模拟后的树模型（主要）\n",
    "\n",
    "    # 首先得到我们需要的概率\n",
    "    pu, pm, pd, S_array = set_parameters(S_0, T, r, sigma, div, N)\n",
    "\n",
    "    # 得到我们最终输出的payoff\n",
    "    values= call_payoff(strike, S_array)\n",
    "\n",
    "    # 用一个for循环来得到每一次先前推导而得到的价格，并且将新的价格保存在values中\n",
    "    for n in range(1,N+1):\n",
    "        intermediate_option_prices=step_back_tree(pu,pm,pd, values,n)\n",
    "        values = intermediate_option_prices\n",
    "    # 这个向量中间的值，也就是我们树模型的根，期权的价格！\n",
    "    return values[N]\n",
    "\n",
    "# 模拟一万步的树模型\n",
    "N=10000\n",
    "# 同样的参数\n",
    "S0=100\n",
    "T=1\n",
    "r=0.06\n",
    "K=100\n",
    "sigma=0.2\n",
    "div = 0.03\n",
    "\n",
    "tree_approx= European_call_option(S0, T, r, sigma, div, N, K)\n",
    "print(tree_approx)"
   ],
   "metadata": {
    "collapsed": false,
    "pycharm": {
     "name": "#%%\n"
    }
   }
  },
  {
   "cell_type": "code",
   "execution_count": 11,
   "outputs": [
    {
     "data": {
      "text/plain": "1.7243619912540633e-05"
     },
     "execution_count": 11,
     "metadata": {},
     "output_type": "execute_result"
    }
   ],
   "source": [
    "def approximation(S_0, T, r, sigma, div, N, strike):\n",
    "\n",
    "    approx_error = (vectorized_black_scholes_merton('c',S0,K,T,r,sigma,div,return_as='array')[0]\n",
    "                  -European_call_option(S0, T, r, sigma, div, N, K))/vectorized_black_scholes_merton('c',S0,K,T,r,sigma,div,return_as='array')[0]\n",
    "\n",
    "    return approx_error\n",
    "\n",
    "# 我们计算下 N = 10000 步时候的误差\n",
    "approximation(S_0=S0, T=T, r=r, sigma=sigma, div=div, N=10000, strike=K)"
   ],
   "metadata": {
    "collapsed": false,
    "pycharm": {
     "name": "#%%\n"
    }
   }
  },
  {
   "cell_type": "code",
   "execution_count": 21,
   "outputs": [
    {
     "data": {
      "text/plain": "<Figure size 1296x576 with 1 Axes>",
      "image/png": "[encoded data removed]"
     },
     "metadata": {
      "needs_background": "light"
     },
     "output_type": "display_data"
    }
   ],
   "source": [
    "N=np.arange(100,10000,100)\n",
    "error = []\n",
    "for i in N:\n",
    "    error.append(approximation(S_0=S0, T=T, r=r, sigma=sigma, div=div, N=i, strike=K))\n",
    "\n",
    "fig = plt.figure(figsize=(18,8))\n",
    "plt.plot(N,error)\n",
    "plt.show()"
   ],
   "metadata": {
    "collapsed": false,
    "pycharm": {
     "name": "#%%\n"
    }
   }
  },
  {
   "cell_type": "code",
   "execution_count": null,
   "outputs": [],
   "source": [],
   "metadata": {
    "collapsed": false,
    "pycharm": {
     "name": "#%%\n"
    }
   }
  }
 ],
 "metadata": {
  "kernelspec": {
   "display_name": "Python 3",
   "language": "python",
   "name": "python3"
  },
  "language_info": {
   "codemirror_mode": {
    "name": "ipython",
    "version": 2
   },
   "file_extension": ".py",
   "mimetype": "text/x-python",
   "name": "python",
   "nbconvert_exporter": "python",
   "pygments_lexer": "ipython2",
   "version": "2.7.6"
  }
 },
 "nbformat": 4,
 "nbformat_minor": 0
}