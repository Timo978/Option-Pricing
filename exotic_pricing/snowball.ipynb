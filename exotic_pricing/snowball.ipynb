{
 "cells": [
  {
   "cell_type": "markdown",
   "source": [
    "# 雪球期权\n",
    "![grid](../note_pic/snowball.png)\n",
    "\n",
    "## 到期收益分析\n",
    "| 情景 | 具体分析| 合约实际结束时间   |       投资者收益       |  是否获得正收益  |\n",
    "|:--:|:---:|:---:|:-----------------:|:---------:|\n",
    "| 敲出 |从第三个月开始，10个敲出观察日中任何一天标的资产大于或等于沪深300初始价格的103%|T日合约提前终止| 25% * T/365 * 本金  |     是     |\n",
    "| 未敲入且未敲出 |标的价格每日都不低于初始价格的80%，且每个敲出观察日都小于初始价格的103%|合约持有到期|25% * 360/365 * 本金|是(收益最高)|\n",
    "|敲入且未敲出|任一交易日跌破初始价格的80%，且10个敲出观察日都小于初始价格的103%，<mark>标的资产的期末价格小于期初价格<mark>|合约持有到期|(期末价格/期初价格 - 1) * 本金|否(发生亏损)|\n",
    "|敲入且未敲出|任一交易日跌破初始价格的80%，且10个敲出观察日都小于初始价格的103%，<mark>标的资产的期末价格处于期初价格和敲出价格之间</mark>|合约持有到期|0|否(保本)|"
   ],
   "metadata": {
    "collapsed": false,
    "pycharm": {
     "name": "#%% md\n"
    }
   }
  },
  {
   "cell_type": "code",
   "execution_count": null,
   "outputs": [],
   "source": [],
   "metadata": {
    "collapsed": false,
    "pycharm": {
     "name": "#%%\n"
    }
   }
  }
 ],
 "metadata": {
  "kernelspec": {
   "display_name": "Python 3",
   "language": "python",
   "name": "python3"
  },
  "language_info": {
   "codemirror_mode": {
    "name": "ipython",
    "version": 2
   },
   "file_extension": ".py",
   "mimetype": "text/x-python",
   "name": "python",
   "nbconvert_exporter": "python",
   "pygments_lexer": "ipython2",
   "version": "2.7.6"
  }
 },
 "nbformat": 4,
 "nbformat_minor": 0
}