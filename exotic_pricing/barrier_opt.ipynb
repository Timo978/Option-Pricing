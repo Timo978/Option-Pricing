{
 "cells": [
  {
   "cell_type": "markdown",
   "source": [
    "风险中性的条件下的期权定价的基本公式: $V(0)=e^{-r_{f} T} E_{0}^{Q}\\left[\\Phi\\left(S_{T}\\right)\\right]$,\n",
    "其中 $S_{t}$ 是一个股价的随机过程, $S_{T}$ 为股价在到期日 $T$ 的价格, $\\Phi\\left(S_{T}\\right)$ 是期权的 Payoff 函 数, $r_{f}$ 为无风险利率;\n",
    "将上边的公式写成积分形式: $V(0)=e^{-r T} \\mathbb{E}_{0}^{Q}\\left[\\Phi\\left(S_{T}\\right)\\right]=e^{-r T} \\int_{0}^{\\infty} \\Phi\\left(S_{T}\\right) \\phi\\left(S_{T}\\right) d S_{T}$,\n",
    "其中 $\\phi\\left(S_{T}\\right)$ 是股价 $S_{T}$ 的概率密度函数(probability density function PDF)。对于简单的期权不难 得到 $\\phi\\left(S_{T}\\right)$ 的 analytical expression; 对于一些复杂的期权, 只能通过蒙特卡洛模拟(MC)来得到 一个近似解(Approximation), 就比如今天的障碍期权。\n",
    "\n",
    "MC的基本思路是在到期日 $T$ 时模拟多个离散的 $S_{i}$, 这个模拟出来的 empirical PDF 是一个Dirac delta functions $\\delta\\left(x-S_{i, T}\\right)$, 这个模拟的 PDF 可以写成:\n",
    "$$\n",
    "\\phi_{e}\\left(S_{T}\\right)=\\frac{1}{N} \\sum_{i=1}^{N} \\delta\\left(S_{T}-S_{i}\\right)\n",
    "$$\n",
    "理论上来说, 随着模拟次数的增加, 这个模拟的 PDF 会收敛于真实 PDF:\n",
    "$$\n",
    "\\int_{0}^{\\infty} \\Phi\\left(S_{T}\\right) \\phi_{e}\\left(S_{T}\\right) d S_{T} \\underset{N \\rightarrow \\infty}{\\rightarrow} \\int_{0}^{\\infty} \\Phi\\left(S_{T}\\right) \\phi\\left(S_{T}\\right) d S_{T} .\n",
    "$$\n",
    "因此, 可以把最初的公式写成:\n",
    "$$\n",
    "\\begin{aligned}\n",
    "&V(0)=e^{-r_{f} T} \\mathbb{E}_{0}^{Q}\\left[\\Phi\\left(S_{T}\\right)\\right] \\approx e^{-r_{f} T} \\int_{0}^{\\infty} \\Phi\\left(S_{T}\\right) \\phi_{e}\\left(S_{T}\\right) d S_{T} \\\\\n",
    "&=e^{-r_{f} T} \\int_{0}^{\\infty} \\Phi\\left(S_{T}\\right) \\frac{1}{N} \\sum_{i=1}^{N} \\delta\\left(S_{T}-S_{i}\\right) d S_{T} \\\\\n",
    "&=e^{-r_{f} T} \\frac{1}{N} \\sum_{i=1}^{N} \\Phi\\left(S_{i}\\right)\n",
    "\\end{aligned}\n",
    "$$"
   ],
   "metadata": {
    "collapsed": false,
    "pycharm": {
     "name": "#%% md\n"
    }
   }
  },
  {
   "cell_type": "code",
   "execution_count": 12,
   "outputs": [],
   "source": [
    "import numpy as np\n",
    "from py_vollib_vectorized import vectorized_black_scholes_merton\n",
    "import matplotlib.pyplot as plt\n",
    "\n",
    "%matplotlib inline"
   ],
   "metadata": {
    "collapsed": false,
    "pycharm": {
     "name": "#%%\n"
    }
   }
  },
  {
   "cell_type": "code",
   "execution_count": 13,
   "outputs": [],
   "source": [
    "S0 = 30    ### 股价 30\n",
    "r = 0.03\n",
    "q = 0.01\n",
    "k = 0.3\n",
    "V0 = 1\n",
    "rho = -0.7\n",
    "theta = 0.5\n",
    "xi = 0.5\n",
    "B = S0*1.1   ### 障碍 33\n",
    "T = 1.0"
   ],
   "metadata": {
    "collapsed": false,
    "pycharm": {
     "name": "#%%\n"
    }
   }
  },
  {
   "cell_type": "markdown",
   "source": [
    "使用了两种方式进行标的价格路径模拟\n",
    "1. 网格法\n",
    "2. MC模拟"
   ],
   "metadata": {
    "collapsed": false,
    "pycharm": {
     "name": "#%% md\n"
    }
   }
  },
  {
   "cell_type": "code",
   "execution_count": 14,
   "outputs": [],
   "source": [
    "npath = 10000\n",
    "nstep = 100\n",
    "dt = T/nstep\n",
    "tgrid = np.linspace(0, T, nstep+1)\n",
    "CH = np.array([[1., rho], [rho, 1.]])\n",
    "L = np.linalg.cholesky(CH)\n",
    "S = S0*np.ones((nstep+1, npath))\n",
    "V = V0*np.ones((nstep+1,npath))\n",
    "I = np.ones((1,npath))     ### Indicator"
   ],
   "metadata": {
    "collapsed": false,
    "pycharm": {
     "name": "#%%\n"
    }
   }
  },
  {
   "cell_type": "code",
   "execution_count": 15,
   "outputs": [],
   "source": [
    "for i in range(0, nstep):\n",
    "    ZH = np.random.normal(size=(2, npath // 2))\n",
    "    ZA = np.c_[ZH, -ZH]  # antithetic sampling\n",
    "    Z = L @ ZA\n",
    "    dS = r * S[i, :] * dt + np.sqrt(V[i, :]) * S[i, :] * np.sqrt(dt) * Z[0, :]\n",
    "    S[i + 1, :] = S[i, :] + dS\n",
    "    dV = k * (theta - V[i, :]) * dt + xi * np.sqrt(V[i, :]) * np.sqrt(dt) * Z[1, :]\n",
    "    V[i + 1, :] = np.maximum(V[i, :] + dV, 0)\n",
    "    # St = F[i + 1, :] * np.exp(-(r - q) * (T - tgrid[i + 1]))\n",
    "\n",
    "I = I * (S[-1,:] > B) # 运算过后，I中不符合S[-1,:] < B会变为0\n",
    "# ST = F[-1, :]"
   ],
   "metadata": {
    "collapsed": false,
    "pycharm": {
     "name": "#%%\n"
    }
   }
  },
  {
   "cell_type": "code",
   "execution_count": 16,
   "outputs": [
    {
     "data": {
      "text/plain": "<Figure size 864x576 with 1 Axes>",
      "image/png": "[encoded data removed]"
     },
     "metadata": {
      "needs_background": "light"
     },
     "output_type": "display_data"
    }
   ],
   "source": [
    "# Up-and-excerise Call\n",
    "K = np.linspace(0.8*S0, B, 10)\n",
    "UOCheston = np.zeros(K.shape)\n",
    "for i in range(0,K.size):\n",
    "    UOCheston[i] = np.exp(-r*T) * np.mean(np.maximum(S[-1,:] - K[i],0) * I)\n",
    "\n",
    "fig = plt.figure(figsize=(12,8))\n",
    "plt.plot(K, UOCheston, 'o-', label='Heston')\n",
    "plt.plot(K, vectorized_black_scholes_merton('c', S0,K, T, r,np.mean(V), q,return_as='array'), '--b', label='stable vol')\n",
    "plt.legend()\n",
    "plt.title('Barrier: Heston')\n",
    "plt.show()"
   ],
   "metadata": {
    "collapsed": false,
    "pycharm": {
     "name": "#%%\n"
    }
   }
  },
  {
   "cell_type": "code",
   "execution_count": 16,
   "outputs": [],
   "source": [],
   "metadata": {
    "collapsed": false,
    "pycharm": {
     "name": "#%%\n"
    }
   }
  }
 ],
 "metadata": {
  "kernelspec": {
   "display_name": "Python 3",
   "language": "python",
   "name": "python3"
  },
  "language_info": {
   "codemirror_mode": {
    "name": "ipython",
    "version": 2
   },
   "file_extension": ".py",
   "mimetype": "text/x-python",
   "name": "python",
   "nbconvert_exporter": "python",
   "pygments_lexer": "ipython2",
   "version": "2.7.6"
  }
 },
 "nbformat": 4,
 "nbformat_minor": 0
}