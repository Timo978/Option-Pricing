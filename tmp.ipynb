{
 "cells": [
  {
   "cell_type": "code",
   "execution_count": 15,
   "metadata": {
    "collapsed": true,
    "pycharm": {
     "name": "#%%\n"
    }
   },
   "outputs": [],
   "source": [
    "import pandas as pd\n",
    "import numpy as np\n",
    "import warnings\n",
    "import matplotlib.pyplot as plt\n",
    "import statsmodels.api as sm\n",
    "import datetime\n",
    "from statsmodels.tsa.stattools import adfuller as adf\n",
    "from statsmodels.graphics.gofplots import qqplot\n",
    "from pandas.plotting import register_matplotlib_converters\n",
    "from pandas.plotting import autocorrelation_plot\n",
    "from pandas_datareader import data\n",
    "from scipy import stats"
   ]
  },
  {
   "cell_type": "code",
   "execution_count": 25,
   "outputs": [],
   "source": [
    "start = datetime.datetime(2017,1,1)#获取数据的时间段-起始时间\n",
    "end = datetime.date.today()#获取数据的时间段-结束时间\n",
    "df = data.get_data_yahoo('BTC-USD', start=start, end=end)"
   ],
   "metadata": {
    "collapsed": false,
    "pycharm": {
     "name": "#%%\n"
    }
   }
  },
  {
   "cell_type": "code",
   "execution_count": 26,
   "outputs": [
    {
     "data": {
      "text/plain": "                    High           Low          Open         Close  \\\nDate                                                                 \n2016-12-31    963.742981    947.236023    960.627014    963.742981   \n2017-01-01   1003.080017    958.698975    963.658020    998.325012   \n2017-01-02   1031.390015    996.702026    998.617004   1021.750000   \n2017-01-03   1044.079956   1021.599976   1021.599976   1043.839966   \n2017-01-04   1159.420044   1044.400024   1044.400024   1154.729980   \n...                  ...           ...           ...           ...   \n2022-07-22  23671.927734  22603.416016  23163.751953  22714.978516   \n2022-07-23  22977.210938  22002.910156  22706.984375  22465.478516   \n2022-07-24  22974.001953  22306.839844  22465.509766  22609.164062   \n2022-07-25  22649.121094  21361.642578  22607.156250  21361.701172   \n2022-07-26  21315.908203  21024.212891  21315.908203  21081.531250   \n\n                 Volume     Adj Close  \nDate                                   \n2016-12-31     99135104    963.742981  \n2017-01-01    147775008    998.325012  \n2017-01-02    222184992   1021.750000  \n2017-01-03    185168000   1043.839966  \n2017-01-04    344945984   1154.729980  \n...                 ...           ...  \n2022-07-22  31421555646  22714.978516  \n2022-07-23  24021799169  22465.478516  \n2022-07-24  23565495303  22609.164062  \n2022-07-25  35574561406  21361.701172  \n2022-07-26  35848650752  21081.531250  \n\n[2034 rows x 6 columns]",
      "text/html": "<div>\n<style scoped>\n    .dataframe tbody tr th:only-of-type {\n        vertical-align: middle;\n    }\n\n    .dataframe tbody tr th {\n        vertical-align: top;\n    }\n\n    .dataframe thead th {\n        text-align: right;\n    }\n</style>\n<table border=\"1\" class=\"dataframe\">\n  <thead>\n    <tr style=\"text-align: right;\">\n      <th></th>\n      <th>High</th>\n      <th>Low</th>\n      <th>Open</th>\n      <th>Close</th>\n      <th>Volume</th>\n      <th>Adj Close</th>\n    </tr>\n    <tr>\n      <th>Date</th>\n      <th></th>\n      <th></th>\n      <th></th>\n      <th></th>\n      <th></th>\n      <th></th>\n    </tr>\n  </thead>\n  <tbody>\n    <tr>\n      <th>2016-12-31</th>\n      <td>963.742981</td>\n      <td>947.236023</td>\n      <td>960.627014</td>\n      <td>963.742981</td>\n      <td>99135104</td>\n      <td>963.742981</td>\n    </tr>\n    <tr>\n      <th>2017-01-01</th>\n      <td>1003.080017</td>\n      <td>958.698975</td>\n      <td>963.658020</td>\n      <td>998.325012</td>\n      <td>147775008</td>\n      <td>998.325012</td>\n    </tr>\n    <tr>\n      <th>2017-01-02</th>\n      <td>1031.390015</td>\n      <td>996.702026</td>\n      <td>998.617004</td>\n      <td>1021.750000</td>\n      <td>222184992</td>\n      <td>1021.750000</td>\n    </tr>\n    <tr>\n      <th>2017-01-03</th>\n      <td>1044.079956</td>\n      <td>1021.599976</td>\n      <td>1021.599976</td>\n      <td>1043.839966</td>\n      <td>185168000</td>\n      <td>1043.839966</td>\n    </tr>\n    <tr>\n      <th>2017-01-04</th>\n      <td>1159.420044</td>\n      <td>1044.400024</td>\n      <td>1044.400024</td>\n      <td>1154.729980</td>\n      <td>344945984</td>\n      <td>1154.729980</td>\n    </tr>\n    <tr>\n      <th>...</th>\n      <td>...</td>\n      <td>...</td>\n      <td>...</td>\n      <td>...</td>\n      <td>...</td>\n      <td>...</td>\n    </tr>\n    <tr>\n      <th>2022-07-22</th>\n      <td>23671.927734</td>\n      <td>22603.416016</td>\n      <td>23163.751953</td>\n      <td>22714.978516</td>\n      <td>31421555646</td>\n      <td>22714.978516</td>\n    </tr>\n    <tr>\n      <th>2022-07-23</th>\n      <td>22977.210938</td>\n      <td>22002.910156</td>\n      <td>22706.984375</td>\n      <td>22465.478516</td>\n      <td>24021799169</td>\n      <td>22465.478516</td>\n    </tr>\n    <tr>\n      <th>2022-07-24</th>\n      <td>22974.001953</td>\n      <td>22306.839844</td>\n      <td>22465.509766</td>\n      <td>22609.164062</td>\n      <td>23565495303</td>\n      <td>22609.164062</td>\n    </tr>\n    <tr>\n      <th>2022-07-25</th>\n      <td>22649.121094</td>\n      <td>21361.642578</td>\n      <td>22607.156250</td>\n      <td>21361.701172</td>\n      <td>35574561406</td>\n      <td>21361.701172</td>\n    </tr>\n    <tr>\n      <th>2022-07-26</th>\n      <td>21315.908203</td>\n      <td>21024.212891</td>\n      <td>21315.908203</td>\n      <td>21081.531250</td>\n      <td>35848650752</td>\n      <td>21081.531250</td>\n    </tr>\n  </tbody>\n</table>\n<p>2034 rows × 6 columns</p>\n</div>"
     },
     "execution_count": 26,
     "metadata": {},
     "output_type": "execute_result"
    }
   ],
   "source": [
    "df"
   ],
   "metadata": {
    "collapsed": false,
    "pycharm": {
     "name": "#%%\n"
    }
   }
  },
  {
   "cell_type": "code",
   "execution_count": 27,
   "outputs": [
    {
     "data": {
      "text/plain": "                    High           Low          Open         Close  \\\nDate                                                                 \n2016-12-31    963.742981    947.236023    960.627014    963.742981   \n2017-01-01   1003.080017    958.698975    963.658020    998.325012   \n2017-01-02   1031.390015    996.702026    998.617004   1021.750000   \n2017-01-03   1044.079956   1021.599976   1021.599976   1043.839966   \n2017-01-04   1159.420044   1044.400024   1044.400024   1154.729980   \n...                  ...           ...           ...           ...   \n2022-07-22  23671.927734  22603.416016  23163.751953  22714.978516   \n2022-07-23  22977.210938  22002.910156  22706.984375  22465.478516   \n2022-07-24  22974.001953  22306.839844  22465.509766  22609.164062   \n2022-07-25  22649.121094  21361.642578  22607.156250  21361.701172   \n2022-07-26  21315.908203  21024.212891  21315.908203  21081.531250   \n\n                 Volume     Adj Close   log_ret  \nDate                                             \n2016-12-31     99135104    963.742981       NaN  \n2017-01-01    147775008    998.325012  0.035254  \n2017-01-02    222184992   1021.750000  0.023193  \n2017-01-03    185168000   1043.839966  0.021389  \n2017-01-04    344945984   1154.729980  0.100960  \n...                 ...           ...       ...  \n2022-07-22  31421555646  22714.978516 -0.019602  \n2022-07-23  24021799169  22465.478516 -0.011045  \n2022-07-24  23565495303  22609.164062  0.006375  \n2022-07-25  35574561406  21361.701172 -0.056756  \n2022-07-26  35848650752  21081.531250 -0.013202  \n\n[2034 rows x 7 columns]",
      "text/html": "<div>\n<style scoped>\n    .dataframe tbody tr th:only-of-type {\n        vertical-align: middle;\n    }\n\n    .dataframe tbody tr th {\n        vertical-align: top;\n    }\n\n    .dataframe thead th {\n        text-align: right;\n    }\n</style>\n<table border=\"1\" class=\"dataframe\">\n  <thead>\n    <tr style=\"text-align: right;\">\n      <th></th>\n      <th>High</th>\n      <th>Low</th>\n      <th>Open</th>\n      <th>Close</th>\n      <th>Volume</th>\n      <th>Adj Close</th>\n      <th>log_ret</th>\n    </tr>\n    <tr>\n      <th>Date</th>\n      <th></th>\n      <th></th>\n      <th></th>\n      <th></th>\n      <th></th>\n      <th></th>\n      <th></th>\n    </tr>\n  </thead>\n  <tbody>\n    <tr>\n      <th>2016-12-31</th>\n      <td>963.742981</td>\n      <td>947.236023</td>\n      <td>960.627014</td>\n      <td>963.742981</td>\n      <td>99135104</td>\n      <td>963.742981</td>\n      <td>NaN</td>\n    </tr>\n    <tr>\n      <th>2017-01-01</th>\n      <td>1003.080017</td>\n      <td>958.698975</td>\n      <td>963.658020</td>\n      <td>998.325012</td>\n      <td>147775008</td>\n      <td>998.325012</td>\n      <td>0.035254</td>\n    </tr>\n    <tr>\n      <th>2017-01-02</th>\n      <td>1031.390015</td>\n      <td>996.702026</td>\n      <td>998.617004</td>\n      <td>1021.750000</td>\n      <td>222184992</td>\n      <td>1021.750000</td>\n      <td>0.023193</td>\n    </tr>\n    <tr>\n      <th>2017-01-03</th>\n      <td>1044.079956</td>\n      <td>1021.599976</td>\n      <td>1021.599976</td>\n      <td>1043.839966</td>\n      <td>185168000</td>\n      <td>1043.839966</td>\n      <td>0.021389</td>\n    </tr>\n    <tr>\n      <th>2017-01-04</th>\n      <td>1159.420044</td>\n      <td>1044.400024</td>\n      <td>1044.400024</td>\n      <td>1154.729980</td>\n      <td>344945984</td>\n      <td>1154.729980</td>\n      <td>0.100960</td>\n    </tr>\n    <tr>\n      <th>...</th>\n      <td>...</td>\n      <td>...</td>\n      <td>...</td>\n      <td>...</td>\n      <td>...</td>\n      <td>...</td>\n      <td>...</td>\n    </tr>\n    <tr>\n      <th>2022-07-22</th>\n      <td>23671.927734</td>\n      <td>22603.416016</td>\n      <td>23163.751953</td>\n      <td>22714.978516</td>\n      <td>31421555646</td>\n      <td>22714.978516</td>\n      <td>-0.019602</td>\n    </tr>\n    <tr>\n      <th>2022-07-23</th>\n      <td>22977.210938</td>\n      <td>22002.910156</td>\n      <td>22706.984375</td>\n      <td>22465.478516</td>\n      <td>24021799169</td>\n      <td>22465.478516</td>\n      <td>-0.011045</td>\n    </tr>\n    <tr>\n      <th>2022-07-24</th>\n      <td>22974.001953</td>\n      <td>22306.839844</td>\n      <td>22465.509766</td>\n      <td>22609.164062</td>\n      <td>23565495303</td>\n      <td>22609.164062</td>\n      <td>0.006375</td>\n    </tr>\n    <tr>\n      <th>2022-07-25</th>\n      <td>22649.121094</td>\n      <td>21361.642578</td>\n      <td>22607.156250</td>\n      <td>21361.701172</td>\n      <td>35574561406</td>\n      <td>21361.701172</td>\n      <td>-0.056756</td>\n    </tr>\n    <tr>\n      <th>2022-07-26</th>\n      <td>21315.908203</td>\n      <td>21024.212891</td>\n      <td>21315.908203</td>\n      <td>21081.531250</td>\n      <td>35848650752</td>\n      <td>21081.531250</td>\n      <td>-0.013202</td>\n    </tr>\n  </tbody>\n</table>\n<p>2034 rows × 7 columns</p>\n</div>"
     },
     "execution_count": 27,
     "metadata": {},
     "output_type": "execute_result"
    }
   ],
   "source": [
    "df['log_ret'] = np.log(df['Close']/df['Close'].shift())\n",
    "df"
   ],
   "metadata": {
    "collapsed": false,
    "pycharm": {
     "name": "#%%\n"
    }
   }
  },
  {
   "cell_type": "code",
   "execution_count": 28,
   "outputs": [
    {
     "data": {
      "text/plain": "                    High           Low          Open         Close  \\\nDate                                                                 \n2016-12-31    963.742981    947.236023    960.627014    963.742981   \n2017-01-01   1003.080017    958.698975    963.658020    998.325012   \n2017-01-02   1031.390015    996.702026    998.617004   1021.750000   \n2017-01-03   1044.079956   1021.599976   1021.599976   1043.839966   \n2017-01-04   1159.420044   1044.400024   1044.400024   1154.729980   \n...                  ...           ...           ...           ...   \n2022-07-22  23671.927734  22603.416016  23163.751953  22714.978516   \n2022-07-23  22977.210938  22002.910156  22706.984375  22465.478516   \n2022-07-24  22974.001953  22306.839844  22465.509766  22609.164062   \n2022-07-25  22649.121094  21361.642578  22607.156250  21361.701172   \n2022-07-26  21315.908203  21024.212891  21315.908203  21081.531250   \n\n                 Volume     Adj Close   log_ret           D  \nDate                                                         \n2016-12-31     99135104    963.742981       NaN  2016-12-31  \n2017-01-01    147775008    998.325012  0.035254  2017-01-01  \n2017-01-02    222184992   1021.750000  0.023193  2017-01-02  \n2017-01-03    185168000   1043.839966  0.021389  2017-01-03  \n2017-01-04    344945984   1154.729980  0.100960  2017-01-04  \n...                 ...           ...       ...         ...  \n2022-07-22  31421555646  22714.978516 -0.019602  2022-07-22  \n2022-07-23  24021799169  22465.478516 -0.011045  2022-07-23  \n2022-07-24  23565495303  22609.164062  0.006375  2022-07-24  \n2022-07-25  35574561406  21361.701172 -0.056756  2022-07-25  \n2022-07-26  35848650752  21081.531250 -0.013202  2022-07-26  \n\n[2034 rows x 8 columns]",
      "text/html": "<div>\n<style scoped>\n    .dataframe tbody tr th:only-of-type {\n        vertical-align: middle;\n    }\n\n    .dataframe tbody tr th {\n        vertical-align: top;\n    }\n\n    .dataframe thead th {\n        text-align: right;\n    }\n</style>\n<table border=\"1\" class=\"dataframe\">\n  <thead>\n    <tr style=\"text-align: right;\">\n      <th></th>\n      <th>High</th>\n      <th>Low</th>\n      <th>Open</th>\n      <th>Close</th>\n      <th>Volume</th>\n      <th>Adj Close</th>\n      <th>log_ret</th>\n      <th>D</th>\n    </tr>\n    <tr>\n      <th>Date</th>\n      <th></th>\n      <th></th>\n      <th></th>\n      <th></th>\n      <th></th>\n      <th></th>\n      <th></th>\n      <th></th>\n    </tr>\n  </thead>\n  <tbody>\n    <tr>\n      <th>2016-12-31</th>\n      <td>963.742981</td>\n      <td>947.236023</td>\n      <td>960.627014</td>\n      <td>963.742981</td>\n      <td>99135104</td>\n      <td>963.742981</td>\n      <td>NaN</td>\n      <td>2016-12-31</td>\n    </tr>\n    <tr>\n      <th>2017-01-01</th>\n      <td>1003.080017</td>\n      <td>958.698975</td>\n      <td>963.658020</td>\n      <td>998.325012</td>\n      <td>147775008</td>\n      <td>998.325012</td>\n      <td>0.035254</td>\n      <td>2017-01-01</td>\n    </tr>\n    <tr>\n      <th>2017-01-02</th>\n      <td>1031.390015</td>\n      <td>996.702026</td>\n      <td>998.617004</td>\n      <td>1021.750000</td>\n      <td>222184992</td>\n      <td>1021.750000</td>\n      <td>0.023193</td>\n      <td>2017-01-02</td>\n    </tr>\n    <tr>\n      <th>2017-01-03</th>\n      <td>1044.079956</td>\n      <td>1021.599976</td>\n      <td>1021.599976</td>\n      <td>1043.839966</td>\n      <td>185168000</td>\n      <td>1043.839966</td>\n      <td>0.021389</td>\n      <td>2017-01-03</td>\n    </tr>\n    <tr>\n      <th>2017-01-04</th>\n      <td>1159.420044</td>\n      <td>1044.400024</td>\n      <td>1044.400024</td>\n      <td>1154.729980</td>\n      <td>344945984</td>\n      <td>1154.729980</td>\n      <td>0.100960</td>\n      <td>2017-01-04</td>\n    </tr>\n    <tr>\n      <th>...</th>\n      <td>...</td>\n      <td>...</td>\n      <td>...</td>\n      <td>...</td>\n      <td>...</td>\n      <td>...</td>\n      <td>...</td>\n      <td>...</td>\n    </tr>\n    <tr>\n      <th>2022-07-22</th>\n      <td>23671.927734</td>\n      <td>22603.416016</td>\n      <td>23163.751953</td>\n      <td>22714.978516</td>\n      <td>31421555646</td>\n      <td>22714.978516</td>\n      <td>-0.019602</td>\n      <td>2022-07-22</td>\n    </tr>\n    <tr>\n      <th>2022-07-23</th>\n      <td>22977.210938</td>\n      <td>22002.910156</td>\n      <td>22706.984375</td>\n      <td>22465.478516</td>\n      <td>24021799169</td>\n      <td>22465.478516</td>\n      <td>-0.011045</td>\n      <td>2022-07-23</td>\n    </tr>\n    <tr>\n      <th>2022-07-24</th>\n      <td>22974.001953</td>\n      <td>22306.839844</td>\n      <td>22465.509766</td>\n      <td>22609.164062</td>\n      <td>23565495303</td>\n      <td>22609.164062</td>\n      <td>0.006375</td>\n      <td>2022-07-24</td>\n    </tr>\n    <tr>\n      <th>2022-07-25</th>\n      <td>22649.121094</td>\n      <td>21361.642578</td>\n      <td>22607.156250</td>\n      <td>21361.701172</td>\n      <td>35574561406</td>\n      <td>21361.701172</td>\n      <td>-0.056756</td>\n      <td>2022-07-25</td>\n    </tr>\n    <tr>\n      <th>2022-07-26</th>\n      <td>21315.908203</td>\n      <td>21024.212891</td>\n      <td>21315.908203</td>\n      <td>21081.531250</td>\n      <td>35848650752</td>\n      <td>21081.531250</td>\n      <td>-0.013202</td>\n      <td>2022-07-26</td>\n    </tr>\n  </tbody>\n</table>\n<p>2034 rows × 8 columns</p>\n</div>"
     },
     "execution_count": 28,
     "metadata": {},
     "output_type": "execute_result"
    }
   ],
   "source": [
    "df[\"D\"] = df.index.date\n",
    "n_periods = df.pivot_table(index = [\"D\"], aggfunc = 'size').values\n",
    "\n",
    "stats.describe(n_periods)\n",
    "df"
   ],
   "metadata": {
    "collapsed": false,
    "pycharm": {
     "name": "#%%\n"
    }
   }
  },
  {
   "cell_type": "code",
   "execution_count": 23,
   "outputs": [],
   "source": [
    "df.loc[df[\"D\"] != df[\"D\"].shift(), \"Per\"]  = n_periods\n",
    "df.fillna(method = 'ffill', inplace = True)\n",
    "\n",
    "df[\"Ret\"] = np.where(df[\"D\"] == df[\"D\"].shift(),\n",
    "                    ( (df[\"Close\"]-df[\"Close\"].shift()) * 1/df[\"Per\"] ) **2, np.nan)"
   ],
   "metadata": {
    "collapsed": false,
    "pycharm": {
     "name": "#%%\n"
    }
   }
  },
  {
   "cell_type": "code",
   "execution_count": 24,
   "outputs": [
    {
     "data": {
      "text/plain": "                    High           Low          Open         Close  \\\nDate                                                                 \n2016-12-31    963.742981    947.236023    960.627014    963.742981   \n2017-01-01   1003.080017    958.698975    963.658020    998.325012   \n2017-01-02   1031.390015    996.702026    998.617004   1021.750000   \n2017-01-03   1044.079956   1021.599976   1021.599976   1043.839966   \n2017-01-04   1159.420044   1044.400024   1044.400024   1154.729980   \n...                  ...           ...           ...           ...   \n2022-07-22  23671.927734  22603.416016  23163.751953  22714.978516   \n2022-07-23  22977.210938  22002.910156  22706.984375  22465.478516   \n2022-07-24  22974.001953  22306.839844  22465.509766  22609.164062   \n2022-07-25  22649.121094  21361.642578  22607.156250  21361.701172   \n2022-07-26  21315.908203  21024.212891  21315.908203  21082.554688   \n\n                 Volume     Adj Close   log_ret           D  Per  Ret  \nDate                                                                   \n2016-12-31     99135104    963.742981       NaN  2016-12-31  1.0  NaN  \n2017-01-01    147775008    998.325012  0.035254  2017-01-01  1.0  NaN  \n2017-01-02    222184992   1021.750000  0.023193  2017-01-02  1.0  NaN  \n2017-01-03    185168000   1043.839966  0.021389  2017-01-03  1.0  NaN  \n2017-01-04    344945984   1154.729980  0.100960  2017-01-04  1.0  NaN  \n...                 ...           ...       ...         ...  ...  ...  \n2022-07-22  31421555646  22714.978516 -0.019602  2022-07-22  1.0  NaN  \n2022-07-23  24021799169  22465.478516 -0.011045  2022-07-23  1.0  NaN  \n2022-07-24  23565495303  22609.164062  0.006375  2022-07-24  1.0  NaN  \n2022-07-25  35574561406  21361.701172 -0.056756  2022-07-25  1.0  NaN  \n2022-07-26  35858288640  21082.554688 -0.013154  2022-07-26  1.0  NaN  \n\n[2034 rows x 10 columns]",
      "text/html": "<div>\n<style scoped>\n    .dataframe tbody tr th:only-of-type {\n        vertical-align: middle;\n    }\n\n    .dataframe tbody tr th {\n        vertical-align: top;\n    }\n\n    .dataframe thead th {\n        text-align: right;\n    }\n</style>\n<table border=\"1\" class=\"dataframe\">\n  <thead>\n    <tr style=\"text-align: right;\">\n      <th></th>\n      <th>High</th>\n      <th>Low</th>\n      <th>Open</th>\n      <th>Close</th>\n      <th>Volume</th>\n      <th>Adj Close</th>\n      <th>log_ret</th>\n      <th>D</th>\n      <th>Per</th>\n      <th>Ret</th>\n    </tr>\n    <tr>\n      <th>Date</th>\n      <th></th>\n      <th></th>\n      <th></th>\n      <th></th>\n      <th></th>\n      <th></th>\n      <th></th>\n      <th></th>\n      <th></th>\n      <th></th>\n    </tr>\n  </thead>\n  <tbody>\n    <tr>\n      <th>2016-12-31</th>\n      <td>963.742981</td>\n      <td>947.236023</td>\n      <td>960.627014</td>\n      <td>963.742981</td>\n      <td>99135104</td>\n      <td>963.742981</td>\n      <td>NaN</td>\n      <td>2016-12-31</td>\n      <td>1.0</td>\n      <td>NaN</td>\n    </tr>\n    <tr>\n      <th>2017-01-01</th>\n      <td>1003.080017</td>\n      <td>958.698975</td>\n      <td>963.658020</td>\n      <td>998.325012</td>\n      <td>147775008</td>\n      <td>998.325012</td>\n      <td>0.035254</td>\n      <td>2017-01-01</td>\n      <td>1.0</td>\n      <td>NaN</td>\n    </tr>\n    <tr>\n      <th>2017-01-02</th>\n      <td>1031.390015</td>\n      <td>996.702026</td>\n      <td>998.617004</td>\n      <td>1021.750000</td>\n      <td>222184992</td>\n      <td>1021.750000</td>\n      <td>0.023193</td>\n      <td>2017-01-02</td>\n      <td>1.0</td>\n      <td>NaN</td>\n    </tr>\n    <tr>\n      <th>2017-01-03</th>\n      <td>1044.079956</td>\n      <td>1021.599976</td>\n      <td>1021.599976</td>\n      <td>1043.839966</td>\n      <td>185168000</td>\n      <td>1043.839966</td>\n      <td>0.021389</td>\n      <td>2017-01-03</td>\n      <td>1.0</td>\n      <td>NaN</td>\n    </tr>\n    <tr>\n      <th>2017-01-04</th>\n      <td>1159.420044</td>\n      <td>1044.400024</td>\n      <td>1044.400024</td>\n      <td>1154.729980</td>\n      <td>344945984</td>\n      <td>1154.729980</td>\n      <td>0.100960</td>\n      <td>2017-01-04</td>\n      <td>1.0</td>\n      <td>NaN</td>\n    </tr>\n    <tr>\n      <th>...</th>\n      <td>...</td>\n      <td>...</td>\n      <td>...</td>\n      <td>...</td>\n      <td>...</td>\n      <td>...</td>\n      <td>...</td>\n      <td>...</td>\n      <td>...</td>\n      <td>...</td>\n    </tr>\n    <tr>\n      <th>2022-07-22</th>\n      <td>23671.927734</td>\n      <td>22603.416016</td>\n      <td>23163.751953</td>\n      <td>22714.978516</td>\n      <td>31421555646</td>\n      <td>22714.978516</td>\n      <td>-0.019602</td>\n      <td>2022-07-22</td>\n      <td>1.0</td>\n      <td>NaN</td>\n    </tr>\n    <tr>\n      <th>2022-07-23</th>\n      <td>22977.210938</td>\n      <td>22002.910156</td>\n      <td>22706.984375</td>\n      <td>22465.478516</td>\n      <td>24021799169</td>\n      <td>22465.478516</td>\n      <td>-0.011045</td>\n      <td>2022-07-23</td>\n      <td>1.0</td>\n      <td>NaN</td>\n    </tr>\n    <tr>\n      <th>2022-07-24</th>\n      <td>22974.001953</td>\n      <td>22306.839844</td>\n      <td>22465.509766</td>\n      <td>22609.164062</td>\n      <td>23565495303</td>\n      <td>22609.164062</td>\n      <td>0.006375</td>\n      <td>2022-07-24</td>\n      <td>1.0</td>\n      <td>NaN</td>\n    </tr>\n    <tr>\n      <th>2022-07-25</th>\n      <td>22649.121094</td>\n      <td>21361.642578</td>\n      <td>22607.156250</td>\n      <td>21361.701172</td>\n      <td>35574561406</td>\n      <td>21361.701172</td>\n      <td>-0.056756</td>\n      <td>2022-07-25</td>\n      <td>1.0</td>\n      <td>NaN</td>\n    </tr>\n    <tr>\n      <th>2022-07-26</th>\n      <td>21315.908203</td>\n      <td>21024.212891</td>\n      <td>21315.908203</td>\n      <td>21082.554688</td>\n      <td>35858288640</td>\n      <td>21082.554688</td>\n      <td>-0.013154</td>\n      <td>2022-07-26</td>\n      <td>1.0</td>\n      <td>NaN</td>\n    </tr>\n  </tbody>\n</table>\n<p>2034 rows × 10 columns</p>\n</div>"
     },
     "execution_count": 24,
     "metadata": {},
     "output_type": "execute_result"
    }
   ],
   "source": [
    "df"
   ],
   "metadata": {
    "collapsed": false,
    "pycharm": {
     "name": "#%%\n"
    }
   }
  },
  {
   "cell_type": "code",
   "execution_count": 32,
   "outputs": [],
   "source": [
    "rv = df['log_ret'].rolling(5).std() * np.sqrt(365)\n"
   ],
   "metadata": {
    "collapsed": false,
    "pycharm": {
     "name": "#%%\n"
    }
   }
  },
  {
   "cell_type": "code",
   "execution_count": 33,
   "outputs": [
    {
     "data": {
      "text/plain": "Date\n2016-12-31         NaN\n2017-01-01         NaN\n2017-01-02         NaN\n2017-01-03         NaN\n2017-01-04         NaN\n                ...   \n2022-07-22    0.777982\n2022-07-23    0.439100\n2022-07-24    0.183936\n2022-07-25    0.464839\n2022-07-26    0.444632\nName: log_ret, Length: 2034, dtype: float64"
     },
     "execution_count": 33,
     "metadata": {},
     "output_type": "execute_result"
    }
   ],
   "source": [
    "rv"
   ],
   "metadata": {
    "collapsed": false,
    "pycharm": {
     "name": "#%%\n"
    }
   }
  },
  {
   "cell_type": "code",
   "execution_count": 42,
   "outputs": [
    {
     "data": {
      "text/plain": "Date\n2016-12-31         NaN\n2017-01-01         NaN\n2017-01-02         NaN\n2017-01-03         NaN\n2017-01-04         NaN\n                ...   \n2022-07-22    0.157219\n2022-07-23    0.137722\n2022-07-24    0.164784\n2022-07-25    0.165999\n2022-07-26    0.163758\nName: log_ret, Length: 2034, dtype: float64"
     },
     "execution_count": 42,
     "metadata": {},
     "output_type": "execute_result"
    }
   ],
   "source": [
    "vol_vol= rv.rolling(20).std()\n",
    "vol_vol"
   ],
   "metadata": {
    "collapsed": false,
    "pycharm": {
     "name": "#%%\n"
    }
   }
  },
  {
   "cell_type": "code",
   "execution_count": 40,
   "outputs": [
    {
     "ename": "KeyError",
     "evalue": "'key of type tuple not found and not a MultiIndex'",
     "output_type": "error",
     "traceback": [
      "\u001B[0;31m---------------------------------------------------------------------------\u001B[0m",
      "\u001B[0;31mKeyError\u001B[0m                                  Traceback (most recent call last)",
      "\u001B[0;32m/var/folders/kb/1kf8hw_j5z585qrzxggc650r0000gq/T/ipykernel_41599/3260860220.py\u001B[0m in \u001B[0;36m<cell line: 1>\u001B[0;34m()\u001B[0m\n\u001B[0;32m----> 1\u001B[0;31m \u001B[0mrv\u001B[0m\u001B[0;34m[\u001B[0m\u001B[0;34m:\u001B[0m\u001B[0;34m,\u001B[0m\u001B[0;34m'log_ret'\u001B[0m\u001B[0;34m]\u001B[0m\u001B[0;34m\u001B[0m\u001B[0;34m\u001B[0m\u001B[0m\n\u001B[0m",
      "\u001B[0;32m~/opt/anaconda3/lib/python3.9/site-packages/pandas/core/series.py\u001B[0m in \u001B[0;36m__getitem__\u001B[0;34m(self, key)\u001B[0m\n\u001B[1;32m    982\u001B[0m             \u001B[0;32mreturn\u001B[0m \u001B[0mself\u001B[0m\u001B[0;34m.\u001B[0m\u001B[0m_get_values\u001B[0m\u001B[0;34m(\u001B[0m\u001B[0mkey\u001B[0m\u001B[0;34m)\u001B[0m\u001B[0;34m\u001B[0m\u001B[0;34m\u001B[0m\u001B[0m\n\u001B[1;32m    983\u001B[0m \u001B[0;34m\u001B[0m\u001B[0m\n\u001B[0;32m--> 984\u001B[0;31m         \u001B[0;32mreturn\u001B[0m \u001B[0mself\u001B[0m\u001B[0;34m.\u001B[0m\u001B[0m_get_with\u001B[0m\u001B[0;34m(\u001B[0m\u001B[0mkey\u001B[0m\u001B[0;34m)\u001B[0m\u001B[0;34m\u001B[0m\u001B[0;34m\u001B[0m\u001B[0m\n\u001B[0m\u001B[1;32m    985\u001B[0m \u001B[0;34m\u001B[0m\u001B[0m\n\u001B[1;32m    986\u001B[0m     \u001B[0;32mdef\u001B[0m \u001B[0m_get_with\u001B[0m\u001B[0;34m(\u001B[0m\u001B[0mself\u001B[0m\u001B[0;34m,\u001B[0m \u001B[0mkey\u001B[0m\u001B[0;34m)\u001B[0m\u001B[0;34m:\u001B[0m\u001B[0;34m\u001B[0m\u001B[0;34m\u001B[0m\u001B[0m\n",
      "\u001B[0;32m~/opt/anaconda3/lib/python3.9/site-packages/pandas/core/series.py\u001B[0m in \u001B[0;36m_get_with\u001B[0;34m(self, key)\u001B[0m\n\u001B[1;32m    997\u001B[0m             )\n\u001B[1;32m    998\u001B[0m         \u001B[0;32melif\u001B[0m \u001B[0misinstance\u001B[0m\u001B[0;34m(\u001B[0m\u001B[0mkey\u001B[0m\u001B[0;34m,\u001B[0m \u001B[0mtuple\u001B[0m\u001B[0;34m)\u001B[0m\u001B[0;34m:\u001B[0m\u001B[0;34m\u001B[0m\u001B[0;34m\u001B[0m\u001B[0m\n\u001B[0;32m--> 999\u001B[0;31m             \u001B[0;32mreturn\u001B[0m \u001B[0mself\u001B[0m\u001B[0;34m.\u001B[0m\u001B[0m_get_values_tuple\u001B[0m\u001B[0;34m(\u001B[0m\u001B[0mkey\u001B[0m\u001B[0;34m)\u001B[0m\u001B[0;34m\u001B[0m\u001B[0;34m\u001B[0m\u001B[0m\n\u001B[0m\u001B[1;32m   1000\u001B[0m \u001B[0;34m\u001B[0m\u001B[0m\n\u001B[1;32m   1001\u001B[0m         \u001B[0;32melif\u001B[0m \u001B[0;32mnot\u001B[0m \u001B[0mis_list_like\u001B[0m\u001B[0;34m(\u001B[0m\u001B[0mkey\u001B[0m\u001B[0;34m)\u001B[0m\u001B[0;34m:\u001B[0m\u001B[0;34m\u001B[0m\u001B[0;34m\u001B[0m\u001B[0m\n",
      "\u001B[0;32m~/opt/anaconda3/lib/python3.9/site-packages/pandas/core/series.py\u001B[0m in \u001B[0;36m_get_values_tuple\u001B[0;34m(self, key)\u001B[0m\n\u001B[1;32m   1032\u001B[0m \u001B[0;34m\u001B[0m\u001B[0m\n\u001B[1;32m   1033\u001B[0m         \u001B[0;32mif\u001B[0m \u001B[0;32mnot\u001B[0m \u001B[0misinstance\u001B[0m\u001B[0;34m(\u001B[0m\u001B[0mself\u001B[0m\u001B[0;34m.\u001B[0m\u001B[0mindex\u001B[0m\u001B[0;34m,\u001B[0m \u001B[0mMultiIndex\u001B[0m\u001B[0;34m)\u001B[0m\u001B[0;34m:\u001B[0m\u001B[0;34m\u001B[0m\u001B[0;34m\u001B[0m\u001B[0m\n\u001B[0;32m-> 1034\u001B[0;31m             \u001B[0;32mraise\u001B[0m \u001B[0mKeyError\u001B[0m\u001B[0;34m(\u001B[0m\u001B[0;34m\"key of type tuple not found and not a MultiIndex\"\u001B[0m\u001B[0;34m)\u001B[0m\u001B[0;34m\u001B[0m\u001B[0;34m\u001B[0m\u001B[0m\n\u001B[0m\u001B[1;32m   1035\u001B[0m \u001B[0;34m\u001B[0m\u001B[0m\n\u001B[1;32m   1036\u001B[0m         \u001B[0;31m# If key is contained, would have returned by now\u001B[0m\u001B[0;34m\u001B[0m\u001B[0;34m\u001B[0m\u001B[0m\n",
      "\u001B[0;31mKeyError\u001B[0m: 'key of type tuple not found and not a MultiIndex'"
     ]
    }
   ],
   "source": [
    "rv[:,'log_ret']"
   ],
   "metadata": {
    "collapsed": false,
    "pycharm": {
     "name": "#%%\n"
    }
   }
  },
  {
   "cell_type": "code",
   "execution_count": null,
   "outputs": [],
   "source": [],
   "metadata": {
    "collapsed": false,
    "pycharm": {
     "name": "#%%\n"
    }
   }
  }
 ],
 "metadata": {
  "kernelspec": {
   "display_name": "Python 3",
   "language": "python",
   "name": "python3"
  },
  "language_info": {
   "codemirror_mode": {
    "name": "ipython",
    "version": 2
   },
   "file_extension": ".py",
   "mimetype": "text/x-python",
   "name": "python",
   "nbconvert_exporter": "python",
   "pygments_lexer": "ipython2",
   "version": "2.7.6"
  }
 },
 "nbformat": 4,
 "nbformat_minor": 0
}