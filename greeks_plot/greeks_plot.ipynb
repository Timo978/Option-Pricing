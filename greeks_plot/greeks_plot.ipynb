{
 "cells": [
  {
   "cell_type": "code",
   "execution_count": null,
   "outputs": [],
   "source": [
    "import numpy as np\n",
    "import plotly as py\n",
    "import plotly.graph_objects as go\n",
    "from plotly.subplots import make_subplots\n",
    "from py_vollib_vectorized import get_all_greeks\n",
    "from plotly.offline import init_notebook_mode\n",
    "init_notebook_mode(connected = True)"
   ],
   "metadata": {
    "collapsed": false,
    "pycharm": {
     "name": "#%%\n"
    }
   }
  },
  {
   "cell_type": "code",
   "execution_count": null,
   "outputs": [],
   "source": [
    "#Theta\n",
    "#K\n",
    "theta_k = []\n",
    "\n",
    "for i in np.arange(30000,50000,100):\n",
    "    theta_k.append((get_all_greeks('c',40000,int(i),0.25,0,0.3)['theta'])[0])\n",
    "\n",
    "trace = go.Scatter(x=np.arange(30000,50000,100),\n",
    "                   y=theta_k,\n",
    "                   mode='lines',\n",
    "                   name='theta_byK')\n",
    "data = [trace]\n",
    "py.offline.iplot({'data':data,\"layout\":go.Layout(title=\"Theta by K\")})"
   ],
   "metadata": {
    "collapsed": false,
    "pycharm": {
     "name": "#%%\n"
    }
   }
  },
  {
   "cell_type": "code",
   "execution_count": null,
   "outputs": [],
   "source": [
    "#S\n",
    "theta_s = []\n",
    "\n",
    "for i in np.arange(30000,50000,100):\n",
    "    theta_s.append((get_all_greeks('c',int(i),40000,0.25,0,0.3)['theta'])[0])\n",
    "\n",
    "trace = go.Scatter(x=np.arange(30000,50000,100),\n",
    "                   y=theta_s,\n",
    "                   mode='lines',\n",
    "                   name='theta_byS')\n",
    "data = [trace]\n",
    "py.offline.iplot({'data':data,\"layout\":go.Layout(title=\"Theta by S\")})"
   ],
   "metadata": {
    "collapsed": false,
    "pycharm": {
     "name": "#%%\n"
    }
   }
  },
  {
   "cell_type": "code",
   "execution_count": null,
   "outputs": [],
   "source": [
    "#ttm\n",
    "theta_itm = []\n",
    "theta_atm = []\n",
    "theta_otm = []\n",
    "\n",
    "fig = make_subplots(2,1)\n",
    "\n",
    "for i in np.arange(0.01,0.3,0.01):\n",
    "    theta_itm.append((get_all_greeks('c', 40000, 30000, i, 0, 0.3)['theta'])[0])\n",
    "    theta_atm.append((get_all_greeks('c', 40000, 40000, i, 0, 0.3)['theta'])[0])\n",
    "    theta_otm.append((get_all_greeks('c',40000,50000,i,0,0.3)['theta'])[0])\n",
    "\n",
    "trace = go.Scatter(x=np.arange(0.01,0.3,0.01),\n",
    "                   y=theta_itm,\n",
    "                   mode='lines',\n",
    "                   name='theta_byTTM_itm')\n",
    "trace1 = go.Scatter(x=np.arange(0.01,0.3,0.01),\n",
    "                   y=theta_atm,\n",
    "                   mode='lines',\n",
    "                   name='theta_byTTM_atm')\n",
    "trace2 = go.Scatter(x=np.arange(0.01,0.3,0.01),\n",
    "                   y=theta_otm,\n",
    "                   mode='lines',\n",
    "                   name='theta_byTTM_otm')\n",
    "\n",
    "\n",
    "fig.add_trace(trace,row=1,col=1)\n",
    "fig.add_trace(trace1,row=1,col=1)\n",
    "fig.add_trace(trace2,row=1,col=1)\n",
    "\n",
    "theta_itm = []\n",
    "theta_atm = []\n",
    "theta_otm = []\n",
    "\n",
    "for i in np.arange(0.01,0.3,0.01):\n",
    "    theta_itm.append((get_all_greeks('c', 40000, 30000, i, 0, 0.3)['theta'])[0])\n",
    "    theta_atm.append((get_all_greeks('c', 40000, 40000, i, 0, 0.3)['theta'])[0])\n",
    "    theta_otm.append((get_all_greeks('c',40000,80000,i,0,0.3)['theta'])[0])\n",
    "\n",
    "trace = go.Scatter(x=np.arange(0.01,0.3,0.01),\n",
    "                   y=theta_itm,\n",
    "                   mode='lines',\n",
    "                   name='theta_byTTM_itm')\n",
    "trace1 = go.Scatter(x=np.arange(0.01,0.3,0.01),\n",
    "                   y=theta_atm,\n",
    "                   mode='lines',\n",
    "                   name='theta_byTTM_atm')\n",
    "trace2 = go.Scatter(x=np.arange(0.01,0.3,0.01),\n",
    "                   y=theta_otm,\n",
    "                   mode='lines',\n",
    "                   name='theta_byTTM_otm')\n",
    "fig.add_trace(trace,row=2,col=1)\n",
    "fig.add_trace(trace1,row=2,col=1)\n",
    "fig.add_trace(trace2,row=2,col=1)\n",
    "\n",
    "py.offline.iplot(figure_or_data=fig,image_width = 1500,image_height=1200)"
   ],
   "metadata": {
    "collapsed": false,
    "pycharm": {
     "name": "#%%\n"
    }
   }
  },
  {
   "cell_type": "markdown",
   "source": [
    "# 从上图可发现，同等价内/外程度下，***价外期权的theta会比价内的更大***\n",
    "\n",
    "可以这样去理解：价外期权的价值全由其时间价值构成，价内由其时间价值+内在价值。不去考虑他们的时间价值的绝对大小，当标的价格保持不变时（即价内期权内在价值保持不变），过去相同的时间（ttm），价外期权的时间价值与价内期权的时间价值都会减少至0，故直觉思考起来，价外的时间价值会衰减得更快\n",
    "\n",
    "并且还可发现，当价外程度变高时，价外期权的theta会更加靠近x轴，这是因为价外程度变高后，价外期权的价值更低，能够损失的时间价值也就更少了\n"
   ],
   "metadata": {
    "collapsed": false,
    "pycharm": {
     "name": "#%% md\n"
    }
   }
  },
  {
   "cell_type": "markdown",
   "source": [
    "# 总结\n",
    "+ 其他条件不变，theta随着行权价/标的价格上升而先增后减，在平值时达到最大\n",
    "+ 其他条件不变，价内/外期权的theta随到期日临近而逐渐减小至0。与此同时，平值期权的theta会不断增加\n",
    "+ 同等价内/外程度下，价外期权的Theta会比价内期权更大\n",
    "+ 当价外程度变高时，价外期权的theta会更加靠近x轴"
   ],
   "metadata": {
    "collapsed": false,
    "pycharm": {
     "name": "#%% md\n"
    }
   }
  }
 ],
 "metadata": {
  "kernelspec": {
   "display_name": "Python 3",
   "language": "python",
   "name": "python3"
  },
  "language_info": {
   "codemirror_mode": {
    "name": "ipython",
    "version": 2
   },
   "file_extension": ".py",
   "mimetype": "text/x-python",
   "name": "python",
   "nbconvert_exporter": "python",
   "pygments_lexer": "ipython2",
   "version": "2.7.6"
  }
 },
 "nbformat": 4,
 "nbformat_minor": 0
}