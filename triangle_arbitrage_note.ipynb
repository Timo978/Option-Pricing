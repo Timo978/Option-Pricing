{
 "cells": [
  {
   "cell_type": "markdown",
   "source": [
    "# 三角套利\n",
    "[链接](https://zhuanlan.zhihu.com/p/44428321)\n",
    "\n",
    "![](note_pic/v2-284b46480f0e8b50e58a69d62b92f0b7_1440w.jpg)\n",
    "\n",
    "## 正向套利\n",
    "从图中可知：\n",
    "$$\n",
    "\\begin{cases}\n",
    "\\frac{eos}{BTC} = P_1 \\\\\n",
    "\\frac{BTC}{USDT} = P_2 \\\\\n",
    "\\frac{eos}{USDT} = P_3 \\\\\n",
    "\\end{cases}\n",
    "$$\n",
    "其中，p1、p2为买入价，p3为卖出价\n",
    "\n",
    "从上方程组可知：\n",
    "$$\n",
    "\\begin{cases}\n",
    "\\frac{eos}{BTC} = P_1 \\\\\n",
    "\\frac{BTC}{USDT} = P_2 \\\\\n",
    "\\end{cases} \\Rightarrow \\frac{eos}{USDT} = P_1 P_2\n",
    "$$\n",
    "即买入一eos，需要花费$P_1P_2$个USDT。当P3等于P1 * P2时，无套利机会\n",
    "\n",
    "当$P_1P_2 < P_3$时，说明cost（购入1eos花费的P1 * P2个USDT）小于payoff（卖出1eos获得的P3个USDT），profit = (p3 - p1 * p2)个usdt\n",
    "\n",
    "此情况被称为正向套利\n",
    "\n",
    "## 反向套利\n",
    "即上述的相反情况，$P_1P_2 > P_3$。套利过程为：\n",
    "1. 卖出1个eos，获得p1个btc\n",
    "2. 将上一步得到的p1个btc全部卖出，获得p1 * p2个usdt\n",
    "3. 从图中可知，如果直接用usdt买入eos，汇率为1 eos = p3 usdt\n",
    "4. 平掉eos空仓，如果获得的usdt（p1 * p2）大于花费的usdt（p3），则获利"
   ],
   "metadata": {
    "collapsed": false,
    "pycharm": {
     "name": "#%% md\n"
    }
   }
  },
  {
   "cell_type": "code",
   "execution_count": 30,
   "outputs": [],
   "source": [
    "import ccxt\n",
    "import pandas as pd\n",
    "import time\n",
    "\n",
    "pd.set_option('expand_frame_repr', False)"
   ],
   "metadata": {
    "collapsed": false,
    "pycharm": {
     "name": "#%%\n"
    }
   }
  },
  {
   "cell_type": "code",
   "execution_count": 31,
   "outputs": [],
   "source": [
    "# 初始化交易所\n",
    "okex_exchange = ccxt.okex({\n",
    "    'Timeout': 15000,\n",
    "    'enableRateLimit': True\n",
    "})\n",
    "\n",
    "# 加载行情\n",
    "markets = okex_exchange.load_markets()"
   ],
   "metadata": {
    "collapsed": false,
    "pycharm": {
     "name": "#%%\n"
    }
   }
  },
  {
   "cell_type": "code",
   "execution_count": 32,
   "outputs": [],
   "source": [
    "# == Step.1 选择两个交易市场 A, B\n",
    "market_a = 'BTC'\n",
    "market_b = 'ETH'\n",
    "# == Step.1 END ================="
   ],
   "metadata": {
    "collapsed": false,
    "pycharm": {
     "name": "#%%\n"
    }
   }
  },
  {
   "cell_type": "code",
   "execution_count": 33,
   "outputs": [],
   "source": [
    "# == Step.2 找到所有同时以 A 和 B 都作为计价的货币\n",
    "# 市场内的交易对\n",
    "symbols = list(markets.keys())\n",
    "\n",
    "# 存放到DataFrame中\n",
    "symbols_df = pd.DataFrame(data=symbols, columns=['symbol'])\n",
    "\n",
    "# 分割字符串得到 基础货币/计价货币\n",
    "base_quote_df = symbols_df['symbol'].str.split(pat='/', expand=True)\n",
    "base_quote_df.columns = ['base', 'quote']\n",
    "\n",
    "# 过滤得到以 A, B 计价的计价货币\n",
    "base_a_list = base_quote_df[base_quote_df['quote'] == market_a]['base'].values.tolist()\n",
    "base_b_list = base_quote_df[base_quote_df['quote'] == market_b]['base'].values.tolist()\n",
    "\n",
    "# 获取相同的基础货币列表\n",
    "common_base_list = list(set(base_a_list).intersection(set(base_b_list))) # intersection:获得多个参数中相同的部分\n",
    "# print('{} and {} have {}个相同的计价货币'.format(market_a, market_b, len(common_base_list)))\n",
    "# == Step.2 END ================="
   ],
   "metadata": {
    "collapsed": false,
    "pycharm": {
     "name": "#%%\n"
    }
   }
  },
  {
   "cell_type": "code",
   "execution_count": 34,
   "outputs": [
    {
     "name": "stdout",
     "output_type": "stream",
     "text": [
      "no history data received\n",
      "no history data received\n",
      "no history data received\n",
      "no history data received\n",
      "no history data received\n",
      "no history data received\n",
      "no history data received\n",
      "no history data received\n",
      "no history data received\n",
      "no history data received\n",
      "no history data received\n",
      "no history data received\n",
      "no history data received\n",
      "  Market A Market B Market C       P1        P2        P3  Profit in %\n",
      "0      BTC      ETH     MANA  0.07459  0.000522  0.000039  -994.428613\n",
      "  Market A Market B Market C       P1      P2        P3  Profit in %\n",
      "1      BTC      ETH     DASH  0.07459  0.0303  0.002258  -994.441445\n",
      "  Market A Market B Market C       P1        P2        P3  Profit in %\n",
      "2      BTC      ETH      XLM  0.07459  0.000071  0.000005  -994.440038\n",
      "  Market A Market B Market C       P1       P2        P3  Profit in %\n",
      "3      BTC      ETH     LINK  0.07459  0.00437  0.000326   -994.43562\n",
      "  Market A Market B Market C       P1        P2       P3  Profit in %\n",
      "4      BTC      ETH     NULS  0.07459  0.000135  0.00001  -994.425088\n",
      "  Market A Market B Market C       P1       P2        P3  Profit in %\n",
      "5      BTC      ETH      OKT  0.07459  0.01096  0.000818  -994.432973\n",
      "  Market A Market B Market C       P1        P2        P3  Profit in %\n",
      "6      BTC      ETH      DOT  0.07459  0.004745  0.000354   -994.43994\n",
      "  Market A Market B Market C       P1        P2        P3  Profit in %\n",
      "7      BTC      ETH     ATOM  0.07459  0.007479  0.000558  -994.430932\n",
      "  Market A Market B Market C       P1       P2        P3  Profit in %\n",
      "8      BTC      ETH     FLOW  0.07459  0.00121  0.000091  -994.396503\n",
      "  Market A Market B Market C       P1      P2        P3  Profit in %\n",
      "9      BTC      ETH     AAVE  0.07459  0.0549  0.004093  -994.439037\n",
      "   Market A Market B Market C       P1        P2        P3  Profit in %\n",
      "10      BTC      ETH      EOS  0.07459  0.001015  0.000076  -994.436982\n",
      "   Market A Market B Market C       P1       P2        P3  Profit in %\n",
      "11      BTC      ETH     QTUM  0.07459  0.00208  0.000156  -994.416508\n",
      "   Market A Market B Market C       P1       P2        P3  Profit in %\n",
      "12      BTC      ETH      NEO  0.07459  0.00613  0.000458  -994.427044\n",
      "   Market A Market B Market C       P1     P2       P3  Profit in %\n",
      "13      BTC      ETH      KSM  0.07459  0.031  0.00231  -994.441842\n",
      "   Market A Market B Market C       P1        P2        P3  Profit in %\n",
      "14      BTC      ETH     NEAR  0.07459  0.002607  0.000195  -994.433646\n",
      "   Market A Market B Market C       P1        P2        P3  Profit in %\n",
      "15      BTC      ETH      TRX  0.07459  0.000042  0.000003  -994.437236\n",
      "   Market A Market B Market C       P1      P2        P3  Profit in %\n",
      "16      BTC      ETH      ZEC  0.07459  0.0411  0.003071  -994.426621\n",
      "   Market A Market B Market C       P1      P2       P3  Profit in %\n",
      "17      BTC      ETH      LTC  0.07459  0.0355  0.00265  -994.432014\n",
      "   Market A Market B Market C       P1        P2        P3  Profit in %\n",
      "18      BTC      ETH      XRP  0.07459  0.000223  0.000017  -994.420802\n",
      "   Market A Market B Market C       P1      P2        P3  Profit in %\n",
      "19      BTC      ETH      ADA  0.07459  0.0003  0.000022  -994.425641\n",
      "   Market A Market B Market C       P1       P2        P3  Profit in %\n",
      "20      BTC      ETH      SOL  0.07459  0.02124  0.001584  -994.438409\n",
      "   Market A Market B Market C       P1    P2     P3  Profit in %\n",
      "21      BTC      ETH      YFI  0.07459  5.97  0.445  -994.440109\n",
      "   Market A Market B Market C       P1        P2        P3  Profit in %\n",
      "22      BTC      ETH      UNI  0.07459  0.004055  0.000302   -994.43932\n"
     ]
    }
   ],
   "source": [
    "# == Step.3 执行套利步骤\n",
    "\n",
    "# 结果保存到DataFrame中\n",
    "columns = ['Market A',\n",
    "           'Market B',\n",
    "           'Market C',\n",
    "           'P1',\n",
    "           'P2',\n",
    "           'P3',\n",
    "           'Profit in %']\n",
    "\n",
    "results_df = pd.DataFrame(columns=columns)\n",
    "\n",
    "# 获取前一分钟的close价格\n",
    "last_min = okex_exchange.milliseconds() - 60 * 1000  # 前一分钟\n",
    "\n",
    "for base_coin in common_base_list:\n",
    "    market_c = base_coin\n",
    "    market_a2b_symbol = '{}/{}'.format(market_b, market_a)\n",
    "    market_b2c_symbol = '{}/{}'.format(market_c, market_b)\n",
    "    market_a2c_symbol = '{}/{}'.format(market_c, market_a)\n",
    "\n",
    "    # 获取行情前一分钟的K线数据(这里无法获取当前一分钟的K线数据，日后检查）\n",
    "    market_a2b_kline = okex_exchange.fetch_ohlcv(market_a2b_symbol, since=last_min, limit=1, timeframe='1m')\n",
    "    market_b2c_kline = okex_exchange.fetch_ohlcv(market_b2c_symbol, since=last_min, limit=1, timeframe='1m')\n",
    "    market_a2c_kline = okex_exchange.fetch_ohlcv(market_a2c_symbol, since=last_min, limit=1, timeframe='1m')\n",
    "\n",
    "    if len(market_a2b_kline) == 0 or len(market_b2c_kline) == 0 or market_a2c_kline == 0:\n",
    "        print('no history data received')\n",
    "        pass\n",
    "    else:\n",
    "        # 获取行情前一分钟的交易对价格\n",
    "        p1 = market_a2b_kline[0][4]\n",
    "        p2 = market_b2c_kline[0][4]\n",
    "        p3 = market_a2c_kline[0][4]\n",
    "\n",
    "        # 价差\n",
    "        profit = (p3 / (p1 * p2) - 1) * 1000\n",
    "        '''\n",
    "        p1 = eth/btc\n",
    "        p2 = x/eth\n",
    "        p3 = x/btc\n",
    "        '''\n",
    "        results_df = results_df.append({\n",
    "            'Market A': market_a,\n",
    "            'Market B': market_b,\n",
    "            'Market C': market_c,\n",
    "            'P1': p1,\n",
    "            'P2': p2,\n",
    "            'P3': p3,\n",
    "            'Profit in %': profit\n",
    "        }, ignore_index=True)\n",
    "\n",
    "        # 显示信息\n",
    "        print(results_df.tail(1))\n",
    "\n",
    "        # 防止超过rate limit\n",
    "        time.sleep(okex_exchange.rateLimit / 1000)\n",
    "# == Step.3 END ================="
   ],
   "metadata": {
    "collapsed": false,
    "pycharm": {
     "name": "#%%\n"
    }
   }
  },
  {
   "cell_type": "code",
   "execution_count": null,
   "outputs": [],
   "source": [],
   "metadata": {
    "collapsed": false,
    "pycharm": {
     "name": "#%%\n"
    }
   }
  }
 ],
 "metadata": {
  "kernelspec": {
   "display_name": "Python 3",
   "language": "python",
   "name": "python3"
  },
  "language_info": {
   "codemirror_mode": {
    "name": "ipython",
    "version": 2
   },
   "file_extension": ".py",
   "mimetype": "text/x-python",
   "name": "python",
   "nbconvert_exporter": "python",
   "pygments_lexer": "ipython2",
   "version": "2.7.6"
  }
 },
 "nbformat": 4,
 "nbformat_minor": 0
}