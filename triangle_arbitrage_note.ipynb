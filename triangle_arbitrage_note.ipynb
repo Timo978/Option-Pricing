{
 "cells": [
  {
   "cell_type": "markdown",
   "source": [
    "# 三角套利\n",
    "[链接](https://zhuanlan.zhihu.com/p/44428321)\n",
    "\n",
    "![](note_pic/v2-284b46480f0e8b50e58a69d62b92f0b7_1440w.jpg)\n",
    "\n",
    "## 正向套利\n",
    "从图中可知：\n",
    "$$\n",
    "\\begin{cases}\n",
    "\\frac{eos}{BTC} = P_1 \\\\\n",
    "\\frac{BTC}{USDT} = P_2 \\\\\n",
    "\\frac{eos}{USDT} = P_3 \\\\\n",
    "\\end{cases}\n",
    "$$\n",
    "其中，p1、p2为买入价，p3为卖出价\n",
    "\n",
    "从上方程组可知：\n",
    "$$\n",
    "\\begin{cases}\n",
    "\\frac{eos}{BTC} = P_1 \\\\\n",
    "\\frac{BTC}{USDT} = P_2 \\\\\n",
    "\\end{cases} \\Rightarrow \\frac{eos}{USDT} = P_1 P_2\n",
    "$$\n",
    "即买入一eos，需要花费$P_1P_2$个USDT。当P3等于P1 * P2时，无套利机会\n",
    "\n",
    "当$P_1P_2 < P_3$时，说明cost（购入1eos花费的P1 * P2个USDT）小于payoff（卖出1eos获得的P3个USDT），profit = (p3 - p1 * p2)个usdt\n",
    "\n",
    "此情况被称为正向套利\n",
    "\n",
    "## 反向套利\n",
    "即上述的相反情况，$P_1P_2 > P_3$。套利过程为：\n",
    "1. 卖出1个eos，获得p1个btc\n",
    "2. 将上一步得到的p1个btc全部卖出，获得p1 * p2个usdt\n",
    "3. 从图中可知，如果直接用usdt买入eos，汇率为1 eos = p3 usdt\n",
    "4. 平掉eos空仓，如果获得的usdt（p1 * p2）大于花费的usdt（p3），则获利"
   ],
   "metadata": {
    "collapsed": false,
    "pycharm": {
     "name": "#%% md\n"
    }
   }
  },
  {
   "cell_type": "code",
   "execution_count": 6,
   "outputs": [],
   "source": [
    "import ccxt\n",
    "import pandas as pd\n",
    "import time\n",
    "\n",
    "pd.set_option('expand_frame_repr', False)"
   ],
   "metadata": {
    "collapsed": false,
    "pycharm": {
     "name": "#%%\n"
    }
   }
  },
  {
   "cell_type": "code",
   "execution_count": 7,
   "outputs": [],
   "source": [
    "# 初始化交易所\n",
    "okex_exchange = ccxt.okex({\n",
    "    'Timeout': 15000,\n",
    "    'enableRateLimit': True\n",
    "})\n",
    "\n",
    "# 加载行情\n",
    "markets = okex_exchange.load_markets()"
   ],
   "metadata": {
    "collapsed": false,
    "pycharm": {
     "name": "#%%\n"
    }
   }
  },
  {
   "cell_type": "code",
   "execution_count": 8,
   "outputs": [],
   "source": [
    "# == Step.1 选择两个交易市场 A, B\n",
    "market_a = 'BTC'\n",
    "market_b = 'ETH'\n",
    "# == Step.1 END ================="
   ],
   "metadata": {
    "collapsed": false,
    "pycharm": {
     "name": "#%%\n"
    }
   }
  },
  {
   "cell_type": "code",
   "execution_count": 9,
   "outputs": [],
   "source": [
    "# == Step.2 找到所有同时以 A 和 B 都作为计价的货币\n",
    "# 市场内的交易对\n",
    "symbols = list(markets.keys())\n",
    "\n",
    "# 存放到DataFrame中\n",
    "symbols_df = pd.DataFrame(data=symbols, columns=['symbol'])\n",
    "\n",
    "# 分割字符串得到 基础货币/计价货币\n",
    "base_quote_df = symbols_df['symbol'].str.split(pat='/', expand=True)\n",
    "base_quote_df.columns = ['base', 'quote']\n",
    "\n",
    "# 过滤得到以 A, B 计价的计价货币\n",
    "base_a_list = base_quote_df[base_quote_df['quote'] == market_a]['base'].values.tolist()\n",
    "base_b_list = base_quote_df[base_quote_df['quote'] == market_b]['base'].values.tolist()\n",
    "\n",
    "# 获取相同的基础货币列表\n",
    "common_base_list = list(set(base_a_list).intersection(set(base_b_list))) # intersection:获得多个参数中相同的部分\n",
    "# print('{} and {} have {}个相同的计价货币'.format(market_a, market_b, len(common_base_list)))\n",
    "# == Step.2 END ================="
   ],
   "metadata": {
    "collapsed": false,
    "pycharm": {
     "name": "#%%\n"
    }
   }
  },
  {
   "cell_type": "code",
   "execution_count": 27,
   "outputs": [
    {
     "name": "stdout",
     "output_type": "stream",
     "text": [
      "NULS:no history data received\n",
      "----------------------------------------------------------------\n",
      "XLM:no history data received\n",
      "----------------------------------------------------------------\n",
      "YFI:no history data received\n",
      "----------------------------------------------------------------\n",
      "QTUM:no history data received\n",
      "----------------------------------------------------------------\n",
      "MKR:no history data received\n",
      "----------------------------------------------------------------\n",
      "LTC:no history data received\n",
      "----------------------------------------------------------------\n",
      "OKT:no history data received\n",
      "----------------------------------------------------------------\n",
      "AAVE:no history data received\n",
      "----------------------------------------------------------------\n",
      "ETC:no history data received\n",
      "----------------------------------------------------------------\n",
      "KSM:no history data received\n",
      "----------------------------------------------------------------\n",
      "FLOW:no history data received\n",
      "----------------------------------------------------------------\n",
      "DOT:no history data received\n",
      "----------------------------------------------------------------\n",
      "OKB:no history data received\n",
      "----------------------------------------------------------------\n",
      "CRV:no history data received\n",
      "----------------------------------------------------------------\n",
      "ATOM:no history data received\n",
      "----------------------------------------------------------------\n",
      "  Market A Market B Market C       P1        P2        P3  Profit in %\n",
      "0      BTC      ETH      EOS  0.07409  0.001021  0.000076    -0.606642\n",
      "----------------------------------------------------------------\n",
      "  Market A Market B Market C       P1       P2        P3  Profit in %\n",
      "1      BTC      ETH      XMR  0.07409  0.09852  0.007308     1.185476\n",
      "----------------------------------------------------------------\n",
      "  Market A Market B Market C       P1        P2        P3  Profit in %\n",
      "2      BTC      ETH      XRP  0.07409  0.000227  0.000017    -0.501236\n",
      "----------------------------------------------------------------\n",
      "  Market A Market B Market C       P1      P2        P3  Profit in %\n",
      "3      BTC      ETH      FIL  0.07409  0.0039  0.000289     0.169579\n",
      "----------------------------------------------------------------\n",
      "  Market A Market B Market C       P1       P2       P3  Profit in %\n",
      "4      BTC      ETH      NEO  0.07409  0.00619  0.00046     3.015369\n",
      "----------------------------------------------------------------\n",
      "  Market A Market B Market C       P1       P2        P3  Profit in %\n",
      "5      BTC      ETH      GAS  0.07409  0.00167  0.000122   -10.751611\n",
      "----------------------------------------------------------------\n",
      "  Market A Market B Market C       P1        P2            P3  Profit in %\n",
      "6      BTC      ETH    SWFTC  0.07409  0.000001  8.530000e-08     1.132583\n",
      "----------------------------------------------------------------\n",
      "  Market A Market B Market C       P1        P2        P3  Profit in %\n",
      "7      BTC      ETH     NEAR  0.07409  0.002615  0.000194     0.540142\n",
      "----------------------------------------------------------------\n",
      "  Market A Market B Market C       P1        P2        P3  Profit in %\n",
      "8      BTC      ETH      UNI  0.07409  0.004017  0.000298    -0.065621\n",
      "----------------------------------------------------------------\n",
      "  Market A Market B Market C       P1        P2        P3  Profit in %\n",
      "9      BTC      ETH     MANA  0.07409  0.000527  0.000039     1.339804\n",
      "----------------------------------------------------------------\n",
      "   Market A Market B Market C       P1      P2        P3  Profit in %\n",
      "10      BTC      ETH      ZEC  0.07409  0.0419  0.003105     0.202618\n",
      "----------------------------------------------------------------\n",
      "   Market A Market B Market C       P1       P2        P3  Profit in %\n",
      "11      BTC      ETH      SOL  0.07409  0.02139  0.001585     0.324902\n",
      "----------------------------------------------------------------\n",
      "   Market A Market B Market C       P1      P2        P3  Profit in %\n",
      "12      BTC      ETH     DASH  0.07409  0.0306  0.002268     0.373155\n",
      "----------------------------------------------------------------\n",
      "   Market A Market B Market C       P1    P2      P3  Profit in %\n",
      "13      BTC      ETH     WBTC  0.07409  13.5  1.0001    -0.114975\n",
      "----------------------------------------------------------------\n",
      "   Market A Market B Market C       P1      P2        P3  Profit in %\n",
      "14      BTC      ETH     LINK  0.07409  0.0044  0.000326      0.01227\n",
      "----------------------------------------------------------------\n",
      "   Market A Market B Market C       P1        P2        P3  Profit in %\n",
      "15      BTC      ETH      ADA  0.07409  0.000299  0.000022    -1.034176\n",
      "----------------------------------------------------------------\n",
      "   Market A Market B Market C       P1        P2        P3  Profit in %\n",
      "16      BTC      ETH      TRX  0.07409  0.000042  0.000003     0.256977\n",
      "----------------------------------------------------------------\n",
      "   Market A Market B Market C       P1        P2            P3  Profit in %\n",
      "17      BTC      ETH      INT  0.07409  0.000002  1.810000e-07     1.219164\n",
      "----------------------------------------------------------------\n",
      "   Market A Market B Market C       P1        P2        P3  Profit in %\n",
      "18      BTC      ETH     DOGE  0.07409  0.000043  0.000003    -1.026844\n",
      "----------------------------------------------------------------\n",
      "   Market A Market B Market C       P1        P2            P3  Profit in %\n",
      "19      BTC      ETH     IOST  0.07409  0.000009  6.570000e-07      0.85705\n",
      "----------------------------------------------------------------\n",
      "   Market A Market B Market C       P1       P2        P3  Profit in %\n",
      "20      BTC      ETH     AVAX  0.07409  0.01352  0.001001    -0.495958\n",
      "----------------------------------------------------------------\n"
     ]
    }
   ],
   "source": [
    "# == Step.3 执行套利步骤\n",
    "\n",
    "# 结果保存到DataFrame中\n",
    "columns = ['Market A',\n",
    "           'Market B',\n",
    "           'Market C',\n",
    "           'P1',\n",
    "           'P2',\n",
    "           'P3',\n",
    "           'Profit in %']\n",
    "\n",
    "results_df = pd.DataFrame(columns=columns)\n",
    "\n",
    "# 获取前一分钟的close价格\n",
    "last_min = okex_exchange.milliseconds() - 60 * 1000  # 前一分钟\n",
    "\n",
    "for base_coin in common_base_list:\n",
    "    market_c = base_coin\n",
    "    market_a2b_symbol = '{}/{}'.format(market_b, market_a)\n",
    "    market_b2c_symbol = '{}/{}'.format(market_c, market_b)\n",
    "    market_a2c_symbol = '{}/{}'.format(market_c, market_a)\n",
    "\n",
    "    # 获取行情前一分钟的K线数据(这里无法获取当前一分钟的K线数据，日后检查）\n",
    "    market_a2b_kline = okex_exchange.fetch_ohlcv(market_a2b_symbol, since=last_min, limit=1, timeframe='1m')\n",
    "    market_b2c_kline = okex_exchange.fetch_ohlcv(market_b2c_symbol, since=last_min, limit=1, timeframe='1m')\n",
    "    market_a2c_kline = okex_exchange.fetch_ohlcv(market_a2c_symbol, since=last_min, limit=1, timeframe='1m')\n",
    "\n",
    "    if len(market_a2b_kline) == 0 or len(market_b2c_kline) == 0 or market_a2c_kline == 0:\n",
    "        print(f'{market_c}:no history data received')\n",
    "        print('-'*64)\n",
    "        pass\n",
    "    else:\n",
    "        p1 = market_a2b_kline[0][4]\n",
    "        p2 = market_b2c_kline[0][4]\n",
    "        p3 = market_a2c_kline[0][4]\n",
    "\n",
    "        # 价差\n",
    "        profit = (p3 / (p1 * p2) - 1) * 1000\n",
    "        '''\n",
    "        p1 = eth/btc\n",
    "        p2 = x/eth\n",
    "        p3 = x/btc\n",
    "        '''\n",
    "        results_df = results_df.append({\n",
    "            'Market A': market_a,\n",
    "            'Market B': market_b,\n",
    "            'Market C': market_c,\n",
    "            'P1': p1,\n",
    "            'P2': p2,\n",
    "            'P3': p3,\n",
    "            'Profit in %': profit\n",
    "        }, ignore_index=True)\n",
    "\n",
    "        # 显示信息\n",
    "        print(results_df.tail(1))\n",
    "        print('-'*64)\n",
    "\n",
    "        # # 防止超过rate limit\n",
    "        # time.sleep(okex_exchange.rateLimit / 1000)"
   ],
   "metadata": {
    "collapsed": false,
    "pycharm": {
     "name": "#%%\n"
    }
   }
  },
  {
   "cell_type": "code",
   "execution_count": null,
   "outputs": [],
   "source": [],
   "metadata": {
    "collapsed": false,
    "pycharm": {
     "name": "#%%\n"
    }
   }
  }
 ],
 "metadata": {
  "kernelspec": {
   "display_name": "Python 3",
   "language": "python",
   "name": "python3"
  },
  "language_info": {
   "codemirror_mode": {
    "name": "ipython",
    "version": 2
   },
   "file_extension": ".py",
   "mimetype": "text/x-python",
   "name": "python",
   "nbconvert_exporter": "python",
   "pygments_lexer": "ipython2",
   "version": "2.7.6"
  }
 },
 "nbformat": 4,
 "nbformat_minor": 0
}